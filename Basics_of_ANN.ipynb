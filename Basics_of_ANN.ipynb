{
  "nbformat": 4,
  "nbformat_minor": 0,
  "metadata": {
    "kernelspec": {
      "display_name": "Python 3",
      "language": "python",
      "name": "python3"
    },
    "language_info": {
      "codemirror_mode": {
        "name": "ipython",
        "version": 3
      },
      "file_extension": ".py",
      "mimetype": "text/x-python",
      "name": "python",
      "nbconvert_exporter": "python",
      "pygments_lexer": "ipython3",
      "version": "3.8.5"
    },
    "toc": {
      "base_numbering": 1,
      "nav_menu": {},
      "number_sections": true,
      "sideBar": true,
      "skip_h1_title": false,
      "title_cell": "Table of Contents",
      "title_sidebar": "Contents",
      "toc_cell": false,
      "toc_position": {
        "height": "calc(100% - 180px)",
        "left": "10px",
        "top": "150px",
        "width": "165px"
      },
      "toc_section_display": true,
      "toc_window_display": false
    },
    "colab": {
      "name": "Basics of ANN.ipynb",
      "provenance": [],
      "include_colab_link": true
    }
  },
  "cells": [
    {
      "cell_type": "markdown",
      "metadata": {
        "id": "view-in-github",
        "colab_type": "text"
      },
      "source": [
        "<a href=\"https://colab.research.google.com/github/sandeshwar/Deep_Learning_Tutorial/blob/master/Basics_of_ANN.ipynb\" target=\"_parent\"><img src=\"https://colab.research.google.com/assets/colab-badge.svg\" alt=\"Open In Colab\"/></a>"
      ]
    },
    {
      "cell_type": "code",
      "metadata": {
        "ExecuteTime": {
          "end_time": "2021-08-07T11:01:53.567030Z",
          "start_time": "2021-08-07T11:01:52.569998Z"
        },
        "id": "VQ58Iy0-lJYc"
      },
      "source": [
        "import pandas as pd\n",
        "import numpy as np"
      ],
      "execution_count": null,
      "outputs": []
    },
    {
      "cell_type": "code",
      "metadata": {
        "ExecuteTime": {
          "end_time": "2021-08-07T11:01:53.613354Z",
          "start_time": "2021-08-07T11:01:53.569262Z"
        },
        "id": "AKY2SXoYlJYd"
      },
      "source": [
        "churn=pd.read_csv(\"./Churn.csv\")"
      ],
      "execution_count": null,
      "outputs": []
    },
    {
      "cell_type": "code",
      "metadata": {
        "ExecuteTime": {
          "end_time": "2021-05-23T08:48:40.959126Z",
          "start_time": "2021-05-23T08:48:40.946550Z"
        },
        "id": "VV12811plJYe"
      },
      "source": [
        "# What is the shape of the dataset?\n",
        "# WHat are different catgeorical and numerical columns(features) in the data?\n",
        "# What is the distribution of numerical data and the qualitative data.\n",
        "\n",
        "# Problem Statement"
      ],
      "execution_count": null,
      "outputs": []
    },
    {
      "cell_type": "code",
      "metadata": {
        "ExecuteTime": {
          "end_time": "2021-08-07T11:18:20.657349Z",
          "start_time": "2021-08-07T11:18:20.614614Z"
        },
        "id": "Oe2_7RqOlJYf",
        "outputId": "c40ff06b-3b72-429f-a376-f4aed8009a47"
      },
      "source": [
        "churn['Exited'].value_counts(normalize=True)"
      ],
      "execution_count": null,
      "outputs": [
        {
          "output_type": "execute_result",
          "data": {
            "text/plain": [
              "0    0.7963\n",
              "1    0.2037\n",
              "Name: Exited, dtype: float64"
            ]
          },
          "metadata": {
            "tags": []
          },
          "execution_count": 5
        }
      ]
    },
    {
      "cell_type": "code",
      "metadata": {
        "ExecuteTime": {
          "end_time": "2021-08-07T11:23:02.756613Z",
          "start_time": "2021-08-07T11:23:02.673603Z"
        },
        "id": "mmbTFvqLlJYg",
        "outputId": "26018eec-7baf-443b-b9a4-d76d89288a21"
      },
      "source": [
        "churn.groupby(by='Exited').mean()"
      ],
      "execution_count": null,
      "outputs": [
        {
          "output_type": "execute_result",
          "data": {
            "text/html": [
              "<div>\n",
              "<style scoped>\n",
              "    .dataframe tbody tr th:only-of-type {\n",
              "        vertical-align: middle;\n",
              "    }\n",
              "\n",
              "    .dataframe tbody tr th {\n",
              "        vertical-align: top;\n",
              "    }\n",
              "\n",
              "    .dataframe thead th {\n",
              "        text-align: right;\n",
              "    }\n",
              "</style>\n",
              "<table border=\"1\" class=\"dataframe\">\n",
              "  <thead>\n",
              "    <tr style=\"text-align: right;\">\n",
              "      <th></th>\n",
              "      <th>RowNumber</th>\n",
              "      <th>CustomerId</th>\n",
              "      <th>CreditScore</th>\n",
              "      <th>Age</th>\n",
              "      <th>Tenure</th>\n",
              "      <th>Balance</th>\n",
              "      <th>NumOfProducts</th>\n",
              "      <th>HasCrCard</th>\n",
              "      <th>IsActiveMember</th>\n",
              "      <th>EstimatedSalary</th>\n",
              "    </tr>\n",
              "    <tr>\n",
              "      <th>Exited</th>\n",
              "      <th></th>\n",
              "      <th></th>\n",
              "      <th></th>\n",
              "      <th></th>\n",
              "      <th></th>\n",
              "      <th></th>\n",
              "      <th></th>\n",
              "      <th></th>\n",
              "      <th></th>\n",
              "      <th></th>\n",
              "    </tr>\n",
              "  </thead>\n",
              "  <tbody>\n",
              "    <tr>\n",
              "      <th>0</th>\n",
              "      <td>5024.694964</td>\n",
              "      <td>1.569117e+07</td>\n",
              "      <td>651.853196</td>\n",
              "      <td>37.408389</td>\n",
              "      <td>5.033279</td>\n",
              "      <td>72745.296779</td>\n",
              "      <td>1.544267</td>\n",
              "      <td>0.707146</td>\n",
              "      <td>0.554565</td>\n",
              "      <td>99738.391772</td>\n",
              "    </tr>\n",
              "    <tr>\n",
              "      <th>1</th>\n",
              "      <td>4905.917526</td>\n",
              "      <td>1.569005e+07</td>\n",
              "      <td>645.351497</td>\n",
              "      <td>44.837997</td>\n",
              "      <td>4.932744</td>\n",
              "      <td>91108.539337</td>\n",
              "      <td>1.475209</td>\n",
              "      <td>0.699067</td>\n",
              "      <td>0.360825</td>\n",
              "      <td>101465.677531</td>\n",
              "    </tr>\n",
              "  </tbody>\n",
              "</table>\n",
              "</div>"
            ],
            "text/plain": [
              "          RowNumber    CustomerId  CreditScore        Age    Tenure  \\\n",
              "Exited                                                                \n",
              "0       5024.694964  1.569117e+07   651.853196  37.408389  5.033279   \n",
              "1       4905.917526  1.569005e+07   645.351497  44.837997  4.932744   \n",
              "\n",
              "             Balance  NumOfProducts  HasCrCard  IsActiveMember  \\\n",
              "Exited                                                           \n",
              "0       72745.296779       1.544267   0.707146        0.554565   \n",
              "1       91108.539337       1.475209   0.699067        0.360825   \n",
              "\n",
              "        EstimatedSalary  \n",
              "Exited                   \n",
              "0          99738.391772  \n",
              "1         101465.677531  "
            ]
          },
          "metadata": {
            "tags": []
          },
          "execution_count": 6
        }
      ]
    },
    {
      "cell_type": "code",
      "metadata": {
        "ExecuteTime": {
          "end_time": "2021-08-07T11:25:17.662523Z",
          "start_time": "2021-08-07T11:25:17.636719Z"
        },
        "id": "Xj6es94NlJYg",
        "outputId": "b0316b26-253c-43c2-9b98-ceed33a186b3"
      },
      "source": [
        "churn.groupby(by='Exited').median()"
      ],
      "execution_count": null,
      "outputs": [
        {
          "output_type": "execute_result",
          "data": {
            "text/html": [
              "<div>\n",
              "<style scoped>\n",
              "    .dataframe tbody tr th:only-of-type {\n",
              "        vertical-align: middle;\n",
              "    }\n",
              "\n",
              "    .dataframe tbody tr th {\n",
              "        vertical-align: top;\n",
              "    }\n",
              "\n",
              "    .dataframe thead th {\n",
              "        text-align: right;\n",
              "    }\n",
              "</style>\n",
              "<table border=\"1\" class=\"dataframe\">\n",
              "  <thead>\n",
              "    <tr style=\"text-align: right;\">\n",
              "      <th></th>\n",
              "      <th>RowNumber</th>\n",
              "      <th>CustomerId</th>\n",
              "      <th>CreditScore</th>\n",
              "      <th>Age</th>\n",
              "      <th>Tenure</th>\n",
              "      <th>Balance</th>\n",
              "      <th>NumOfProducts</th>\n",
              "      <th>HasCrCard</th>\n",
              "      <th>IsActiveMember</th>\n",
              "      <th>EstimatedSalary</th>\n",
              "    </tr>\n",
              "    <tr>\n",
              "      <th>Exited</th>\n",
              "      <th></th>\n",
              "      <th></th>\n",
              "      <th></th>\n",
              "      <th></th>\n",
              "      <th></th>\n",
              "      <th></th>\n",
              "      <th></th>\n",
              "      <th></th>\n",
              "      <th></th>\n",
              "      <th></th>\n",
              "    </tr>\n",
              "  </thead>\n",
              "  <tbody>\n",
              "    <tr>\n",
              "      <th>0</th>\n",
              "      <td>5042</td>\n",
              "      <td>15691543</td>\n",
              "      <td>653</td>\n",
              "      <td>36</td>\n",
              "      <td>5</td>\n",
              "      <td>92072.68</td>\n",
              "      <td>2</td>\n",
              "      <td>1</td>\n",
              "      <td>1</td>\n",
              "      <td>99645.04</td>\n",
              "    </tr>\n",
              "    <tr>\n",
              "      <th>1</th>\n",
              "      <td>4871</td>\n",
              "      <td>15688963</td>\n",
              "      <td>646</td>\n",
              "      <td>45</td>\n",
              "      <td>5</td>\n",
              "      <td>109349.29</td>\n",
              "      <td>1</td>\n",
              "      <td>1</td>\n",
              "      <td>0</td>\n",
              "      <td>102460.84</td>\n",
              "    </tr>\n",
              "  </tbody>\n",
              "</table>\n",
              "</div>"
            ],
            "text/plain": [
              "        RowNumber  CustomerId  CreditScore  Age  Tenure    Balance  \\\n",
              "Exited                                                               \n",
              "0            5042    15691543          653   36       5   92072.68   \n",
              "1            4871    15688963          646   45       5  109349.29   \n",
              "\n",
              "        NumOfProducts  HasCrCard  IsActiveMember  EstimatedSalary  \n",
              "Exited                                                             \n",
              "0                   2          1               1         99645.04  \n",
              "1                   1          1               0        102460.84  "
            ]
          },
          "metadata": {
            "tags": []
          },
          "execution_count": 7
        }
      ]
    },
    {
      "cell_type": "code",
      "metadata": {
        "ExecuteTime": {
          "end_time": "2021-08-07T11:27:32.152515Z",
          "start_time": "2021-08-07T11:27:32.108806Z"
        },
        "id": "_wiECGMplJYh",
        "outputId": "1268dac9-cc2f-467d-cb41-036c3be494d7"
      },
      "source": [
        "churn[churn['Exited']==0].describe()"
      ],
      "execution_count": null,
      "outputs": [
        {
          "output_type": "execute_result",
          "data": {
            "text/html": [
              "<div>\n",
              "<style scoped>\n",
              "    .dataframe tbody tr th:only-of-type {\n",
              "        vertical-align: middle;\n",
              "    }\n",
              "\n",
              "    .dataframe tbody tr th {\n",
              "        vertical-align: top;\n",
              "    }\n",
              "\n",
              "    .dataframe thead th {\n",
              "        text-align: right;\n",
              "    }\n",
              "</style>\n",
              "<table border=\"1\" class=\"dataframe\">\n",
              "  <thead>\n",
              "    <tr style=\"text-align: right;\">\n",
              "      <th></th>\n",
              "      <th>RowNumber</th>\n",
              "      <th>CustomerId</th>\n",
              "      <th>CreditScore</th>\n",
              "      <th>Age</th>\n",
              "      <th>Tenure</th>\n",
              "      <th>Balance</th>\n",
              "      <th>NumOfProducts</th>\n",
              "      <th>HasCrCard</th>\n",
              "      <th>IsActiveMember</th>\n",
              "      <th>EstimatedSalary</th>\n",
              "      <th>Exited</th>\n",
              "    </tr>\n",
              "  </thead>\n",
              "  <tbody>\n",
              "    <tr>\n",
              "      <th>count</th>\n",
              "      <td>7963.000000</td>\n",
              "      <td>7.963000e+03</td>\n",
              "      <td>7963.000000</td>\n",
              "      <td>7963.000000</td>\n",
              "      <td>7963.000000</td>\n",
              "      <td>7963.000000</td>\n",
              "      <td>7963.000000</td>\n",
              "      <td>7963.000000</td>\n",
              "      <td>7963.000000</td>\n",
              "      <td>7963.000000</td>\n",
              "      <td>7963.0</td>\n",
              "    </tr>\n",
              "    <tr>\n",
              "      <th>mean</th>\n",
              "      <td>5024.694964</td>\n",
              "      <td>1.569117e+07</td>\n",
              "      <td>651.853196</td>\n",
              "      <td>37.408389</td>\n",
              "      <td>5.033279</td>\n",
              "      <td>72745.296779</td>\n",
              "      <td>1.544267</td>\n",
              "      <td>0.707146</td>\n",
              "      <td>0.554565</td>\n",
              "      <td>99738.391772</td>\n",
              "      <td>0.0</td>\n",
              "    </tr>\n",
              "    <tr>\n",
              "      <th>std</th>\n",
              "      <td>2891.682053</td>\n",
              "      <td>7.174423e+04</td>\n",
              "      <td>95.653837</td>\n",
              "      <td>10.125363</td>\n",
              "      <td>2.880658</td>\n",
              "      <td>62848.040701</td>\n",
              "      <td>0.509536</td>\n",
              "      <td>0.455101</td>\n",
              "      <td>0.497045</td>\n",
              "      <td>57405.586966</td>\n",
              "      <td>0.0</td>\n",
              "    </tr>\n",
              "    <tr>\n",
              "      <th>min</th>\n",
              "      <td>2.000000</td>\n",
              "      <td>1.556570e+07</td>\n",
              "      <td>405.000000</td>\n",
              "      <td>18.000000</td>\n",
              "      <td>0.000000</td>\n",
              "      <td>0.000000</td>\n",
              "      <td>1.000000</td>\n",
              "      <td>0.000000</td>\n",
              "      <td>0.000000</td>\n",
              "      <td>90.070000</td>\n",
              "      <td>0.0</td>\n",
              "    </tr>\n",
              "    <tr>\n",
              "      <th>25%</th>\n",
              "      <td>2526.500000</td>\n",
              "      <td>1.562882e+07</td>\n",
              "      <td>585.000000</td>\n",
              "      <td>31.000000</td>\n",
              "      <td>3.000000</td>\n",
              "      <td>0.000000</td>\n",
              "      <td>1.000000</td>\n",
              "      <td>0.000000</td>\n",
              "      <td>0.000000</td>\n",
              "      <td>50783.490000</td>\n",
              "      <td>0.0</td>\n",
              "    </tr>\n",
              "    <tr>\n",
              "      <th>50%</th>\n",
              "      <td>5042.000000</td>\n",
              "      <td>1.569154e+07</td>\n",
              "      <td>653.000000</td>\n",
              "      <td>36.000000</td>\n",
              "      <td>5.000000</td>\n",
              "      <td>92072.680000</td>\n",
              "      <td>2.000000</td>\n",
              "      <td>1.000000</td>\n",
              "      <td>1.000000</td>\n",
              "      <td>99645.040000</td>\n",
              "      <td>0.0</td>\n",
              "    </tr>\n",
              "    <tr>\n",
              "      <th>75%</th>\n",
              "      <td>7525.500000</td>\n",
              "      <td>1.575335e+07</td>\n",
              "      <td>718.000000</td>\n",
              "      <td>41.000000</td>\n",
              "      <td>7.000000</td>\n",
              "      <td>126410.280000</td>\n",
              "      <td>2.000000</td>\n",
              "      <td>1.000000</td>\n",
              "      <td>1.000000</td>\n",
              "      <td>148609.955000</td>\n",
              "      <td>0.0</td>\n",
              "    </tr>\n",
              "    <tr>\n",
              "      <th>max</th>\n",
              "      <td>10000.000000</td>\n",
              "      <td>1.581569e+07</td>\n",
              "      <td>850.000000</td>\n",
              "      <td>92.000000</td>\n",
              "      <td>10.000000</td>\n",
              "      <td>221532.800000</td>\n",
              "      <td>3.000000</td>\n",
              "      <td>1.000000</td>\n",
              "      <td>1.000000</td>\n",
              "      <td>199992.480000</td>\n",
              "      <td>0.0</td>\n",
              "    </tr>\n",
              "  </tbody>\n",
              "</table>\n",
              "</div>"
            ],
            "text/plain": [
              "          RowNumber    CustomerId  CreditScore          Age       Tenure  \\\n",
              "count   7963.000000  7.963000e+03  7963.000000  7963.000000  7963.000000   \n",
              "mean    5024.694964  1.569117e+07   651.853196    37.408389     5.033279   \n",
              "std     2891.682053  7.174423e+04    95.653837    10.125363     2.880658   \n",
              "min        2.000000  1.556570e+07   405.000000    18.000000     0.000000   \n",
              "25%     2526.500000  1.562882e+07   585.000000    31.000000     3.000000   \n",
              "50%     5042.000000  1.569154e+07   653.000000    36.000000     5.000000   \n",
              "75%     7525.500000  1.575335e+07   718.000000    41.000000     7.000000   \n",
              "max    10000.000000  1.581569e+07   850.000000    92.000000    10.000000   \n",
              "\n",
              "             Balance  NumOfProducts    HasCrCard  IsActiveMember  \\\n",
              "count    7963.000000    7963.000000  7963.000000     7963.000000   \n",
              "mean    72745.296779       1.544267     0.707146        0.554565   \n",
              "std     62848.040701       0.509536     0.455101        0.497045   \n",
              "min         0.000000       1.000000     0.000000        0.000000   \n",
              "25%         0.000000       1.000000     0.000000        0.000000   \n",
              "50%     92072.680000       2.000000     1.000000        1.000000   \n",
              "75%    126410.280000       2.000000     1.000000        1.000000   \n",
              "max    221532.800000       3.000000     1.000000        1.000000   \n",
              "\n",
              "       EstimatedSalary  Exited  \n",
              "count      7963.000000  7963.0  \n",
              "mean      99738.391772     0.0  \n",
              "std       57405.586966     0.0  \n",
              "min          90.070000     0.0  \n",
              "25%       50783.490000     0.0  \n",
              "50%       99645.040000     0.0  \n",
              "75%      148609.955000     0.0  \n",
              "max      199992.480000     0.0  "
            ]
          },
          "metadata": {
            "tags": []
          },
          "execution_count": 8
        }
      ]
    },
    {
      "cell_type": "code",
      "metadata": {
        "ExecuteTime": {
          "end_time": "2021-08-07T11:27:43.277268Z",
          "start_time": "2021-08-07T11:27:43.246634Z"
        },
        "id": "m9su-ep2lJYh",
        "outputId": "8227d3ab-c1cb-4ce9-b1fb-74e715a93e9e"
      },
      "source": [
        "churn[churn['Exited']!=0].describe()"
      ],
      "execution_count": null,
      "outputs": [
        {
          "output_type": "execute_result",
          "data": {
            "text/html": [
              "<div>\n",
              "<style scoped>\n",
              "    .dataframe tbody tr th:only-of-type {\n",
              "        vertical-align: middle;\n",
              "    }\n",
              "\n",
              "    .dataframe tbody tr th {\n",
              "        vertical-align: top;\n",
              "    }\n",
              "\n",
              "    .dataframe thead th {\n",
              "        text-align: right;\n",
              "    }\n",
              "</style>\n",
              "<table border=\"1\" class=\"dataframe\">\n",
              "  <thead>\n",
              "    <tr style=\"text-align: right;\">\n",
              "      <th></th>\n",
              "      <th>RowNumber</th>\n",
              "      <th>CustomerId</th>\n",
              "      <th>CreditScore</th>\n",
              "      <th>Age</th>\n",
              "      <th>Tenure</th>\n",
              "      <th>Balance</th>\n",
              "      <th>NumOfProducts</th>\n",
              "      <th>HasCrCard</th>\n",
              "      <th>IsActiveMember</th>\n",
              "      <th>EstimatedSalary</th>\n",
              "      <th>Exited</th>\n",
              "    </tr>\n",
              "  </thead>\n",
              "  <tbody>\n",
              "    <tr>\n",
              "      <th>count</th>\n",
              "      <td>2037.000000</td>\n",
              "      <td>2.037000e+03</td>\n",
              "      <td>2037.000000</td>\n",
              "      <td>2037.000000</td>\n",
              "      <td>2037.000000</td>\n",
              "      <td>2037.000000</td>\n",
              "      <td>2037.000000</td>\n",
              "      <td>2037.000000</td>\n",
              "      <td>2037.000000</td>\n",
              "      <td>2037.000000</td>\n",
              "      <td>2037.0</td>\n",
              "    </tr>\n",
              "    <tr>\n",
              "      <th>mean</th>\n",
              "      <td>4905.917526</td>\n",
              "      <td>1.569005e+07</td>\n",
              "      <td>645.351497</td>\n",
              "      <td>44.837997</td>\n",
              "      <td>4.932744</td>\n",
              "      <td>91108.539337</td>\n",
              "      <td>1.475209</td>\n",
              "      <td>0.699067</td>\n",
              "      <td>0.360825</td>\n",
              "      <td>101465.677531</td>\n",
              "      <td>1.0</td>\n",
              "    </tr>\n",
              "    <tr>\n",
              "      <th>std</th>\n",
              "      <td>2866.855245</td>\n",
              "      <td>7.269262e+04</td>\n",
              "      <td>100.321503</td>\n",
              "      <td>9.761562</td>\n",
              "      <td>2.936106</td>\n",
              "      <td>58360.794816</td>\n",
              "      <td>0.801521</td>\n",
              "      <td>0.458776</td>\n",
              "      <td>0.480358</td>\n",
              "      <td>57912.418071</td>\n",
              "      <td>0.0</td>\n",
              "    </tr>\n",
              "    <tr>\n",
              "      <th>min</th>\n",
              "      <td>1.000000</td>\n",
              "      <td>1.556571e+07</td>\n",
              "      <td>350.000000</td>\n",
              "      <td>18.000000</td>\n",
              "      <td>0.000000</td>\n",
              "      <td>0.000000</td>\n",
              "      <td>1.000000</td>\n",
              "      <td>0.000000</td>\n",
              "      <td>0.000000</td>\n",
              "      <td>11.580000</td>\n",
              "      <td>1.0</td>\n",
              "    </tr>\n",
              "    <tr>\n",
              "      <th>25%</th>\n",
              "      <td>2419.000000</td>\n",
              "      <td>1.562736e+07</td>\n",
              "      <td>578.000000</td>\n",
              "      <td>38.000000</td>\n",
              "      <td>2.000000</td>\n",
              "      <td>38340.020000</td>\n",
              "      <td>1.000000</td>\n",
              "      <td>0.000000</td>\n",
              "      <td>0.000000</td>\n",
              "      <td>51907.720000</td>\n",
              "      <td>1.0</td>\n",
              "    </tr>\n",
              "    <tr>\n",
              "      <th>50%</th>\n",
              "      <td>4871.000000</td>\n",
              "      <td>1.568896e+07</td>\n",
              "      <td>646.000000</td>\n",
              "      <td>45.000000</td>\n",
              "      <td>5.000000</td>\n",
              "      <td>109349.290000</td>\n",
              "      <td>1.000000</td>\n",
              "      <td>1.000000</td>\n",
              "      <td>0.000000</td>\n",
              "      <td>102460.840000</td>\n",
              "      <td>1.0</td>\n",
              "    </tr>\n",
              "    <tr>\n",
              "      <th>75%</th>\n",
              "      <td>7404.000000</td>\n",
              "      <td>1.575309e+07</td>\n",
              "      <td>716.000000</td>\n",
              "      <td>51.000000</td>\n",
              "      <td>8.000000</td>\n",
              "      <td>131433.330000</td>\n",
              "      <td>2.000000</td>\n",
              "      <td>1.000000</td>\n",
              "      <td>1.000000</td>\n",
              "      <td>152422.910000</td>\n",
              "      <td>1.0</td>\n",
              "    </tr>\n",
              "    <tr>\n",
              "      <th>max</th>\n",
              "      <td>9999.000000</td>\n",
              "      <td>1.581566e+07</td>\n",
              "      <td>850.000000</td>\n",
              "      <td>84.000000</td>\n",
              "      <td>10.000000</td>\n",
              "      <td>250898.090000</td>\n",
              "      <td>4.000000</td>\n",
              "      <td>1.000000</td>\n",
              "      <td>1.000000</td>\n",
              "      <td>199808.100000</td>\n",
              "      <td>1.0</td>\n",
              "    </tr>\n",
              "  </tbody>\n",
              "</table>\n",
              "</div>"
            ],
            "text/plain": [
              "         RowNumber    CustomerId  CreditScore          Age       Tenure  \\\n",
              "count  2037.000000  2.037000e+03  2037.000000  2037.000000  2037.000000   \n",
              "mean   4905.917526  1.569005e+07   645.351497    44.837997     4.932744   \n",
              "std    2866.855245  7.269262e+04   100.321503     9.761562     2.936106   \n",
              "min       1.000000  1.556571e+07   350.000000    18.000000     0.000000   \n",
              "25%    2419.000000  1.562736e+07   578.000000    38.000000     2.000000   \n",
              "50%    4871.000000  1.568896e+07   646.000000    45.000000     5.000000   \n",
              "75%    7404.000000  1.575309e+07   716.000000    51.000000     8.000000   \n",
              "max    9999.000000  1.581566e+07   850.000000    84.000000    10.000000   \n",
              "\n",
              "             Balance  NumOfProducts    HasCrCard  IsActiveMember  \\\n",
              "count    2037.000000    2037.000000  2037.000000     2037.000000   \n",
              "mean    91108.539337       1.475209     0.699067        0.360825   \n",
              "std     58360.794816       0.801521     0.458776        0.480358   \n",
              "min         0.000000       1.000000     0.000000        0.000000   \n",
              "25%     38340.020000       1.000000     0.000000        0.000000   \n",
              "50%    109349.290000       1.000000     1.000000        0.000000   \n",
              "75%    131433.330000       2.000000     1.000000        1.000000   \n",
              "max    250898.090000       4.000000     1.000000        1.000000   \n",
              "\n",
              "       EstimatedSalary  Exited  \n",
              "count      2037.000000  2037.0  \n",
              "mean     101465.677531     1.0  \n",
              "std       57912.418071     0.0  \n",
              "min          11.580000     1.0  \n",
              "25%       51907.720000     1.0  \n",
              "50%      102460.840000     1.0  \n",
              "75%      152422.910000     1.0  \n",
              "max      199808.100000     1.0  "
            ]
          },
          "metadata": {
            "tags": []
          },
          "execution_count": 12
        }
      ]
    },
    {
      "cell_type": "code",
      "metadata": {
        "id": "JC75VF1flJYi"
      },
      "source": [
        "churn.groupby(by='Exited').median()"
      ],
      "execution_count": null,
      "outputs": []
    },
    {
      "cell_type": "markdown",
      "metadata": {
        "id": "UFxDg3-IlJYi"
      },
      "source": [
        "# BAseline Model -1"
      ]
    },
    {
      "cell_type": "code",
      "metadata": {
        "ExecuteTime": {
          "end_time": "2021-08-07T11:40:14.315678Z",
          "start_time": "2021-08-07T11:40:14.301920Z"
        },
        "id": "AsLccl9RlJYi"
      },
      "source": [
        "def baseline_model(row):\n",
        "    '''A baseline model using just the age'''\n",
        "    if row['Age'] >45:\n",
        "        return 1\n",
        "    else:\n",
        "        return 0"
      ],
      "execution_count": null,
      "outputs": []
    },
    {
      "cell_type": "code",
      "metadata": {
        "ExecuteTime": {
          "end_time": "2021-08-07T11:40:14.566261Z",
          "start_time": "2021-08-07T11:40:14.489859Z"
        },
        "id": "C32Pqpd8lJYj"
      },
      "source": [
        "churn['predictions_baseline']=churn.apply(baseline_model,axis=1)"
      ],
      "execution_count": null,
      "outputs": []
    },
    {
      "cell_type": "code",
      "metadata": {
        "ExecuteTime": {
          "end_time": "2021-08-07T11:40:14.672764Z",
          "start_time": "2021-08-07T11:40:14.651808Z"
        },
        "id": "Jgj3siH1lJYj",
        "outputId": "550e3851-5f76-474c-f5fe-22fc4d360445"
      },
      "source": [
        "churn['predictions_baseline'].value_counts(normalize=True)"
      ],
      "execution_count": null,
      "outputs": [
        {
          "output_type": "execute_result",
          "data": {
            "text/plain": [
              "0    0.7889\n",
              "1    0.2111\n",
              "Name: predictions_baseline, dtype: float64"
            ]
          },
          "metadata": {
            "tags": []
          },
          "execution_count": 34
        }
      ]
    },
    {
      "cell_type": "code",
      "metadata": {
        "ExecuteTime": {
          "end_time": "2021-08-07T11:40:14.904627Z",
          "start_time": "2021-08-07T11:40:14.890187Z"
        },
        "id": "jXVorKWylJYj"
      },
      "source": [
        "from sklearn.metrics import classification_report"
      ],
      "execution_count": null,
      "outputs": []
    },
    {
      "cell_type": "code",
      "metadata": {
        "ExecuteTime": {
          "end_time": "2021-08-07T11:40:15.413867Z",
          "start_time": "2021-08-07T11:40:15.388875Z"
        },
        "id": "ZMfT92G_lJYk",
        "outputId": "5790886b-f5d3-45e0-99d1-9784e4142151"
      },
      "source": [
        "print(classification_report(churn['Exited'],churn['predictions_baseline']))"
      ],
      "execution_count": null,
      "outputs": [
        {
          "output_type": "stream",
          "text": [
            "              precision    recall  f1-score   support\n",
            "\n",
            "           0       0.86      0.86      0.86      7963\n",
            "           1       0.45      0.47      0.46      2037\n",
            "\n",
            "    accuracy                           0.78     10000\n",
            "   macro avg       0.66      0.66      0.66     10000\n",
            "weighted avg       0.78      0.78      0.78     10000\n",
            "\n"
          ],
          "name": "stdout"
        }
      ]
    },
    {
      "cell_type": "markdown",
      "metadata": {
        "id": "VYJd4lv7lJYk"
      },
      "source": [
        "# EDA"
      ]
    },
    {
      "cell_type": "code",
      "metadata": {
        "ExecuteTime": {
          "end_time": "2021-08-07T11:48:03.276079Z",
          "start_time": "2021-08-07T11:48:03.246696Z"
        },
        "id": "P_09pFyqlJYk"
      },
      "source": [
        "## 1\n",
        "df=churn.describe().T"
      ],
      "execution_count": null,
      "outputs": []
    },
    {
      "cell_type": "code",
      "metadata": {
        "ExecuteTime": {
          "end_time": "2021-08-07T11:48:03.602064Z",
          "start_time": "2021-08-07T11:48:03.583906Z"
        },
        "id": "9RGCW9zulJYl"
      },
      "source": [
        "df['range']=df['max']-df['min']\n",
        "df['iqr']=df['75%']-df['25%']"
      ],
      "execution_count": null,
      "outputs": []
    },
    {
      "cell_type": "code",
      "metadata": {
        "ExecuteTime": {
          "end_time": "2021-08-07T11:50:24.376513Z",
          "start_time": "2021-08-07T11:50:24.357511Z"
        },
        "id": "UUxWMVyNlJYl",
        "outputId": "f4be85e1-fa14-44ed-fe2e-d4c5ca42f01a"
      },
      "source": [
        "df.sort_values(by='range')[['range','iqr','min','max']]"
      ],
      "execution_count": null,
      "outputs": [
        {
          "output_type": "execute_result",
          "data": {
            "text/html": [
              "<div>\n",
              "<style scoped>\n",
              "    .dataframe tbody tr th:only-of-type {\n",
              "        vertical-align: middle;\n",
              "    }\n",
              "\n",
              "    .dataframe tbody tr th {\n",
              "        vertical-align: top;\n",
              "    }\n",
              "\n",
              "    .dataframe thead th {\n",
              "        text-align: right;\n",
              "    }\n",
              "</style>\n",
              "<table border=\"1\" class=\"dataframe\">\n",
              "  <thead>\n",
              "    <tr style=\"text-align: right;\">\n",
              "      <th></th>\n",
              "      <th>range</th>\n",
              "      <th>iqr</th>\n",
              "      <th>min</th>\n",
              "      <th>max</th>\n",
              "    </tr>\n",
              "  </thead>\n",
              "  <tbody>\n",
              "    <tr>\n",
              "      <th>HasCrCard</th>\n",
              "      <td>1.00</td>\n",
              "      <td>1.0000</td>\n",
              "      <td>0.00</td>\n",
              "      <td>1.00</td>\n",
              "    </tr>\n",
              "    <tr>\n",
              "      <th>IsActiveMember</th>\n",
              "      <td>1.00</td>\n",
              "      <td>1.0000</td>\n",
              "      <td>0.00</td>\n",
              "      <td>1.00</td>\n",
              "    </tr>\n",
              "    <tr>\n",
              "      <th>Exited</th>\n",
              "      <td>1.00</td>\n",
              "      <td>0.0000</td>\n",
              "      <td>0.00</td>\n",
              "      <td>1.00</td>\n",
              "    </tr>\n",
              "    <tr>\n",
              "      <th>predictions_baseline</th>\n",
              "      <td>1.00</td>\n",
              "      <td>0.0000</td>\n",
              "      <td>0.00</td>\n",
              "      <td>1.00</td>\n",
              "    </tr>\n",
              "    <tr>\n",
              "      <th>NumOfProducts</th>\n",
              "      <td>3.00</td>\n",
              "      <td>1.0000</td>\n",
              "      <td>1.00</td>\n",
              "      <td>4.00</td>\n",
              "    </tr>\n",
              "    <tr>\n",
              "      <th>Tenure</th>\n",
              "      <td>10.00</td>\n",
              "      <td>4.0000</td>\n",
              "      <td>0.00</td>\n",
              "      <td>10.00</td>\n",
              "    </tr>\n",
              "    <tr>\n",
              "      <th>Age</th>\n",
              "      <td>74.00</td>\n",
              "      <td>12.0000</td>\n",
              "      <td>18.00</td>\n",
              "      <td>92.00</td>\n",
              "    </tr>\n",
              "    <tr>\n",
              "      <th>CreditScore</th>\n",
              "      <td>500.00</td>\n",
              "      <td>134.0000</td>\n",
              "      <td>350.00</td>\n",
              "      <td>850.00</td>\n",
              "    </tr>\n",
              "    <tr>\n",
              "      <th>RowNumber</th>\n",
              "      <td>9999.00</td>\n",
              "      <td>4999.5000</td>\n",
              "      <td>1.00</td>\n",
              "      <td>10000.00</td>\n",
              "    </tr>\n",
              "    <tr>\n",
              "      <th>EstimatedSalary</th>\n",
              "      <td>199980.90</td>\n",
              "      <td>98386.1375</td>\n",
              "      <td>11.58</td>\n",
              "      <td>199992.48</td>\n",
              "    </tr>\n",
              "    <tr>\n",
              "      <th>CustomerId</th>\n",
              "      <td>249989.00</td>\n",
              "      <td>124705.5000</td>\n",
              "      <td>15565701.00</td>\n",
              "      <td>15815690.00</td>\n",
              "    </tr>\n",
              "    <tr>\n",
              "      <th>Balance</th>\n",
              "      <td>250898.09</td>\n",
              "      <td>127644.2400</td>\n",
              "      <td>0.00</td>\n",
              "      <td>250898.09</td>\n",
              "    </tr>\n",
              "  </tbody>\n",
              "</table>\n",
              "</div>"
            ],
            "text/plain": [
              "                          range          iqr          min          max\n",
              "HasCrCard                  1.00       1.0000         0.00         1.00\n",
              "IsActiveMember             1.00       1.0000         0.00         1.00\n",
              "Exited                     1.00       0.0000         0.00         1.00\n",
              "predictions_baseline       1.00       0.0000         0.00         1.00\n",
              "NumOfProducts              3.00       1.0000         1.00         4.00\n",
              "Tenure                    10.00       4.0000         0.00        10.00\n",
              "Age                       74.00      12.0000        18.00        92.00\n",
              "CreditScore              500.00     134.0000       350.00       850.00\n",
              "RowNumber               9999.00    4999.5000         1.00     10000.00\n",
              "EstimatedSalary       199980.90   98386.1375        11.58    199992.48\n",
              "CustomerId            249989.00  124705.5000  15565701.00  15815690.00\n",
              "Balance               250898.09  127644.2400         0.00    250898.09"
            ]
          },
          "metadata": {
            "tags": []
          },
          "execution_count": 43
        }
      ]
    },
    {
      "cell_type": "code",
      "metadata": {
        "ExecuteTime": {
          "end_time": "2021-05-23T08:48:41.470767Z",
          "start_time": "2021-05-23T08:48:41.444798Z"
        },
        "id": "gF4BQrXHlJYl",
        "outputId": "aab75644-c289-4e0f-da8c-7171ede44551"
      },
      "source": [
        "churn['Exited'].value_counts(normalize=True)"
      ],
      "execution_count": null,
      "outputs": [
        {
          "output_type": "execute_result",
          "data": {
            "text/plain": [
              "0    0.7963\n",
              "1    0.2037\n",
              "Name: Exited, dtype: float64"
            ]
          },
          "metadata": {
            "tags": []
          },
          "execution_count": 11
        }
      ]
    },
    {
      "cell_type": "code",
      "metadata": {
        "ExecuteTime": {
          "end_time": "2021-05-23T08:48:41.486179Z",
          "start_time": "2021-05-23T08:48:41.475616Z"
        },
        "id": "bC4B6Xk8lJYm",
        "outputId": "8f67db7f-9d82-4809-ef03-dd9cb16a40c4"
      },
      "source": [
        "churn['NumOfProducts'].value_counts(normalize=True)"
      ],
      "execution_count": null,
      "outputs": [
        {
          "output_type": "execute_result",
          "data": {
            "text/plain": [
              "1    0.5084\n",
              "2    0.4590\n",
              "3    0.0266\n",
              "4    0.0060\n",
              "Name: NumOfProducts, dtype: float64"
            ]
          },
          "metadata": {
            "tags": []
          },
          "execution_count": 12
        }
      ]
    },
    {
      "cell_type": "code",
      "metadata": {
        "ExecuteTime": {
          "end_time": "2021-05-23T08:48:41.502210Z",
          "start_time": "2021-05-23T08:48:41.488166Z"
        },
        "id": "VQy9SQqSlJYm",
        "outputId": "4cee1100-ace4-4ece-d0e0-4e64d4196237"
      },
      "source": [
        "churn['NumOfProducts'].value_counts()"
      ],
      "execution_count": null,
      "outputs": [
        {
          "output_type": "execute_result",
          "data": {
            "text/plain": [
              "1    5084\n",
              "2    4590\n",
              "3     266\n",
              "4      60\n",
              "Name: NumOfProducts, dtype: int64"
            ]
          },
          "metadata": {
            "tags": []
          },
          "execution_count": 13
        }
      ]
    },
    {
      "cell_type": "code",
      "metadata": {
        "ExecuteTime": {
          "end_time": "2021-05-23T08:48:41.533837Z",
          "start_time": "2021-05-23T08:48:41.505859Z"
        },
        "id": "SFgCB5srlJYm",
        "outputId": "6fe8a163-489c-4bd3-9255-391bfaec7302"
      },
      "source": [
        "churn.info()"
      ],
      "execution_count": null,
      "outputs": [
        {
          "output_type": "stream",
          "text": [
            "<class 'pandas.core.frame.DataFrame'>\n",
            "RangeIndex: 10000 entries, 0 to 9999\n",
            "Data columns (total 14 columns):\n",
            " #   Column           Non-Null Count  Dtype  \n",
            "---  ------           --------------  -----  \n",
            " 0   RowNumber        10000 non-null  int64  \n",
            " 1   CustomerId       10000 non-null  int64  \n",
            " 2   Surname          10000 non-null  object \n",
            " 3   CreditScore      10000 non-null  int64  \n",
            " 4   Geography        10000 non-null  object \n",
            " 5   Gender           10000 non-null  object \n",
            " 6   Age              10000 non-null  int64  \n",
            " 7   Tenure           10000 non-null  int64  \n",
            " 8   Balance          10000 non-null  float64\n",
            " 9   NumOfProducts    10000 non-null  int64  \n",
            " 10  HasCrCard        10000 non-null  int64  \n",
            " 11  IsActiveMember   10000 non-null  int64  \n",
            " 12  EstimatedSalary  10000 non-null  float64\n",
            " 13  Exited           10000 non-null  int64  \n",
            "dtypes: float64(2), int64(9), object(3)\n",
            "memory usage: 1.1+ MB\n"
          ],
          "name": "stdout"
        }
      ]
    },
    {
      "cell_type": "code",
      "metadata": {
        "ExecuteTime": {
          "end_time": "2021-05-23T08:48:41.548892Z",
          "start_time": "2021-05-23T08:48:41.536333Z"
        },
        "id": "Yg4c8G7nlJYn",
        "outputId": "68944b7b-d3b8-4244-d3f4-148d0e4dff70"
      },
      "source": [
        "churn['Geography'].unique()"
      ],
      "execution_count": null,
      "outputs": [
        {
          "output_type": "execute_result",
          "data": {
            "text/plain": [
              "array(['France', 'Spain', 'Germany'], dtype=object)"
            ]
          },
          "metadata": {
            "tags": []
          },
          "execution_count": 15
        }
      ]
    },
    {
      "cell_type": "code",
      "metadata": {
        "ExecuteTime": {
          "end_time": "2021-05-23T08:48:41.579752Z",
          "start_time": "2021-05-23T08:48:41.552196Z"
        },
        "id": "nARTICSHlJYn",
        "outputId": "3e041e14-4a08-4ffe-9618-ce37c9a19ef8"
      },
      "source": [
        "churn.head()"
      ],
      "execution_count": null,
      "outputs": [
        {
          "output_type": "execute_result",
          "data": {
            "text/html": [
              "<div>\n",
              "<style scoped>\n",
              "    .dataframe tbody tr th:only-of-type {\n",
              "        vertical-align: middle;\n",
              "    }\n",
              "\n",
              "    .dataframe tbody tr th {\n",
              "        vertical-align: top;\n",
              "    }\n",
              "\n",
              "    .dataframe thead th {\n",
              "        text-align: right;\n",
              "    }\n",
              "</style>\n",
              "<table border=\"1\" class=\"dataframe\">\n",
              "  <thead>\n",
              "    <tr style=\"text-align: right;\">\n",
              "      <th></th>\n",
              "      <th>RowNumber</th>\n",
              "      <th>CustomerId</th>\n",
              "      <th>Surname</th>\n",
              "      <th>CreditScore</th>\n",
              "      <th>Geography</th>\n",
              "      <th>Gender</th>\n",
              "      <th>Age</th>\n",
              "      <th>Tenure</th>\n",
              "      <th>Balance</th>\n",
              "      <th>NumOfProducts</th>\n",
              "      <th>HasCrCard</th>\n",
              "      <th>IsActiveMember</th>\n",
              "      <th>EstimatedSalary</th>\n",
              "      <th>Exited</th>\n",
              "    </tr>\n",
              "  </thead>\n",
              "  <tbody>\n",
              "    <tr>\n",
              "      <th>0</th>\n",
              "      <td>1</td>\n",
              "      <td>15634602</td>\n",
              "      <td>Hargrave</td>\n",
              "      <td>619</td>\n",
              "      <td>France</td>\n",
              "      <td>Female</td>\n",
              "      <td>42</td>\n",
              "      <td>2</td>\n",
              "      <td>0.00</td>\n",
              "      <td>1</td>\n",
              "      <td>1</td>\n",
              "      <td>1</td>\n",
              "      <td>101348.88</td>\n",
              "      <td>1</td>\n",
              "    </tr>\n",
              "    <tr>\n",
              "      <th>1</th>\n",
              "      <td>2</td>\n",
              "      <td>15647311</td>\n",
              "      <td>Hill</td>\n",
              "      <td>608</td>\n",
              "      <td>Spain</td>\n",
              "      <td>Female</td>\n",
              "      <td>41</td>\n",
              "      <td>1</td>\n",
              "      <td>83807.86</td>\n",
              "      <td>1</td>\n",
              "      <td>0</td>\n",
              "      <td>1</td>\n",
              "      <td>112542.58</td>\n",
              "      <td>0</td>\n",
              "    </tr>\n",
              "    <tr>\n",
              "      <th>2</th>\n",
              "      <td>3</td>\n",
              "      <td>15619304</td>\n",
              "      <td>Onio</td>\n",
              "      <td>502</td>\n",
              "      <td>France</td>\n",
              "      <td>Female</td>\n",
              "      <td>42</td>\n",
              "      <td>8</td>\n",
              "      <td>159660.80</td>\n",
              "      <td>3</td>\n",
              "      <td>1</td>\n",
              "      <td>0</td>\n",
              "      <td>113931.57</td>\n",
              "      <td>1</td>\n",
              "    </tr>\n",
              "    <tr>\n",
              "      <th>3</th>\n",
              "      <td>4</td>\n",
              "      <td>15701354</td>\n",
              "      <td>Boni</td>\n",
              "      <td>699</td>\n",
              "      <td>France</td>\n",
              "      <td>Female</td>\n",
              "      <td>39</td>\n",
              "      <td>1</td>\n",
              "      <td>0.00</td>\n",
              "      <td>2</td>\n",
              "      <td>0</td>\n",
              "      <td>0</td>\n",
              "      <td>93826.63</td>\n",
              "      <td>0</td>\n",
              "    </tr>\n",
              "    <tr>\n",
              "      <th>4</th>\n",
              "      <td>5</td>\n",
              "      <td>15737888</td>\n",
              "      <td>Mitchell</td>\n",
              "      <td>850</td>\n",
              "      <td>Spain</td>\n",
              "      <td>Female</td>\n",
              "      <td>43</td>\n",
              "      <td>2</td>\n",
              "      <td>125510.82</td>\n",
              "      <td>1</td>\n",
              "      <td>1</td>\n",
              "      <td>1</td>\n",
              "      <td>79084.10</td>\n",
              "      <td>0</td>\n",
              "    </tr>\n",
              "  </tbody>\n",
              "</table>\n",
              "</div>"
            ],
            "text/plain": [
              "   RowNumber  CustomerId   Surname  CreditScore Geography  Gender  Age  \\\n",
              "0          1    15634602  Hargrave          619    France  Female   42   \n",
              "1          2    15647311      Hill          608     Spain  Female   41   \n",
              "2          3    15619304      Onio          502    France  Female   42   \n",
              "3          4    15701354      Boni          699    France  Female   39   \n",
              "4          5    15737888  Mitchell          850     Spain  Female   43   \n",
              "\n",
              "   Tenure    Balance  NumOfProducts  HasCrCard  IsActiveMember  \\\n",
              "0       2       0.00              1          1               1   \n",
              "1       1   83807.86              1          0               1   \n",
              "2       8  159660.80              3          1               0   \n",
              "3       1       0.00              2          0               0   \n",
              "4       2  125510.82              1          1               1   \n",
              "\n",
              "   EstimatedSalary  Exited  \n",
              "0        101348.88       1  \n",
              "1        112542.58       0  \n",
              "2        113931.57       1  \n",
              "3         93826.63       0  \n",
              "4         79084.10       0  "
            ]
          },
          "metadata": {
            "tags": []
          },
          "execution_count": 16
        }
      ]
    },
    {
      "cell_type": "code",
      "metadata": {
        "ExecuteTime": {
          "end_time": "2021-05-23T08:48:41.610595Z",
          "start_time": "2021-05-23T08:48:41.581374Z"
        },
        "id": "uB9y5DWtlJYo",
        "outputId": "3256e93c-c6a7-46ed-da9a-0d56ce06778b"
      },
      "source": [
        "churn.tail()"
      ],
      "execution_count": null,
      "outputs": [
        {
          "output_type": "execute_result",
          "data": {
            "text/html": [
              "<div>\n",
              "<style scoped>\n",
              "    .dataframe tbody tr th:only-of-type {\n",
              "        vertical-align: middle;\n",
              "    }\n",
              "\n",
              "    .dataframe tbody tr th {\n",
              "        vertical-align: top;\n",
              "    }\n",
              "\n",
              "    .dataframe thead th {\n",
              "        text-align: right;\n",
              "    }\n",
              "</style>\n",
              "<table border=\"1\" class=\"dataframe\">\n",
              "  <thead>\n",
              "    <tr style=\"text-align: right;\">\n",
              "      <th></th>\n",
              "      <th>RowNumber</th>\n",
              "      <th>CustomerId</th>\n",
              "      <th>Surname</th>\n",
              "      <th>CreditScore</th>\n",
              "      <th>Geography</th>\n",
              "      <th>Gender</th>\n",
              "      <th>Age</th>\n",
              "      <th>Tenure</th>\n",
              "      <th>Balance</th>\n",
              "      <th>NumOfProducts</th>\n",
              "      <th>HasCrCard</th>\n",
              "      <th>IsActiveMember</th>\n",
              "      <th>EstimatedSalary</th>\n",
              "      <th>Exited</th>\n",
              "    </tr>\n",
              "  </thead>\n",
              "  <tbody>\n",
              "    <tr>\n",
              "      <th>9995</th>\n",
              "      <td>9996</td>\n",
              "      <td>15606229</td>\n",
              "      <td>Obijiaku</td>\n",
              "      <td>771</td>\n",
              "      <td>France</td>\n",
              "      <td>Male</td>\n",
              "      <td>39</td>\n",
              "      <td>5</td>\n",
              "      <td>0.00</td>\n",
              "      <td>2</td>\n",
              "      <td>1</td>\n",
              "      <td>0</td>\n",
              "      <td>96270.64</td>\n",
              "      <td>0</td>\n",
              "    </tr>\n",
              "    <tr>\n",
              "      <th>9996</th>\n",
              "      <td>9997</td>\n",
              "      <td>15569892</td>\n",
              "      <td>Johnstone</td>\n",
              "      <td>516</td>\n",
              "      <td>France</td>\n",
              "      <td>Male</td>\n",
              "      <td>35</td>\n",
              "      <td>10</td>\n",
              "      <td>57369.61</td>\n",
              "      <td>1</td>\n",
              "      <td>1</td>\n",
              "      <td>1</td>\n",
              "      <td>101699.77</td>\n",
              "      <td>0</td>\n",
              "    </tr>\n",
              "    <tr>\n",
              "      <th>9997</th>\n",
              "      <td>9998</td>\n",
              "      <td>15584532</td>\n",
              "      <td>Liu</td>\n",
              "      <td>709</td>\n",
              "      <td>France</td>\n",
              "      <td>Female</td>\n",
              "      <td>36</td>\n",
              "      <td>7</td>\n",
              "      <td>0.00</td>\n",
              "      <td>1</td>\n",
              "      <td>0</td>\n",
              "      <td>1</td>\n",
              "      <td>42085.58</td>\n",
              "      <td>1</td>\n",
              "    </tr>\n",
              "    <tr>\n",
              "      <th>9998</th>\n",
              "      <td>9999</td>\n",
              "      <td>15682355</td>\n",
              "      <td>Sabbatini</td>\n",
              "      <td>772</td>\n",
              "      <td>Germany</td>\n",
              "      <td>Male</td>\n",
              "      <td>42</td>\n",
              "      <td>3</td>\n",
              "      <td>75075.31</td>\n",
              "      <td>2</td>\n",
              "      <td>1</td>\n",
              "      <td>0</td>\n",
              "      <td>92888.52</td>\n",
              "      <td>1</td>\n",
              "    </tr>\n",
              "    <tr>\n",
              "      <th>9999</th>\n",
              "      <td>10000</td>\n",
              "      <td>15628319</td>\n",
              "      <td>Walker</td>\n",
              "      <td>792</td>\n",
              "      <td>France</td>\n",
              "      <td>Female</td>\n",
              "      <td>28</td>\n",
              "      <td>4</td>\n",
              "      <td>130142.79</td>\n",
              "      <td>1</td>\n",
              "      <td>1</td>\n",
              "      <td>0</td>\n",
              "      <td>38190.78</td>\n",
              "      <td>0</td>\n",
              "    </tr>\n",
              "  </tbody>\n",
              "</table>\n",
              "</div>"
            ],
            "text/plain": [
              "      RowNumber  CustomerId    Surname  CreditScore Geography  Gender  Age  \\\n",
              "9995       9996    15606229   Obijiaku          771    France    Male   39   \n",
              "9996       9997    15569892  Johnstone          516    France    Male   35   \n",
              "9997       9998    15584532        Liu          709    France  Female   36   \n",
              "9998       9999    15682355  Sabbatini          772   Germany    Male   42   \n",
              "9999      10000    15628319     Walker          792    France  Female   28   \n",
              "\n",
              "      Tenure    Balance  NumOfProducts  HasCrCard  IsActiveMember  \\\n",
              "9995       5       0.00              2          1               0   \n",
              "9996      10   57369.61              1          1               1   \n",
              "9997       7       0.00              1          0               1   \n",
              "9998       3   75075.31              2          1               0   \n",
              "9999       4  130142.79              1          1               0   \n",
              "\n",
              "      EstimatedSalary  Exited  \n",
              "9995         96270.64       0  \n",
              "9996        101699.77       0  \n",
              "9997         42085.58       1  \n",
              "9998         92888.52       1  \n",
              "9999         38190.78       0  "
            ]
          },
          "metadata": {
            "tags": []
          },
          "execution_count": 17
        }
      ]
    },
    {
      "cell_type": "code",
      "metadata": {
        "ExecuteTime": {
          "end_time": "2021-08-07T11:55:20.799282Z",
          "start_time": "2021-08-07T11:55:20.779850Z"
        },
        "id": "v5GpSMqClJYo"
      },
      "source": [
        "def check_Categorical(df,column_list,thresh=4):\n",
        "    '''\n",
        "    Accepts a dataframe and a list of columns and returns\n",
        "    all the columns that are categorical based on threshold\n",
        "    '''\n",
        "    \n",
        "    categorical=[]\n",
        "    for i in column_list:\n",
        "        print(i,df[i].nunique())\n",
        "        if df[i].nunique() <=thresh:\n",
        "            print(i,\" is categorical\")\n",
        "            categorical.append(i)\n",
        "    return categorical\n",
        "    "
      ],
      "execution_count": null,
      "outputs": []
    },
    {
      "cell_type": "code",
      "metadata": {
        "ExecuteTime": {
          "end_time": "2021-05-23T08:48:41.657365Z",
          "start_time": "2021-05-23T08:48:41.628635Z"
        },
        "id": "YWZehRfElJYp",
        "outputId": "9ecdc43e-d5bb-47c4-ab2c-e9a284f957b0"
      },
      "source": [
        "check_Categorical(churn, churn.columns.tolist(),thresh=2)"
      ],
      "execution_count": null,
      "outputs": [
        {
          "output_type": "stream",
          "text": [
            "RowNumber 10000\n",
            "CustomerId 10000\n",
            "Surname 2932\n",
            "CreditScore 460\n",
            "Geography 3\n",
            "Gender 2\n",
            "Gender  is categorical\n",
            "Age 70\n",
            "Tenure 11\n",
            "Balance 6382\n",
            "NumOfProducts 4\n",
            "HasCrCard 2\n",
            "HasCrCard  is categorical\n",
            "IsActiveMember 2\n",
            "IsActiveMember  is categorical\n",
            "EstimatedSalary 9999\n",
            "Exited 2\n",
            "Exited  is categorical\n"
          ],
          "name": "stdout"
        },
        {
          "output_type": "execute_result",
          "data": {
            "text/plain": [
              "['Gender', 'HasCrCard', 'IsActiveMember', 'Exited']"
            ]
          },
          "metadata": {
            "tags": []
          },
          "execution_count": 19
        }
      ]
    },
    {
      "cell_type": "code",
      "metadata": {
        "ExecuteTime": {
          "end_time": "2021-08-07T11:58:00.971204Z",
          "start_time": "2021-08-07T11:58:00.939066Z"
        },
        "id": "wD7tX4ewlJYp",
        "outputId": "997188fc-997a-4a4e-e99c-a65b5d18fae5"
      },
      "source": [
        "categorical_variables=check_Categorical(churn, churn.columns.tolist(),thresh=10)"
      ],
      "execution_count": null,
      "outputs": [
        {
          "output_type": "stream",
          "text": [
            "RowNumber 10000\n",
            "CustomerId 10000\n",
            "Surname 2932\n",
            "CreditScore 460\n",
            "Geography 3\n",
            "Geography  is categorical\n",
            "Gender 2\n",
            "Gender  is categorical\n",
            "Age 70\n",
            "Tenure 11\n",
            "Balance 6382\n",
            "NumOfProducts 4\n",
            "NumOfProducts  is categorical\n",
            "HasCrCard 2\n",
            "HasCrCard  is categorical\n",
            "IsActiveMember 2\n",
            "IsActiveMember  is categorical\n",
            "EstimatedSalary 9999\n",
            "Exited 2\n",
            "Exited  is categorical\n",
            "predictions_baseline 2\n",
            "predictions_baseline  is categorical\n"
          ],
          "name": "stdout"
        }
      ]
    },
    {
      "cell_type": "code",
      "metadata": {
        "ExecuteTime": {
          "end_time": "2021-08-07T11:58:06.097387Z",
          "start_time": "2021-08-07T11:58:06.091071Z"
        },
        "id": "djHvryeSlJYp",
        "outputId": "008961ca-6c91-4586-97e8-49e5f4983b1d"
      },
      "source": [
        "categorical_variables"
      ],
      "execution_count": null,
      "outputs": [
        {
          "output_type": "execute_result",
          "data": {
            "text/plain": [
              "['Geography',\n",
              " 'Gender',\n",
              " 'NumOfProducts',\n",
              " 'HasCrCard',\n",
              " 'IsActiveMember',\n",
              " 'Exited',\n",
              " 'predictions_baseline']"
            ]
          },
          "metadata": {
            "tags": []
          },
          "execution_count": 46
        }
      ]
    },
    {
      "cell_type": "code",
      "metadata": {
        "ExecuteTime": {
          "end_time": "2021-08-07T11:58:16.713387Z",
          "start_time": "2021-08-07T11:58:16.703918Z"
        },
        "id": "vbkhKZholJYp"
      },
      "source": [
        "numerical_variables=list(set(churn.columns.tolist())-set(categorical_variables))"
      ],
      "execution_count": null,
      "outputs": []
    },
    {
      "cell_type": "code",
      "metadata": {
        "ExecuteTime": {
          "end_time": "2021-08-07T11:58:23.123945Z",
          "start_time": "2021-08-07T11:58:23.116093Z"
        },
        "id": "mKbVJPHklJYp",
        "outputId": "6c45c9bc-e166-4b77-f5a6-abb00cd19d86"
      },
      "source": [
        "for i in numerical_variables:\n",
        "    if churn[i].dtype==object:\n",
        "        print(i)\n",
        "        numerical_variables.remove(i)\n",
        "    "
      ],
      "execution_count": null,
      "outputs": [
        {
          "output_type": "stream",
          "text": [
            "Surname\n"
          ],
          "name": "stdout"
        }
      ]
    },
    {
      "cell_type": "markdown",
      "metadata": {
        "id": "bvjnWT9elJYq"
      },
      "source": [
        "# Visualization"
      ]
    },
    {
      "cell_type": "code",
      "metadata": {
        "ExecuteTime": {
          "end_time": "2021-08-07T12:00:02.624598Z",
          "start_time": "2021-08-07T12:00:02.225844Z"
        },
        "id": "IELrpEySlJYq"
      },
      "source": [
        "from matplotlib import pyplot as plt\n",
        "%matplotlib inline"
      ],
      "execution_count": null,
      "outputs": []
    },
    {
      "cell_type": "code",
      "metadata": {
        "ExecuteTime": {
          "end_time": "2021-08-07T12:00:04.646309Z",
          "start_time": "2021-08-07T12:00:04.402837Z"
        },
        "id": "mcr8vOHglJYq",
        "outputId": "5dc38624-f7bc-4113-b85a-2a5c59aba4e1"
      },
      "source": [
        "churn['Tenure'].value_counts().plot.bar()"
      ],
      "execution_count": null,
      "outputs": [
        {
          "output_type": "execute_result",
          "data": {
            "text/plain": [
              "<AxesSubplot:>"
            ]
          },
          "metadata": {
            "tags": []
          },
          "execution_count": 51
        },
        {
          "output_type": "display_data",
          "data": {
            "image/png": "[encoded data removed]",
            "text/plain": [
              "<Figure size 432x288 with 1 Axes>"
            ]
          },
          "metadata": {
            "tags": [],
            "needs_background": "light"
          }
        }
      ]
    },
    {
      "cell_type": "code",
      "metadata": {
        "ExecuteTime": {
          "end_time": "2021-08-07T12:00:06.734786Z",
          "start_time": "2021-08-07T12:00:05.089036Z"
        },
        "id": "lqwpEFcKlJYq",
        "outputId": "da0e6fa7-49c1-4fd2-c567-fcc1c4a22f23"
      },
      "source": [
        "for i in numerical_variables:\n",
        "    print(\"This is the variable: \",i)\n",
        "    print(churn[i].describe())\n",
        "    plt.hist(churn[i])\n",
        "    plt.show()\n",
        "    plt.boxplot(churn[i])\n",
        "    plt.show()\n",
        "    print(\"*\"*100)\n",
        "    "
      ],
      "execution_count": null,
      "outputs": [
        {
          "output_type": "stream",
          "text": [
            "This is the variable:  CustomerId\n",
            "count    1.000000e+04\n",
            "mean     1.569094e+07\n",
            "std      7.193619e+04\n",
            "min      1.556570e+07\n",
            "25%      1.562853e+07\n",
            "50%      1.569074e+07\n",
            "75%      1.575323e+07\n",
            "max      1.581569e+07\n",
            "Name: CustomerId, dtype: float64\n"
          ],
          "name": "stdout"
        },
        {
          "output_type": "display_data",
          "data": {
            "image/png": "[encoded data removed]",
            "text/plain": [
              "<Figure size 432x288 with 1 Axes>"
            ]
          },
          "metadata": {
            "tags": [],
            "needs_background": "light"
          }
        },
        {
          "output_type": "display_data",
          "data": {
            "image/png": "[encoded data removed]",
            "text/plain": [
              "<Figure size 432x288 with 1 Axes>"
            ]
          },
          "metadata": {
            "tags": [],
            "needs_background": "light"
          }
        },
        {
          "output_type": "stream",
          "text": [
            "****************************************************************************************************\n",
            "This is the variable:  Age\n",
            "count    10000.000000\n",
            "mean        38.921800\n",
            "std         10.487806\n",
            "min         18.000000\n",
            "25%         32.000000\n",
            "50%         37.000000\n",
            "75%         44.000000\n",
            "max         92.000000\n",
            "Name: Age, dtype: float64\n"
          ],
          "name": "stdout"
        },
        {
          "output_type": "display_data",
          "data": {
            "image/png": "[encoded data removed]",
            "text/plain": [
              "<Figure size 432x288 with 1 Axes>"
            ]
          },
          "metadata": {
            "tags": [],
            "needs_background": "light"
          }
        },
        {
          "output_type": "display_data",
          "data": {
            "image/png": "[encoded data removed]",
            "text/plain": [
              "<Figure size 432x288 with 1 Axes>"
            ]
          },
          "metadata": {
            "tags": [],
            "needs_background": "light"
          }
        },
        {
          "output_type": "stream",
          "text": [
            "****************************************************************************************************\n",
            "This is the variable:  Tenure\n",
            "count    10000.000000\n",
            "mean         5.012800\n",
            "std          2.892174\n",
            "min          0.000000\n",
            "25%          3.000000\n",
            "50%          5.000000\n",
            "75%          7.000000\n",
            "max         10.000000\n",
            "Name: Tenure, dtype: float64\n"
          ],
          "name": "stdout"
        },
        {
          "output_type": "display_data",
          "data": {
            "image/png": "[encoded data removed]",
            "text/plain": [
              "<Figure size 432x288 with 1 Axes>"
            ]
          },
          "metadata": {
            "tags": [],
            "needs_background": "light"
          }
        },
        {
          "output_type": "display_data",
          "data": {
            "image/png": "[encoded data removed]",
            "text/plain": [
              "<Figure size 432x288 with 1 Axes>"
            ]
          },
          "metadata": {
            "tags": [],
            "needs_background": "light"
          }
        },
        {
          "output_type": "stream",
          "text": [
            "****************************************************************************************************\n",
            "This is the variable:  EstimatedSalary\n",
            "count     10000.000000\n",
            "mean     100090.239881\n",
            "std       57510.492818\n",
            "min          11.580000\n",
            "25%       51002.110000\n",
            "50%      100193.915000\n",
            "75%      149388.247500\n",
            "max      199992.480000\n",
            "Name: EstimatedSalary, dtype: float64\n"
          ],
          "name": "stdout"
        },
        {
          "output_type": "display_data",
          "data": {
            "image/png": "[encoded data removed]",
            "text/plain": [
              "<Figure size 432x288 with 1 Axes>"
            ]
          },
          "metadata": {
            "tags": [],
            "needs_background": "light"
          }
        },
        {
          "output_type": "display_data",
          "data": {
            "image/png": "[encoded data removed]",
            "text/plain": [
              "<Figure size 432x288 with 1 Axes>"
            ]
          },
          "metadata": {
            "tags": [],
            "needs_background": "light"
          }
        },
        {
          "output_type": "stream",
          "text": [
            "****************************************************************************************************\n",
            "This is the variable:  CreditScore\n",
            "count    10000.000000\n",
            "mean       650.528800\n",
            "std         96.653299\n",
            "min        350.000000\n",
            "25%        584.000000\n",
            "50%        652.000000\n",
            "75%        718.000000\n",
            "max        850.000000\n",
            "Name: CreditScore, dtype: float64\n"
          ],
          "name": "stdout"
        },
        {
          "output_type": "display_data",
          "data": {
            "image/png": "[encoded data removed]",
            "text/plain": [
              "<Figure size 432x288 with 1 Axes>"
            ]
          },
          "metadata": {
            "tags": [],
            "needs_background": "light"
          }
        },
        {
          "output_type": "display_data",
          "data": {
            "image/png": "[encoded data removed]",
            "text/plain": [
              "<Figure size 432x288 with 1 Axes>"
            ]
          },
          "metadata": {
            "tags": [],
            "needs_background": "light"
          }
        },
        {
          "output_type": "stream",
          "text": [
            "****************************************************************************************************\n",
            "This is the variable:  Balance\n",
            "count     10000.000000\n",
            "mean      76485.889288\n",
            "std       62397.405202\n",
            "min           0.000000\n",
            "25%           0.000000\n",
            "50%       97198.540000\n",
            "75%      127644.240000\n",
            "max      250898.090000\n",
            "Name: Balance, dtype: float64\n"
          ],
          "name": "stdout"
        },
        {
          "output_type": "display_data",
          "data": {
            "image/png": "[encoded data removed]",
            "text/plain": [
              "<Figure size 432x288 with 1 Axes>"
            ]
          },
          "metadata": {
            "tags": [],
            "needs_background": "light"
          }
        },
        {
          "output_type": "display_data",
          "data": {
            "image/png": "[encoded data removed]",
            "text/plain": [
              "<Figure size 432x288 with 1 Axes>"
            ]
          },
          "metadata": {
            "tags": [],
            "needs_background": "light"
          }
        },
        {
          "output_type": "stream",
          "text": [
            "****************************************************************************************************\n",
            "This is the variable:  RowNumber\n",
            "count    10000.00000\n",
            "mean      5000.50000\n",
            "std       2886.89568\n",
            "min          1.00000\n",
            "25%       2500.75000\n",
            "50%       5000.50000\n",
            "75%       7500.25000\n",
            "max      10000.00000\n",
            "Name: RowNumber, dtype: float64\n"
          ],
          "name": "stdout"
        },
        {
          "output_type": "display_data",
          "data": {
            "image/png": "[encoded data removed]",
            "text/plain": [
              "<Figure size 432x288 with 1 Axes>"
            ]
          },
          "metadata": {
            "tags": [],
            "needs_background": "light"
          }
        },
        {
          "output_type": "display_data",
          "data": {
            "image/png": "[encoded data removed]",
            "text/plain": [
              "<Figure size 432x288 with 1 Axes>"
            ]
          },
          "metadata": {
            "tags": [],
            "needs_background": "light"
          }
        },
        {
          "output_type": "stream",
          "text": [
            "****************************************************************************************************\n"
          ],
          "name": "stdout"
        }
      ]
    },
    {
      "cell_type": "code",
      "metadata": {
        "ExecuteTime": {
          "end_time": "2021-08-07T12:04:01.242857Z",
          "start_time": "2021-08-07T12:04:01.224051Z"
        },
        "id": "2z7pyKC9lJYs",
        "outputId": "216dc4ed-9805-41da-96a3-5ac55a2f938b"
      },
      "source": [
        "np.percentile(churn['Age'],q=99)"
      ],
      "execution_count": null,
      "outputs": [
        {
          "output_type": "execute_result",
          "data": {
            "text/plain": [
              "72.0"
            ]
          },
          "metadata": {
            "tags": []
          },
          "execution_count": 55
        }
      ]
    },
    {
      "cell_type": "code",
      "metadata": {
        "ExecuteTime": {
          "end_time": "2021-08-07T12:08:37.542652Z",
          "start_time": "2021-08-07T12:08:37.520455Z"
        },
        "id": "a1n6PknclJYs",
        "outputId": "a82cf951-e12d-4f00-de47-9b0cbaecd916"
      },
      "source": [
        "(churn['Age']>80).value_counts()"
      ],
      "execution_count": null,
      "outputs": [
        {
          "output_type": "execute_result",
          "data": {
            "text/plain": [
              "False    9988\n",
              "True       12\n",
              "Name: Age, dtype: int64"
            ]
          },
          "metadata": {
            "tags": []
          },
          "execution_count": 56
        }
      ]
    },
    {
      "cell_type": "code",
      "metadata": {
        "ExecuteTime": {
          "end_time": "2021-08-07T12:08:52.589167Z",
          "start_time": "2021-08-07T12:08:52.020247Z"
        },
        "id": "F7iEMNOIlJYs",
        "outputId": "bc7ba14a-c0e6-4431-b2b7-186120f90877"
      },
      "source": [
        "for i in categorical_variables:\n",
        "    print(\"This is the variable: \",i)\n",
        "    print(churn[i].value_counts())\n",
        "    churn[i].value_counts().plot.bar()\n",
        "    plt.show()\n",
        "    print(\"*\"*100)\n",
        "    "
      ],
      "execution_count": null,
      "outputs": [
        {
          "output_type": "stream",
          "text": [
            "This is the variable:  Geography\n",
            "France     5014\n",
            "Germany    2509\n",
            "Spain      2477\n",
            "Name: Geography, dtype: int64\n"
          ],
          "name": "stdout"
        },
        {
          "output_type": "display_data",
          "data": {
            "image/png": "[encoded data removed]",
            "text/plain": [
              "<Figure size 432x288 with 1 Axes>"
            ]
          },
          "metadata": {
            "tags": [],
            "needs_background": "light"
          }
        },
        {
          "output_type": "stream",
          "text": [
            "****************************************************************************************************\n",
            "This is the variable:  Gender\n",
            "Male      5457\n",
            "Female    4543\n",
            "Name: Gender, dtype: int64\n"
          ],
          "name": "stdout"
        },
        {
          "output_type": "display_data",
          "data": {
            "image/png": "[encoded data removed]",
            "text/plain": [
              "<Figure size 432x288 with 1 Axes>"
            ]
          },
          "metadata": {
            "tags": [],
            "needs_background": "light"
          }
        },
        {
          "output_type": "stream",
          "text": [
            "****************************************************************************************************\n",
            "This is the variable:  NumOfProducts\n",
            "1    5084\n",
            "2    4590\n",
            "3     266\n",
            "4      60\n",
            "Name: NumOfProducts, dtype: int64\n"
          ],
          "name": "stdout"
        },
        {
          "output_type": "display_data",
          "data": {
            "image/png": "[encoded data removed]",
            "text/plain": [
              "<Figure size 432x288 with 1 Axes>"
            ]
          },
          "metadata": {
            "tags": [],
            "needs_background": "light"
          }
        },
        {
          "output_type": "stream",
          "text": [
            "****************************************************************************************************\n",
            "This is the variable:  HasCrCard\n",
            "1    7055\n",
            "0    2945\n",
            "Name: HasCrCard, dtype: int64\n"
          ],
          "name": "stdout"
        },
        {
          "output_type": "display_data",
          "data": {
            "image/png": "[encoded data removed]",
            "text/plain": [
              "<Figure size 432x288 with 1 Axes>"
            ]
          },
          "metadata": {
            "tags": [],
            "needs_background": "light"
          }
        },
        {
          "output_type": "stream",
          "text": [
            "****************************************************************************************************\n",
            "This is the variable:  IsActiveMember\n",
            "1    5151\n",
            "0    4849\n",
            "Name: IsActiveMember, dtype: int64\n"
          ],
          "name": "stdout"
        },
        {
          "output_type": "display_data",
          "data": {
            "image/png": "[encoded data removed]",
            "text/plain": [
              "<Figure size 432x288 with 1 Axes>"
            ]
          },
          "metadata": {
            "tags": [],
            "needs_background": "light"
          }
        },
        {
          "output_type": "stream",
          "text": [
            "****************************************************************************************************\n",
            "This is the variable:  Exited\n",
            "0    7963\n",
            "1    2037\n",
            "Name: Exited, dtype: int64\n"
          ],
          "name": "stdout"
        },
        {
          "output_type": "display_data",
          "data": {
            "image/png": "[encoded data removed]",
            "text/plain": [
              "<Figure size 432x288 with 1 Axes>"
            ]
          },
          "metadata": {
            "tags": [],
            "needs_background": "light"
          }
        },
        {
          "output_type": "stream",
          "text": [
            "****************************************************************************************************\n",
            "This is the variable:  predictions_baseline\n",
            "0    7889\n",
            "1    2111\n",
            "Name: predictions_baseline, dtype: int64\n"
          ],
          "name": "stdout"
        },
        {
          "output_type": "display_data",
          "data": {
            "image/png": "[encoded data removed]",
            "text/plain": [
              "<Figure size 432x288 with 1 Axes>"
            ]
          },
          "metadata": {
            "tags": [],
            "needs_background": "light"
          }
        },
        {
          "output_type": "stream",
          "text": [
            "****************************************************************************************************\n"
          ],
          "name": "stdout"
        }
      ]
    },
    {
      "cell_type": "code",
      "metadata": {
        "ExecuteTime": {
          "end_time": "2021-08-07T12:10:47.867226Z",
          "start_time": "2021-08-07T12:10:47.856096Z"
        },
        "id": "s8qG7L9JlJYs",
        "outputId": "8fcefcb4-b5d6-446c-fd47-1f06a209253b"
      },
      "source": [
        "churn.groupby(by='Geography')['Balance'].mean()"
      ],
      "execution_count": null,
      "outputs": [
        {
          "output_type": "execute_result",
          "data": {
            "text/plain": [
              "Geography\n",
              "France      62092.636516\n",
              "Germany    119730.116134\n",
              "Spain       61818.147763\n",
              "Name: Balance, dtype: float64"
            ]
          },
          "metadata": {
            "tags": []
          },
          "execution_count": 58
        }
      ]
    },
    {
      "cell_type": "code",
      "metadata": {
        "ExecuteTime": {
          "end_time": "2021-08-07T12:10:55.349136Z",
          "start_time": "2021-08-07T12:10:55.341819Z"
        },
        "id": "mhpFiEBIlJYt",
        "outputId": "fba75cd5-dd17-430a-a8e4-93f76079ee8a"
      },
      "source": [
        "churn.groupby(by='Geography')['Balance'].median()"
      ],
      "execution_count": null,
      "outputs": [
        {
          "output_type": "execute_result",
          "data": {
            "text/plain": [
              "Geography\n",
              "France      62153.50\n",
              "Germany    119703.10\n",
              "Spain       61710.44\n",
              "Name: Balance, dtype: float64"
            ]
          },
          "metadata": {
            "tags": []
          },
          "execution_count": 59
        }
      ]
    },
    {
      "cell_type": "code",
      "metadata": {
        "ExecuteTime": {
          "end_time": "2021-08-07T12:11:19.512576Z",
          "start_time": "2021-08-07T12:11:19.481098Z"
        },
        "id": "dSom-LO0lJYt",
        "outputId": "4189c6d7-2785-455f-d745-2bee5abd020e"
      },
      "source": [
        "churn.groupby(by='Geography')['Balance'].agg(['min',\"max\",\"mean\",\"median\"])"
      ],
      "execution_count": null,
      "outputs": [
        {
          "output_type": "execute_result",
          "data": {
            "text/html": [
              "<div>\n",
              "<style scoped>\n",
              "    .dataframe tbody tr th:only-of-type {\n",
              "        vertical-align: middle;\n",
              "    }\n",
              "\n",
              "    .dataframe tbody tr th {\n",
              "        vertical-align: top;\n",
              "    }\n",
              "\n",
              "    .dataframe thead th {\n",
              "        text-align: right;\n",
              "    }\n",
              "</style>\n",
              "<table border=\"1\" class=\"dataframe\">\n",
              "  <thead>\n",
              "    <tr style=\"text-align: right;\">\n",
              "      <th></th>\n",
              "      <th>min</th>\n",
              "      <th>max</th>\n",
              "      <th>mean</th>\n",
              "      <th>median</th>\n",
              "    </tr>\n",
              "    <tr>\n",
              "      <th>Geography</th>\n",
              "      <th></th>\n",
              "      <th></th>\n",
              "      <th></th>\n",
              "      <th></th>\n",
              "    </tr>\n",
              "  </thead>\n",
              "  <tbody>\n",
              "    <tr>\n",
              "      <th>France</th>\n",
              "      <td>0.00</td>\n",
              "      <td>238387.56</td>\n",
              "      <td>62092.636516</td>\n",
              "      <td>62153.50</td>\n",
              "    </tr>\n",
              "    <tr>\n",
              "      <th>Germany</th>\n",
              "      <td>27288.43</td>\n",
              "      <td>214346.96</td>\n",
              "      <td>119730.116134</td>\n",
              "      <td>119703.10</td>\n",
              "    </tr>\n",
              "    <tr>\n",
              "      <th>Spain</th>\n",
              "      <td>0.00</td>\n",
              "      <td>250898.09</td>\n",
              "      <td>61818.147763</td>\n",
              "      <td>61710.44</td>\n",
              "    </tr>\n",
              "  </tbody>\n",
              "</table>\n",
              "</div>"
            ],
            "text/plain": [
              "                min        max           mean     median\n",
              "Geography                                               \n",
              "France         0.00  238387.56   62092.636516   62153.50\n",
              "Germany    27288.43  214346.96  119730.116134  119703.10\n",
              "Spain          0.00  250898.09   61818.147763   61710.44"
            ]
          },
          "metadata": {
            "tags": []
          },
          "execution_count": 60
        }
      ]
    },
    {
      "cell_type": "code",
      "metadata": {
        "ExecuteTime": {
          "end_time": "2021-08-07T12:12:41.626963Z",
          "start_time": "2021-08-07T12:12:41.615610Z"
        },
        "id": "MMLVBDvFlJYt"
      },
      "source": [
        "numerical_variables.remove('RowNumber')\n",
        "numerical_variables.remove('CustomerId')"
      ],
      "execution_count": null,
      "outputs": []
    },
    {
      "cell_type": "code",
      "metadata": {
        "ExecuteTime": {
          "end_time": "2021-08-07T12:12:53.830202Z",
          "start_time": "2021-08-07T12:12:53.815695Z"
        },
        "id": "0CzO-YpllJYt"
      },
      "source": [
        "categorical_variables.remove('predictions_baseline')"
      ],
      "execution_count": null,
      "outputs": []
    },
    {
      "cell_type": "code",
      "metadata": {
        "ExecuteTime": {
          "end_time": "2021-08-07T12:13:41.708233Z",
          "start_time": "2021-08-07T12:13:41.577128Z"
        },
        "id": "p4ez-GOplJYt",
        "outputId": "b9138abc-a78b-4c7f-8b81-798eaa9917b1"
      },
      "source": [
        "for i in numerical_variables:\n",
        "    print(\"---\"*30)\n",
        "    print(\"NUMERICAL is \",i)\n",
        "    print(\"---\"*30)\n",
        "    for j in categorical_variables:\n",
        "        \n",
        "        print(\"CATEGORICAL is \",j)\n",
        "        print(churn.groupby(by=j)[i].agg(['min',\"max\",\"mean\",\"median\"]))\n",
        "        print(\"*\"*50)"
      ],
      "execution_count": null,
      "outputs": [
        {
          "output_type": "stream",
          "text": [
            "------------------------------------------------------------------------------------------\n",
            "NUMERICAL is  Age\n",
            "------------------------------------------------------------------------------------------\n",
            "CATEGORICAL is  Geography\n",
            "           min  max       mean  median\n",
            "Geography                             \n",
            "France      18   92  38.511767      37\n",
            "Germany     18   84  39.771622      38\n",
            "Spain       18   88  38.890997      37\n",
            "**************************************************\n",
            "CATEGORICAL is  Gender\n",
            "        min  max       mean  median\n",
            "Gender                             \n",
            "Female   18   85  39.238389      38\n",
            "Male     18   92  38.658237      37\n",
            "**************************************************\n",
            "CATEGORICAL is  NumOfProducts\n",
            "               min  max       mean  median\n",
            "NumOfProducts                             \n",
            "1               18   92  39.673092      38\n",
            "2               18   92  37.753595      36\n",
            "3               21   77  43.195489      42\n",
            "4               29   68  45.683333      45\n",
            "**************************************************\n",
            "CATEGORICAL is  HasCrCard\n",
            "           min  max       mean  median\n",
            "HasCrCard                             \n",
            "0           18   92  39.112054      38\n",
            "1           18   92  38.842381      37\n",
            "**************************************************\n",
            "CATEGORICAL is  IsActiveMember\n",
            "                min  max       mean  median\n",
            "IsActiveMember                             \n",
            "0                18   84  37.997938      37\n",
            "1                18   92  39.791497      37\n",
            "**************************************************\n",
            "CATEGORICAL is  Exited\n",
            "        min  max       mean  median\n",
            "Exited                             \n",
            "0        18   92  37.408389      36\n",
            "1        18   84  44.837997      45\n",
            "**************************************************\n",
            "------------------------------------------------------------------------------------------\n",
            "NUMERICAL is  Tenure\n",
            "------------------------------------------------------------------------------------------\n",
            "CATEGORICAL is  Geography\n",
            "           min  max      mean  median\n",
            "Geography                            \n",
            "France       0   10  5.004587       5\n",
            "Germany      0   10  5.009964       5\n",
            "Spain        0   10  5.032297       5\n",
            "**************************************************\n",
            "CATEGORICAL is  Gender\n",
            "        min  max      mean  median\n",
            "Gender                            \n",
            "Female    0   10  4.966102       5\n",
            "Male      0   10  5.051677       5\n",
            "**************************************************\n",
            "CATEGORICAL is  NumOfProducts\n",
            "               min  max      mean  median\n",
            "NumOfProducts                            \n",
            "1                0   10  4.974626       5\n",
            "2                0   10  5.051852       5\n",
            "3                0   10  5.003759       5\n",
            "4                1   10  5.300000       5\n",
            "**************************************************\n",
            "CATEGORICAL is  HasCrCard\n",
            "           min  max      mean  median\n",
            "HasCrCard                            \n",
            "0            0   10  4.911715       5\n",
            "1            0   10  5.054996       5\n",
            "**************************************************\n",
            "CATEGORICAL is  IsActiveMember\n",
            "                min  max      mean  median\n",
            "IsActiveMember                            \n",
            "0                 0   10  5.097340       5\n",
            "1                 0   10  4.933217       5\n",
            "**************************************************\n",
            "CATEGORICAL is  Exited\n",
            "        min  max      mean  median\n",
            "Exited                            \n",
            "0         0   10  5.033279       5\n",
            "1         0   10  4.932744       5\n",
            "**************************************************\n",
            "------------------------------------------------------------------------------------------\n",
            "NUMERICAL is  EstimatedSalary\n",
            "------------------------------------------------------------------------------------------\n",
            "CATEGORICAL is  Geography\n",
            "              min        max           mean     median\n",
            "Geography                                             \n",
            "France      90.07  199929.17   99899.180814   99132.31\n",
            "Germany     11.58  199970.74  101113.435102  102397.22\n",
            "Spain      417.41  199992.48   99440.572281   99984.86\n",
            "**************************************************\n",
            "CATEGORICAL is  Gender\n",
            "          min        max           mean     median\n",
            "Gender                                            \n",
            "Female  91.75  199992.48  100601.541382  101905.34\n",
            "Male    11.58  199953.33   99664.576931   98060.51\n",
            "**************************************************\n",
            "CATEGORICAL is  NumOfProducts\n",
            "                   min        max           mean      median\n",
            "NumOfProducts                                               \n",
            "1                11.58  199970.74   99487.256851   99226.830\n",
            "2                90.07  199992.48  100452.012821  100738.855\n",
            "3              3440.47  199357.24  104318.130564  101046.885\n",
            "4              5669.31  198874.52  104763.723333  112163.105\n",
            "**************************************************\n",
            "CATEGORICAL is  HasCrCard\n",
            "             min        max           mean     median\n",
            "HasCrCard                                            \n",
            "0          90.07  199992.48  100974.397711  101617.43\n",
            "1          11.58  199970.74   99721.161949   99398.36\n",
            "**************************************************\n",
            "CATEGORICAL is  IsActiveMember\n",
            "                  min        max           mean     median\n",
            "IsActiveMember                                            \n",
            "0               91.75  199992.48  100767.203854  100686.11\n",
            "1               11.58  199953.33   99452.965894   99505.75\n",
            "**************************************************\n",
            "CATEGORICAL is  Exited\n",
            "          min        max           mean     median\n",
            "Exited                                            \n",
            "0       90.07  199992.48   99738.391772   99645.04\n",
            "1       11.58  199808.10  101465.677531  102460.84\n",
            "**************************************************\n",
            "------------------------------------------------------------------------------------------\n",
            "NUMERICAL is  CreditScore\n",
            "------------------------------------------------------------------------------------------\n",
            "CATEGORICAL is  Geography\n",
            "           min  max        mean  median\n",
            "Geography                              \n",
            "France     350  850  649.668329     653\n",
            "Germany    350  850  651.453567     651\n",
            "Spain      350  850  651.333872     651\n",
            "**************************************************\n",
            "CATEGORICAL is  Gender\n",
            "        min  max        mean  median\n",
            "Gender                              \n",
            "Female  350  850  650.831389     652\n",
            "Male    350  850  650.276892     651\n",
            "**************************************************\n",
            "CATEGORICAL is  NumOfProducts\n",
            "               min  max        mean  median\n",
            "NumOfProducts                              \n",
            "1              350  850  649.120968     651\n",
            "2              350  850  652.188671     653\n",
            "3              358  850  648.105263     650\n",
            "4              376  850  653.583333     643\n",
            "**************************************************\n",
            "CATEGORICAL is  HasCrCard\n",
            "           min  max        mean  median\n",
            "HasCrCard                              \n",
            "0          350  850  651.345331     654\n",
            "1          350  850  650.187952     651\n",
            "**************************************************\n",
            "CATEGORICAL is  IsActiveMember\n",
            "                min  max        mean  median\n",
            "IsActiveMember                              \n",
            "0               350  850  647.973603     650\n",
            "1               350  850  652.934188     655\n",
            "**************************************************\n",
            "CATEGORICAL is  Exited\n",
            "        min  max        mean  median\n",
            "Exited                              \n",
            "0       405  850  651.853196     653\n",
            "1       350  850  645.351497     646\n",
            "**************************************************\n",
            "------------------------------------------------------------------------------------------\n",
            "NUMERICAL is  Balance\n",
            "------------------------------------------------------------------------------------------\n",
            "CATEGORICAL is  Geography\n",
            "                min        max           mean     median\n",
            "Geography                                               \n",
            "France         0.00  238387.56   62092.636516   62153.50\n",
            "Germany    27288.43  214346.96  119730.116134  119703.10\n",
            "Spain          0.00  250898.09   61818.147763   61710.44\n",
            "**************************************************\n",
            "CATEGORICAL is  Gender\n",
            "        min        max          mean    median\n",
            "Gender                                        \n",
            "Female  0.0  238387.56  75659.369139  96147.55\n",
            "Male    0.0  250898.09  77173.974506  98064.97\n",
            "**************************************************\n",
            "CATEGORICAL is  NumOfProducts\n",
            "               min        max          mean      median\n",
            "NumOfProducts                                          \n",
            "1              0.0  238387.56  98551.870614  111886.035\n",
            "2              0.0  214346.96  51879.145813       0.000\n",
            "3              0.0  250898.09  75458.328195   95973.935\n",
            "4              0.0  195238.29  93733.135000  116808.195\n",
            "**************************************************\n",
            "CATEGORICAL is  HasCrCard\n",
            "           min        max          mean    median\n",
            "HasCrCard                                        \n",
            "0          0.0  250898.09  77920.787552  97990.49\n",
            "1          0.0  221532.80  75886.913330  96877.21\n",
            "**************************************************\n",
            "CATEGORICAL is  IsActiveMember\n",
            "                min        max          mean    median\n",
            "IsActiveMember                                        \n",
            "0               0.0  222267.63  77134.376863  98263.46\n",
            "1               0.0  250898.09  75875.422145  96166.88\n",
            "**************************************************\n",
            "CATEGORICAL is  Exited\n",
            "        min        max          mean     median\n",
            "Exited                                         \n",
            "0       0.0  221532.80  72745.296779   92072.68\n",
            "1       0.0  250898.09  91108.539337  109349.29\n",
            "**************************************************\n"
          ],
          "name": "stdout"
        }
      ]
    },
    {
      "cell_type": "code",
      "metadata": {
        "ExecuteTime": {
          "end_time": "2021-08-07T12:21:52.812758Z",
          "start_time": "2021-08-07T12:21:52.805631Z"
        },
        "id": "FyMlWT36lJYu",
        "outputId": "c84794a3-0040-4acb-c595-c2fa66b10b3f"
      },
      "source": [
        "churn['CustomerId'].nunique()"
      ],
      "execution_count": null,
      "outputs": [
        {
          "output_type": "execute_result",
          "data": {
            "text/plain": [
              "10000"
            ]
          },
          "metadata": {
            "tags": []
          },
          "execution_count": 71
        }
      ]
    },
    {
      "cell_type": "code",
      "metadata": {
        "ExecuteTime": {
          "end_time": "2021-08-07T12:23:26.653564Z",
          "start_time": "2021-08-07T12:23:26.642263Z"
        },
        "id": "0kN2V7yalJYu"
      },
      "source": [
        "num2_churn=churn[churn['NumOfProducts']==2]"
      ],
      "execution_count": null,
      "outputs": []
    },
    {
      "cell_type": "code",
      "metadata": {
        "ExecuteTime": {
          "end_time": "2021-08-07T12:23:46.437807Z",
          "start_time": "2021-08-07T12:23:46.430166Z"
        },
        "id": "hYZzrBJWlJYu",
        "outputId": "df3563ca-2ec9-467f-e45f-c5daa30c9e80"
      },
      "source": [
        "num2_churn['Exited'].value_counts(normalize=True)"
      ],
      "execution_count": null,
      "outputs": [
        {
          "output_type": "execute_result",
          "data": {
            "text/plain": [
              "0    0.924183\n",
              "1    0.075817\n",
              "Name: Exited, dtype: float64"
            ]
          },
          "metadata": {
            "tags": []
          },
          "execution_count": 76
        }
      ]
    },
    {
      "cell_type": "code",
      "metadata": {
        "ExecuteTime": {
          "end_time": "2021-08-07T12:17:06.961713Z",
          "start_time": "2021-08-07T12:17:06.936323Z"
        },
        "id": "ShTrv-lPlJYu",
        "outputId": "96ed74bb-577c-43e1-df97-68cb415c91ce"
      },
      "source": [
        "churn[churn['Geography']=='Germany'].sort_values(by='EstimatedSalary')"
      ],
      "execution_count": null,
      "outputs": [
        {
          "output_type": "execute_result",
          "data": {
            "text/html": [
              "<div>\n",
              "<style scoped>\n",
              "    .dataframe tbody tr th:only-of-type {\n",
              "        vertical-align: middle;\n",
              "    }\n",
              "\n",
              "    .dataframe tbody tr th {\n",
              "        vertical-align: top;\n",
              "    }\n",
              "\n",
              "    .dataframe thead th {\n",
              "        text-align: right;\n",
              "    }\n",
              "</style>\n",
              "<table border=\"1\" class=\"dataframe\">\n",
              "  <thead>\n",
              "    <tr style=\"text-align: right;\">\n",
              "      <th></th>\n",
              "      <th>RowNumber</th>\n",
              "      <th>CustomerId</th>\n",
              "      <th>Surname</th>\n",
              "      <th>CreditScore</th>\n",
              "      <th>Geography</th>\n",
              "      <th>Gender</th>\n",
              "      <th>Age</th>\n",
              "      <th>Tenure</th>\n",
              "      <th>Balance</th>\n",
              "      <th>NumOfProducts</th>\n",
              "      <th>HasCrCard</th>\n",
              "      <th>IsActiveMember</th>\n",
              "      <th>EstimatedSalary</th>\n",
              "      <th>Exited</th>\n",
              "      <th>predictions_baseline</th>\n",
              "    </tr>\n",
              "  </thead>\n",
              "  <tbody>\n",
              "    <tr>\n",
              "      <th>2362</th>\n",
              "      <td>2363</td>\n",
              "      <td>15791053</td>\n",
              "      <td>Lucciano</td>\n",
              "      <td>709</td>\n",
              "      <td>Germany</td>\n",
              "      <td>Male</td>\n",
              "      <td>45</td>\n",
              "      <td>4</td>\n",
              "      <td>122917.71</td>\n",
              "      <td>1</td>\n",
              "      <td>1</td>\n",
              "      <td>1</td>\n",
              "      <td>11.58</td>\n",
              "      <td>1</td>\n",
              "      <td>0</td>\n",
              "    </tr>\n",
              "    <tr>\n",
              "      <th>9010</th>\n",
              "      <td>9011</td>\n",
              "      <td>15786463</td>\n",
              "      <td>Hsing</td>\n",
              "      <td>645</td>\n",
              "      <td>Germany</td>\n",
              "      <td>Female</td>\n",
              "      <td>59</td>\n",
              "      <td>8</td>\n",
              "      <td>121669.93</td>\n",
              "      <td>2</td>\n",
              "      <td>0</td>\n",
              "      <td>0</td>\n",
              "      <td>91.75</td>\n",
              "      <td>1</td>\n",
              "      <td>1</td>\n",
              "    </tr>\n",
              "    <tr>\n",
              "      <th>1462</th>\n",
              "      <td>1463</td>\n",
              "      <td>15566211</td>\n",
              "      <td>Hsu</td>\n",
              "      <td>616</td>\n",
              "      <td>Germany</td>\n",
              "      <td>Female</td>\n",
              "      <td>41</td>\n",
              "      <td>1</td>\n",
              "      <td>103560.57</td>\n",
              "      <td>1</td>\n",
              "      <td>1</td>\n",
              "      <td>0</td>\n",
              "      <td>236.45</td>\n",
              "      <td>1</td>\n",
              "      <td>0</td>\n",
              "    </tr>\n",
              "    <tr>\n",
              "      <th>2046</th>\n",
              "      <td>2047</td>\n",
              "      <td>15733429</td>\n",
              "      <td>Chou</td>\n",
              "      <td>520</td>\n",
              "      <td>Germany</td>\n",
              "      <td>Male</td>\n",
              "      <td>34</td>\n",
              "      <td>8</td>\n",
              "      <td>120018.86</td>\n",
              "      <td>2</td>\n",
              "      <td>1</td>\n",
              "      <td>1</td>\n",
              "      <td>343.38</td>\n",
              "      <td>0</td>\n",
              "      <td>0</td>\n",
              "    </tr>\n",
              "    <tr>\n",
              "      <th>925</th>\n",
              "      <td>926</td>\n",
              "      <td>15636731</td>\n",
              "      <td>Ts'ai</td>\n",
              "      <td>714</td>\n",
              "      <td>Germany</td>\n",
              "      <td>Female</td>\n",
              "      <td>36</td>\n",
              "      <td>1</td>\n",
              "      <td>101609.01</td>\n",
              "      <td>2</td>\n",
              "      <td>1</td>\n",
              "      <td>1</td>\n",
              "      <td>447.73</td>\n",
              "      <td>0</td>\n",
              "      <td>0</td>\n",
              "    </tr>\n",
              "    <tr>\n",
              "      <th>...</th>\n",
              "      <td>...</td>\n",
              "      <td>...</td>\n",
              "      <td>...</td>\n",
              "      <td>...</td>\n",
              "      <td>...</td>\n",
              "      <td>...</td>\n",
              "      <td>...</td>\n",
              "      <td>...</td>\n",
              "      <td>...</td>\n",
              "      <td>...</td>\n",
              "      <td>...</td>\n",
              "      <td>...</td>\n",
              "      <td>...</td>\n",
              "      <td>...</td>\n",
              "      <td>...</td>\n",
              "    </tr>\n",
              "    <tr>\n",
              "      <th>118</th>\n",
              "      <td>119</td>\n",
              "      <td>15661670</td>\n",
              "      <td>Chidozie</td>\n",
              "      <td>524</td>\n",
              "      <td>Germany</td>\n",
              "      <td>Female</td>\n",
              "      <td>31</td>\n",
              "      <td>8</td>\n",
              "      <td>107818.63</td>\n",
              "      <td>1</td>\n",
              "      <td>1</td>\n",
              "      <td>0</td>\n",
              "      <td>199725.39</td>\n",
              "      <td>1</td>\n",
              "      <td>0</td>\n",
              "    </tr>\n",
              "    <tr>\n",
              "      <th>1986</th>\n",
              "      <td>1987</td>\n",
              "      <td>15772601</td>\n",
              "      <td>Lu</td>\n",
              "      <td>845</td>\n",
              "      <td>Germany</td>\n",
              "      <td>Female</td>\n",
              "      <td>41</td>\n",
              "      <td>2</td>\n",
              "      <td>81733.74</td>\n",
              "      <td>2</td>\n",
              "      <td>0</td>\n",
              "      <td>0</td>\n",
              "      <td>199761.29</td>\n",
              "      <td>0</td>\n",
              "      <td>0</td>\n",
              "    </tr>\n",
              "    <tr>\n",
              "      <th>6125</th>\n",
              "      <td>6126</td>\n",
              "      <td>15687913</td>\n",
              "      <td>Mai</td>\n",
              "      <td>501</td>\n",
              "      <td>Germany</td>\n",
              "      <td>Female</td>\n",
              "      <td>34</td>\n",
              "      <td>7</td>\n",
              "      <td>93244.42</td>\n",
              "      <td>1</td>\n",
              "      <td>0</td>\n",
              "      <td>1</td>\n",
              "      <td>199805.63</td>\n",
              "      <td>0</td>\n",
              "      <td>0</td>\n",
              "    </tr>\n",
              "    <tr>\n",
              "      <th>8088</th>\n",
              "      <td>8089</td>\n",
              "      <td>15815656</td>\n",
              "      <td>Hopkins</td>\n",
              "      <td>541</td>\n",
              "      <td>Germany</td>\n",
              "      <td>Female</td>\n",
              "      <td>39</td>\n",
              "      <td>9</td>\n",
              "      <td>100116.67</td>\n",
              "      <td>1</td>\n",
              "      <td>1</td>\n",
              "      <td>1</td>\n",
              "      <td>199808.10</td>\n",
              "      <td>1</td>\n",
              "      <td>0</td>\n",
              "    </tr>\n",
              "    <tr>\n",
              "      <th>3580</th>\n",
              "      <td>3581</td>\n",
              "      <td>15634359</td>\n",
              "      <td>Dyer</td>\n",
              "      <td>639</td>\n",
              "      <td>Germany</td>\n",
              "      <td>Female</td>\n",
              "      <td>41</td>\n",
              "      <td>5</td>\n",
              "      <td>98635.77</td>\n",
              "      <td>1</td>\n",
              "      <td>1</td>\n",
              "      <td>0</td>\n",
              "      <td>199970.74</td>\n",
              "      <td>0</td>\n",
              "      <td>0</td>\n",
              "    </tr>\n",
              "  </tbody>\n",
              "</table>\n",
              "<p>2509 rows × 15 columns</p>\n",
              "</div>"
            ],
            "text/plain": [
              "      RowNumber  CustomerId   Surname  CreditScore Geography  Gender  Age  \\\n",
              "2362       2363    15791053  Lucciano          709   Germany    Male   45   \n",
              "9010       9011    15786463     Hsing          645   Germany  Female   59   \n",
              "1462       1463    15566211       Hsu          616   Germany  Female   41   \n",
              "2046       2047    15733429      Chou          520   Germany    Male   34   \n",
              "925         926    15636731     Ts'ai          714   Germany  Female   36   \n",
              "...         ...         ...       ...          ...       ...     ...  ...   \n",
              "118         119    15661670  Chidozie          524   Germany  Female   31   \n",
              "1986       1987    15772601        Lu          845   Germany  Female   41   \n",
              "6125       6126    15687913       Mai          501   Germany  Female   34   \n",
              "8088       8089    15815656   Hopkins          541   Germany  Female   39   \n",
              "3580       3581    15634359      Dyer          639   Germany  Female   41   \n",
              "\n",
              "      Tenure    Balance  NumOfProducts  HasCrCard  IsActiveMember  \\\n",
              "2362       4  122917.71              1          1               1   \n",
              "9010       8  121669.93              2          0               0   \n",
              "1462       1  103560.57              1          1               0   \n",
              "2046       8  120018.86              2          1               1   \n",
              "925        1  101609.01              2          1               1   \n",
              "...      ...        ...            ...        ...             ...   \n",
              "118        8  107818.63              1          1               0   \n",
              "1986       2   81733.74              2          0               0   \n",
              "6125       7   93244.42              1          0               1   \n",
              "8088       9  100116.67              1          1               1   \n",
              "3580       5   98635.77              1          1               0   \n",
              "\n",
              "      EstimatedSalary  Exited  predictions_baseline  \n",
              "2362            11.58       1                     0  \n",
              "9010            91.75       1                     1  \n",
              "1462           236.45       1                     0  \n",
              "2046           343.38       0                     0  \n",
              "925            447.73       0                     0  \n",
              "...               ...     ...                   ...  \n",
              "118         199725.39       1                     0  \n",
              "1986        199761.29       0                     0  \n",
              "6125        199805.63       0                     0  \n",
              "8088        199808.10       1                     0  \n",
              "3580        199970.74       0                     0  \n",
              "\n",
              "[2509 rows x 15 columns]"
            ]
          },
          "metadata": {
            "tags": []
          },
          "execution_count": 70
        }
      ]
    },
    {
      "cell_type": "code",
      "metadata": {
        "ExecuteTime": {
          "end_time": "2021-05-23T08:48:49.000308Z",
          "start_time": "2021-05-23T08:48:48.971503Z"
        },
        "id": "KcdxFn_glJYu",
        "outputId": "06c92db7-a710-4c67-a24d-a5209f74a751"
      },
      "source": [
        "churn[churn['Age']>90]"
      ],
      "execution_count": null,
      "outputs": [
        {
          "output_type": "execute_result",
          "data": {
            "text/html": [
              "<div>\n",
              "<style scoped>\n",
              "    .dataframe tbody tr th:only-of-type {\n",
              "        vertical-align: middle;\n",
              "    }\n",
              "\n",
              "    .dataframe tbody tr th {\n",
              "        vertical-align: top;\n",
              "    }\n",
              "\n",
              "    .dataframe thead th {\n",
              "        text-align: right;\n",
              "    }\n",
              "</style>\n",
              "<table border=\"1\" class=\"dataframe\">\n",
              "  <thead>\n",
              "    <tr style=\"text-align: right;\">\n",
              "      <th></th>\n",
              "      <th>RowNumber</th>\n",
              "      <th>CustomerId</th>\n",
              "      <th>Surname</th>\n",
              "      <th>CreditScore</th>\n",
              "      <th>Geography</th>\n",
              "      <th>Gender</th>\n",
              "      <th>Age</th>\n",
              "      <th>Tenure</th>\n",
              "      <th>Balance</th>\n",
              "      <th>NumOfProducts</th>\n",
              "      <th>HasCrCard</th>\n",
              "      <th>IsActiveMember</th>\n",
              "      <th>EstimatedSalary</th>\n",
              "      <th>Exited</th>\n",
              "    </tr>\n",
              "  </thead>\n",
              "  <tbody>\n",
              "    <tr>\n",
              "      <th>6443</th>\n",
              "      <td>6444</td>\n",
              "      <td>15764927</td>\n",
              "      <td>Rogova</td>\n",
              "      <td>753</td>\n",
              "      <td>France</td>\n",
              "      <td>Male</td>\n",
              "      <td>92</td>\n",
              "      <td>3</td>\n",
              "      <td>121513.31</td>\n",
              "      <td>1</td>\n",
              "      <td>0</td>\n",
              "      <td>1</td>\n",
              "      <td>195563.99</td>\n",
              "      <td>0</td>\n",
              "    </tr>\n",
              "    <tr>\n",
              "      <th>6759</th>\n",
              "      <td>6760</td>\n",
              "      <td>15660878</td>\n",
              "      <td>T'ien</td>\n",
              "      <td>705</td>\n",
              "      <td>France</td>\n",
              "      <td>Male</td>\n",
              "      <td>92</td>\n",
              "      <td>1</td>\n",
              "      <td>126076.24</td>\n",
              "      <td>2</td>\n",
              "      <td>1</td>\n",
              "      <td>1</td>\n",
              "      <td>34436.83</td>\n",
              "      <td>0</td>\n",
              "    </tr>\n",
              "  </tbody>\n",
              "</table>\n",
              "</div>"
            ],
            "text/plain": [
              "      RowNumber  CustomerId Surname  CreditScore Geography Gender  Age  \\\n",
              "6443       6444    15764927  Rogova          753    France   Male   92   \n",
              "6759       6760    15660878   T'ien          705    France   Male   92   \n",
              "\n",
              "      Tenure    Balance  NumOfProducts  HasCrCard  IsActiveMember  \\\n",
              "6443       3  121513.31              1          0               1   \n",
              "6759       1  126076.24              2          1               1   \n",
              "\n",
              "      EstimatedSalary  Exited  \n",
              "6443        195563.99       0  \n",
              "6759         34436.83       0  "
            ]
          },
          "metadata": {
            "tags": []
          },
          "execution_count": 31
        }
      ]
    },
    {
      "cell_type": "code",
      "metadata": {
        "ExecuteTime": {
          "end_time": "2021-05-23T08:48:49.031998Z",
          "start_time": "2021-05-23T08:48:49.001782Z"
        },
        "id": "rtKMz94wlJYv",
        "outputId": "26f12343-d809-40f9-a5ac-4c57313a41ca"
      },
      "source": [
        "churn['EstimatedSalary'].describe()"
      ],
      "execution_count": null,
      "outputs": [
        {
          "output_type": "execute_result",
          "data": {
            "text/plain": [
              "count     10000.000000\n",
              "mean     100090.239881\n",
              "std       57510.492818\n",
              "min          11.580000\n",
              "25%       51002.110000\n",
              "50%      100193.915000\n",
              "75%      149388.247500\n",
              "max      199992.480000\n",
              "Name: EstimatedSalary, dtype: float64"
            ]
          },
          "metadata": {
            "tags": []
          },
          "execution_count": 32
        }
      ]
    },
    {
      "cell_type": "code",
      "metadata": {
        "ExecuteTime": {
          "end_time": "2021-05-23T08:48:49.047404Z",
          "start_time": "2021-05-23T08:48:49.034890Z"
        },
        "id": "xlwwmh5zlJYv",
        "outputId": "50d0847b-174d-4a10-e9c9-f4cf081ebc68"
      },
      "source": [
        "churn[churn['Age']>80]['Exited'].value_counts(normalize=True)"
      ],
      "execution_count": null,
      "outputs": [
        {
          "output_type": "execute_result",
          "data": {
            "text/plain": [
              "0    0.916667\n",
              "1    0.083333\n",
              "Name: Exited, dtype: float64"
            ]
          },
          "metadata": {
            "tags": []
          },
          "execution_count": 33
        }
      ]
    },
    {
      "cell_type": "code",
      "metadata": {
        "ExecuteTime": {
          "end_time": "2021-05-23T08:48:49.063568Z",
          "start_time": "2021-05-23T08:48:49.049607Z"
        },
        "id": "RGMAK_oxlJYv",
        "outputId": "231f268c-08b0-4305-d689-4d2d7ca94c59"
      },
      "source": [
        "churn['Exited'].value_counts(normalize=True)"
      ],
      "execution_count": null,
      "outputs": [
        {
          "output_type": "execute_result",
          "data": {
            "text/plain": [
              "0    0.7963\n",
              "1    0.2037\n",
              "Name: Exited, dtype: float64"
            ]
          },
          "metadata": {
            "tags": []
          },
          "execution_count": 34
        }
      ]
    },
    {
      "cell_type": "code",
      "metadata": {
        "ExecuteTime": {
          "end_time": "2021-05-23T08:48:49.094715Z",
          "start_time": "2021-05-23T08:48:49.066770Z"
        },
        "id": "ivkl0WE-lJYv",
        "outputId": "7bf1f9bb-5a20-4f5d-db9b-f42b656c2f1f"
      },
      "source": [
        "churn[churn['Age']>70]['Exited'].value_counts(normalize=True)"
      ],
      "execution_count": null,
      "outputs": [
        {
          "output_type": "execute_result",
          "data": {
            "text/plain": [
              "0    0.917293\n",
              "1    0.082707\n",
              "Name: Exited, dtype: float64"
            ]
          },
          "metadata": {
            "tags": []
          },
          "execution_count": 35
        }
      ]
    },
    {
      "cell_type": "code",
      "metadata": {
        "ExecuteTime": {
          "end_time": "2021-05-23T08:48:49.110689Z",
          "start_time": "2021-05-23T08:48:49.096219Z"
        },
        "id": "78FPRbTDlJYw",
        "outputId": "979f8745-8165-45e6-81e2-63fff8aada29"
      },
      "source": [
        "churn[churn['Age']<=70]['Exited'].value_counts(normalize=True)"
      ],
      "execution_count": null,
      "outputs": [
        {
          "output_type": "execute_result",
          "data": {
            "text/plain": [
              "0    0.794669\n",
              "1    0.205331\n",
              "Name: Exited, dtype: float64"
            ]
          },
          "metadata": {
            "tags": []
          },
          "execution_count": 36
        }
      ]
    },
    {
      "cell_type": "code",
      "metadata": {
        "ExecuteTime": {
          "end_time": "2021-05-23T08:48:49.142098Z",
          "start_time": "2021-05-23T08:48:49.112954Z"
        },
        "id": "zB8LmUImlJYw"
      },
      "source": [
        "churn['senior']=churn['Age'].apply(lambda x: 1 if x>70 else 0)"
      ],
      "execution_count": null,
      "outputs": []
    },
    {
      "cell_type": "code",
      "metadata": {
        "ExecuteTime": {
          "end_time": "2021-05-23T08:48:49.157553Z",
          "start_time": "2021-05-23T08:48:49.144499Z"
        },
        "id": "ipQ1GGDolJYw",
        "outputId": "ddbbd2fb-2602-46fb-dc9a-b1ecc527c86b"
      },
      "source": [
        "churn['senior'].value_counts()"
      ],
      "execution_count": null,
      "outputs": [
        {
          "output_type": "execute_result",
          "data": {
            "text/plain": [
              "0    9867\n",
              "1     133\n",
              "Name: senior, dtype: int64"
            ]
          },
          "metadata": {
            "tags": []
          },
          "execution_count": 38
        }
      ]
    },
    {
      "cell_type": "code",
      "metadata": {
        "ExecuteTime": {
          "end_time": "2021-05-23T08:48:49.219601Z",
          "start_time": "2021-05-23T08:48:49.158718Z"
        },
        "id": "ZGyvci1blJYw",
        "outputId": "aa2989b8-c94a-4192-c81f-e5f4e8972ba9"
      },
      "source": [
        "pd.pivot_table(churn,index='Geography',values=['Age','Balance'],aggfunc=['median','mean'],)"
      ],
      "execution_count": null,
      "outputs": [
        {
          "output_type": "execute_result",
          "data": {
            "text/html": [
              "<div>\n",
              "<style scoped>\n",
              "    .dataframe tbody tr th:only-of-type {\n",
              "        vertical-align: middle;\n",
              "    }\n",
              "\n",
              "    .dataframe tbody tr th {\n",
              "        vertical-align: top;\n",
              "    }\n",
              "\n",
              "    .dataframe thead tr th {\n",
              "        text-align: left;\n",
              "    }\n",
              "\n",
              "    .dataframe thead tr:last-of-type th {\n",
              "        text-align: right;\n",
              "    }\n",
              "</style>\n",
              "<table border=\"1\" class=\"dataframe\">\n",
              "  <thead>\n",
              "    <tr>\n",
              "      <th></th>\n",
              "      <th colspan=\"2\" halign=\"left\">median</th>\n",
              "      <th colspan=\"2\" halign=\"left\">mean</th>\n",
              "    </tr>\n",
              "    <tr>\n",
              "      <th></th>\n",
              "      <th>Age</th>\n",
              "      <th>Balance</th>\n",
              "      <th>Age</th>\n",
              "      <th>Balance</th>\n",
              "    </tr>\n",
              "    <tr>\n",
              "      <th>Geography</th>\n",
              "      <th></th>\n",
              "      <th></th>\n",
              "      <th></th>\n",
              "      <th></th>\n",
              "    </tr>\n",
              "  </thead>\n",
              "  <tbody>\n",
              "    <tr>\n",
              "      <th>France</th>\n",
              "      <td>37</td>\n",
              "      <td>62153.50</td>\n",
              "      <td>38.511767</td>\n",
              "      <td>62092.636516</td>\n",
              "    </tr>\n",
              "    <tr>\n",
              "      <th>Germany</th>\n",
              "      <td>38</td>\n",
              "      <td>119703.10</td>\n",
              "      <td>39.771622</td>\n",
              "      <td>119730.116134</td>\n",
              "    </tr>\n",
              "    <tr>\n",
              "      <th>Spain</th>\n",
              "      <td>37</td>\n",
              "      <td>61710.44</td>\n",
              "      <td>38.890997</td>\n",
              "      <td>61818.147763</td>\n",
              "    </tr>\n",
              "  </tbody>\n",
              "</table>\n",
              "</div>"
            ],
            "text/plain": [
              "          median                  mean               \n",
              "             Age    Balance        Age        Balance\n",
              "Geography                                            \n",
              "France        37   62153.50  38.511767   62092.636516\n",
              "Germany       38  119703.10  39.771622  119730.116134\n",
              "Spain         37   61710.44  38.890997   61818.147763"
            ]
          },
          "metadata": {
            "tags": []
          },
          "execution_count": 39
        }
      ]
    },
    {
      "cell_type": "code",
      "metadata": {
        "ExecuteTime": {
          "end_time": "2021-05-23T08:48:49.250919Z",
          "start_time": "2021-05-23T08:48:49.222404Z"
        },
        "id": "a9wc84ZtlJYw",
        "outputId": "b9569fb6-3627-47bf-a740-3c6df84bce80"
      },
      "source": [
        "round(churn.loc[:,numerical_variables].corr()*10)"
      ],
      "execution_count": null,
      "outputs": [
        {
          "output_type": "execute_result",
          "data": {
            "text/html": [
              "<div>\n",
              "<style scoped>\n",
              "    .dataframe tbody tr th:only-of-type {\n",
              "        vertical-align: middle;\n",
              "    }\n",
              "\n",
              "    .dataframe tbody tr th {\n",
              "        vertical-align: top;\n",
              "    }\n",
              "\n",
              "    .dataframe thead th {\n",
              "        text-align: right;\n",
              "    }\n",
              "</style>\n",
              "<table border=\"1\" class=\"dataframe\">\n",
              "  <thead>\n",
              "    <tr style=\"text-align: right;\">\n",
              "      <th></th>\n",
              "      <th>Tenure</th>\n",
              "      <th>EstimatedSalary</th>\n",
              "      <th>CustomerId</th>\n",
              "      <th>CreditScore</th>\n",
              "      <th>Age</th>\n",
              "      <th>Balance</th>\n",
              "      <th>RowNumber</th>\n",
              "    </tr>\n",
              "  </thead>\n",
              "  <tbody>\n",
              "    <tr>\n",
              "      <th>Tenure</th>\n",
              "      <td>10.0</td>\n",
              "      <td>0.0</td>\n",
              "      <td>-0.0</td>\n",
              "      <td>0.0</td>\n",
              "      <td>-0.0</td>\n",
              "      <td>-0.0</td>\n",
              "      <td>-0.0</td>\n",
              "    </tr>\n",
              "    <tr>\n",
              "      <th>EstimatedSalary</th>\n",
              "      <td>0.0</td>\n",
              "      <td>10.0</td>\n",
              "      <td>0.0</td>\n",
              "      <td>-0.0</td>\n",
              "      <td>-0.0</td>\n",
              "      <td>0.0</td>\n",
              "      <td>-0.0</td>\n",
              "    </tr>\n",
              "    <tr>\n",
              "      <th>CustomerId</th>\n",
              "      <td>-0.0</td>\n",
              "      <td>0.0</td>\n",
              "      <td>10.0</td>\n",
              "      <td>0.0</td>\n",
              "      <td>0.0</td>\n",
              "      <td>-0.0</td>\n",
              "      <td>0.0</td>\n",
              "    </tr>\n",
              "    <tr>\n",
              "      <th>CreditScore</th>\n",
              "      <td>0.0</td>\n",
              "      <td>-0.0</td>\n",
              "      <td>0.0</td>\n",
              "      <td>10.0</td>\n",
              "      <td>-0.0</td>\n",
              "      <td>0.0</td>\n",
              "      <td>0.0</td>\n",
              "    </tr>\n",
              "    <tr>\n",
              "      <th>Age</th>\n",
              "      <td>-0.0</td>\n",
              "      <td>-0.0</td>\n",
              "      <td>0.0</td>\n",
              "      <td>-0.0</td>\n",
              "      <td>10.0</td>\n",
              "      <td>0.0</td>\n",
              "      <td>0.0</td>\n",
              "    </tr>\n",
              "    <tr>\n",
              "      <th>Balance</th>\n",
              "      <td>-0.0</td>\n",
              "      <td>0.0</td>\n",
              "      <td>-0.0</td>\n",
              "      <td>0.0</td>\n",
              "      <td>0.0</td>\n",
              "      <td>10.0</td>\n",
              "      <td>-0.0</td>\n",
              "    </tr>\n",
              "    <tr>\n",
              "      <th>RowNumber</th>\n",
              "      <td>-0.0</td>\n",
              "      <td>-0.0</td>\n",
              "      <td>0.0</td>\n",
              "      <td>0.0</td>\n",
              "      <td>0.0</td>\n",
              "      <td>-0.0</td>\n",
              "      <td>10.0</td>\n",
              "    </tr>\n",
              "  </tbody>\n",
              "</table>\n",
              "</div>"
            ],
            "text/plain": [
              "                 Tenure  EstimatedSalary  CustomerId  CreditScore   Age  \\\n",
              "Tenure             10.0              0.0        -0.0          0.0  -0.0   \n",
              "EstimatedSalary     0.0             10.0         0.0         -0.0  -0.0   \n",
              "CustomerId         -0.0              0.0        10.0          0.0   0.0   \n",
              "CreditScore         0.0             -0.0         0.0         10.0  -0.0   \n",
              "Age                -0.0             -0.0         0.0         -0.0  10.0   \n",
              "Balance            -0.0              0.0        -0.0          0.0   0.0   \n",
              "RowNumber          -0.0             -0.0         0.0          0.0   0.0   \n",
              "\n",
              "                 Balance  RowNumber  \n",
              "Tenure              -0.0       -0.0  \n",
              "EstimatedSalary      0.0       -0.0  \n",
              "CustomerId          -0.0        0.0  \n",
              "CreditScore          0.0        0.0  \n",
              "Age                  0.0        0.0  \n",
              "Balance             10.0       -0.0  \n",
              "RowNumber           -0.0       10.0  "
            ]
          },
          "metadata": {
            "tags": []
          },
          "execution_count": 40
        }
      ]
    },
    {
      "cell_type": "code",
      "metadata": {
        "ExecuteTime": {
          "end_time": "2021-05-23T08:49:06.589481Z",
          "start_time": "2021-05-23T08:48:49.252939Z"
        },
        "id": "Js_PoFD8lJYx"
      },
      "source": [
        "import seaborn as sns"
      ],
      "execution_count": null,
      "outputs": []
    },
    {
      "cell_type": "code",
      "metadata": {
        "ExecuteTime": {
          "end_time": "2021-05-23T08:49:07.647902Z",
          "start_time": "2021-05-23T08:49:06.597386Z"
        },
        "id": "kRd1iMKilJYx",
        "outputId": "c67f952b-7294-447b-a45a-847cd37239d6"
      },
      "source": [
        "plt.figure(figsize=(10,7))\n",
        "sns.heatmap(round(churn.loc[:,numerical_variables].corr()*10),annot=True)"
      ],
      "execution_count": null,
      "outputs": [
        {
          "output_type": "execute_result",
          "data": {
            "text/plain": [
              "<AxesSubplot:>"
            ]
          },
          "metadata": {
            "tags": []
          },
          "execution_count": 42
        },
        {
          "output_type": "display_data",
          "data": {
            "image/png": "[encoded data removed]",
            "text/plain": [
              "<Figure size 720x504 with 2 Axes>"
            ]
          },
          "metadata": {
            "tags": [],
            "needs_background": "light"
          }
        }
      ]
    },
    {
      "cell_type": "code",
      "metadata": {
        "ExecuteTime": {
          "end_time": "2021-05-23T08:49:10.025477Z",
          "start_time": "2021-05-23T08:49:07.649786Z"
        },
        "id": "DGZSb7qWlJYx",
        "outputId": "7692ee01-8a9f-4201-a8b9-7cf4a1d9ac77"
      },
      "source": [
        "plt.figure(figsize=(10,7))\n",
        "sns.heatmap(churn.corr(),annot=True)"
      ],
      "execution_count": null,
      "outputs": [
        {
          "output_type": "execute_result",
          "data": {
            "text/plain": [
              "<AxesSubplot:>"
            ]
          },
          "metadata": {
            "tags": []
          },
          "execution_count": 43
        },
        {
          "output_type": "display_data",
          "data": {
            "image/png": "[encoded data removed]",
            "text/plain": [
              "<Figure size 720x504 with 2 Axes>"
            ]
          },
          "metadata": {
            "tags": [],
            "needs_background": "light"
          }
        }
      ]
    },
    {
      "cell_type": "code",
      "metadata": {
        "ExecuteTime": {
          "end_time": "2021-05-23T08:49:10.041404Z",
          "start_time": "2021-05-23T08:49:10.030390Z"
        },
        "id": "luvktUN2lJYx"
      },
      "source": [
        "# split train test in 0.2 and 0.8 with random_state as 20"
      ],
      "execution_count": null,
      "outputs": []
    },
    {
      "cell_type": "code",
      "metadata": {
        "ExecuteTime": {
          "end_time": "2021-05-23T08:49:10.056507Z",
          "start_time": "2021-05-23T08:49:10.046619Z"
        },
        "id": "EqmAz5QDlJYx"
      },
      "source": [
        "# RF /DT"
      ],
      "execution_count": null,
      "outputs": []
    },
    {
      "cell_type": "code",
      "metadata": {
        "ExecuteTime": {
          "end_time": "2021-05-23T08:49:10.072151Z",
          "start_time": "2021-05-23T08:49:10.061335Z"
        },
        "id": "80tfKC6ZlJYx"
      },
      "source": [
        "# print its accuracy on test set"
      ],
      "execution_count": null,
      "outputs": []
    },
    {
      "cell_type": "markdown",
      "metadata": {
        "id": "Jw-ng2dflJYy"
      },
      "source": [
        "# Prepare the data for training"
      ]
    },
    {
      "cell_type": "code",
      "metadata": {
        "ExecuteTime": {
          "end_time": "2021-05-23T08:49:10.087959Z",
          "start_time": "2021-05-23T08:49:10.078997Z"
        },
        "id": "A0niBNW9lJYy"
      },
      "source": [
        "churn_original=churn.copy()"
      ],
      "execution_count": null,
      "outputs": []
    },
    {
      "cell_type": "code",
      "metadata": {
        "ExecuteTime": {
          "end_time": "2021-05-23T08:49:10.119088Z",
          "start_time": "2021-05-23T08:49:10.089887Z"
        },
        "id": "iok5QjUWlJYy"
      },
      "source": [
        "churn['Gender']=churn['Gender'].map({'Male':0,'Female':1}).astype(int)\n",
        "churn['Geography']=churn['Geography'].map({'France':0,'Spain':1,'Germany':2}).astype(int)"
      ],
      "execution_count": null,
      "outputs": []
    },
    {
      "cell_type": "code",
      "metadata": {
        "ExecuteTime": {
          "end_time": "2021-05-23T08:49:10.133847Z",
          "start_time": "2021-05-23T08:49:10.121143Z"
        },
        "id": "ju-PM6lHlJYy"
      },
      "source": [
        "churn.drop(['Surname','RowNumber'],axis=1,inplace=True)"
      ],
      "execution_count": null,
      "outputs": []
    },
    {
      "cell_type": "code",
      "metadata": {
        "ExecuteTime": {
          "end_time": "2021-05-23T08:49:14.419165Z",
          "start_time": "2021-05-23T08:49:10.136596Z"
        },
        "id": "JcVW6Dz3lJYy"
      },
      "source": [
        "X=churn.drop(['Exited','senior'],axis=1)\n",
        "y=churn['Exited']\n",
        "\n",
        "from sklearn.model_selection import train_test_split\n",
        "X_train,X_test,y_train,y_test=train_test_split(X,y,test_size=0.2,random_state=20)"
      ],
      "execution_count": null,
      "outputs": []
    },
    {
      "cell_type": "code",
      "metadata": {
        "ExecuteTime": {
          "end_time": "2021-05-23T08:49:14.450258Z",
          "start_time": "2021-05-23T08:49:14.422154Z"
        },
        "id": "7Xe0L8UYlJYy"
      },
      "source": [
        "from sklearn.preprocessing import StandardScaler\n",
        "sc=StandardScaler()\n",
        "X_train=sc.fit_transform(X_train)\n",
        "X_test=sc.transform(X_test)"
      ],
      "execution_count": null,
      "outputs": []
    },
    {
      "cell_type": "code",
      "metadata": {
        "ExecuteTime": {
          "end_time": "2021-05-23T08:49:20.090201Z",
          "start_time": "2021-05-23T08:49:14.451760Z"
        },
        "id": "Jd66WH6alJYy"
      },
      "source": [
        "from sklearn.ensemble import RandomForestClassifier\n",
        "clf=RandomForestClassifier(n_estimators=10)\n",
        "\n",
        "#Train the model using the training sets y_pred=clf.predict(X_test)\n",
        "clf.fit(X_train,y_train)\n",
        "\n",
        "y_pred=clf.predict(X_test)"
      ],
      "execution_count": null,
      "outputs": []
    },
    {
      "cell_type": "code",
      "metadata": {
        "ExecuteTime": {
          "end_time": "2021-05-23T08:49:20.105641Z",
          "start_time": "2021-05-23T08:49:20.093305Z"
        },
        "id": "nVQLcmU6lJYz",
        "outputId": "ce044bf3-299f-470e-8980-d40fd7ea3969"
      },
      "source": [
        "#Import scikit-learn metrics module for accuracy calculation\n",
        "from sklearn import metrics\n",
        "# Model Accuracy, how often is the classifier correct?\n",
        "print(\"Accuracy:\",metrics.accuracy_score(y_test, y_pred))"
      ],
      "execution_count": null,
      "outputs": [
        {
          "output_type": "stream",
          "text": [
            "Accuracy: 0.8635\n"
          ],
          "name": "stdout"
        }
      ]
    },
    {
      "cell_type": "code",
      "metadata": {
        "ExecuteTime": {
          "end_time": "2021-05-23T08:50:15.656031Z",
          "start_time": "2021-05-23T08:50:15.619113Z"
        },
        "id": "mZcTHEbtlJYz"
      },
      "source": [
        "# clf=RandomForestClassifier(n_estimators=200)\n",
        "\n",
        "# #Train the model using the training sets y_pred=clf.predict(X_test)\n",
        "# clf.fit(X_train_sc,y_train)\n",
        "\n",
        "# y_pred_sc=clf.predict(X_test_sc)\n",
        "\n",
        "# #Import scikit-learn metrics module for accuracy calculation\n",
        "# from sklearn import metrics\n",
        "# # Model Accuracy, how often is the classifier correct?\n",
        "# print(\"Accuracy:\",metrics.accuracy_score(y_test, y_pred_sc))"
      ],
      "execution_count": null,
      "outputs": []
    },
    {
      "cell_type": "code",
      "metadata": {
        "ExecuteTime": {
          "end_time": "2021-05-23T08:50:17.053163Z",
          "start_time": "2021-05-23T08:50:16.926714Z"
        },
        "id": "wbK7pUJElJYz",
        "outputId": "d087b84e-3476-46e3-a5ca-ad9923996a12"
      },
      "source": [
        "from sklearn import metrics\n",
        "# Model Accuracy, how often is the classifier correct?\n",
        "print(\"Accuracy:\\n\",metrics.classification_report(y_test, y_pred))"
      ],
      "execution_count": null,
      "outputs": [
        {
          "output_type": "stream",
          "text": [
            "Accuracy:\n",
            "               precision    recall  f1-score   support\n",
            "\n",
            "           0       0.88      0.96      0.92      1623\n",
            "           1       0.73      0.43      0.54       377\n",
            "\n",
            "    accuracy                           0.86      2000\n",
            "   macro avg       0.81      0.70      0.73      2000\n",
            "weighted avg       0.85      0.86      0.85      2000\n",
            "\n"
          ],
          "name": "stdout"
        }
      ]
    },
    {
      "cell_type": "code",
      "metadata": {
        "ExecuteTime": {
          "end_time": "2021-05-23T08:49:21.245928Z",
          "start_time": "2021-05-23T08:48:19.287Z"
        },
        "id": "r117ZPCYlJY0"
      },
      "source": [
        "X_train.shape, X_test.shape"
      ],
      "execution_count": null,
      "outputs": []
    },
    {
      "cell_type": "code",
      "metadata": {
        "ExecuteTime": {
          "end_time": "2021-05-23T08:49:21.247523Z",
          "start_time": "2021-05-23T08:48:19.290Z"
        },
        "id": "BgavozGflJY0"
      },
      "source": [
        "y_train.shape,y_test.shape"
      ],
      "execution_count": null,
      "outputs": []
    },
    {
      "cell_type": "code",
      "metadata": {
        "ExecuteTime": {
          "end_time": "2021-05-23T08:49:21.248953Z",
          "start_time": "2021-05-23T08:48:19.292Z"
        },
        "id": "P0W0Dr5plJY0"
      },
      "source": [
        "import keras"
      ],
      "execution_count": null,
      "outputs": []
    },
    {
      "cell_type": "code",
      "metadata": {
        "ExecuteTime": {
          "end_time": "2021-05-23T08:49:21.250599Z",
          "start_time": "2021-05-23T08:48:19.294Z"
        },
        "id": "WoaCYc_jlJY0"
      },
      "source": [
        "from keras.models import Sequential\n"
      ],
      "execution_count": null,
      "outputs": []
    },
    {
      "cell_type": "code",
      "metadata": {
        "ExecuteTime": {
          "end_time": "2021-05-23T08:49:21.252127Z",
          "start_time": "2021-05-23T08:48:19.297Z"
        },
        "id": "nC4hNZQllJY0"
      },
      "source": [
        "classifier=Sequential()"
      ],
      "execution_count": null,
      "outputs": []
    },
    {
      "cell_type": "code",
      "metadata": {
        "ExecuteTime": {
          "end_time": "2021-05-23T08:49:21.252768Z",
          "start_time": "2021-05-23T08:48:19.300Z"
        },
        "id": "0EZIjNRflJY0"
      },
      "source": [
        "from keras.layers import Dense"
      ],
      "execution_count": null,
      "outputs": []
    },
    {
      "cell_type": "code",
      "metadata": {
        "ExecuteTime": {
          "end_time": "2021-05-23T08:49:21.253797Z",
          "start_time": "2021-05-23T08:48:19.303Z"
        },
        "id": "czzpGW4XlJY0"
      },
      "source": [
        "#Input LAyer\n",
        "classifier.add(Dense(11,activation='relu',input_dim=11))\n",
        "\n",
        "#Hidden LAyers\n",
        "classifier.add(Dense(6,activation='relu'))\n",
        "classifier.add(Dense(6,activation='relu'))\n",
        "classifier.add(Dense(6,activation='relu'))\n",
        "classifier.add(Dense(6,activation='relu'))\n",
        "\n",
        "#Output LAyer\n",
        "classifier.add(Dense(1,activation='sigmoid'))\n",
        "\n"
      ],
      "execution_count": null,
      "outputs": []
    },
    {
      "cell_type": "code",
      "metadata": {
        "ExecuteTime": {
          "end_time": "2021-05-23T08:49:21.256521Z",
          "start_time": "2021-05-23T08:48:19.305Z"
        },
        "id": "XgEFOQT2lJY1"
      },
      "source": [
        "classifier.summary()"
      ],
      "execution_count": null,
      "outputs": []
    },
    {
      "cell_type": "code",
      "metadata": {
        "ExecuteTime": {
          "end_time": "2021-05-23T08:49:21.258150Z",
          "start_time": "2021-05-23T08:48:19.310Z"
        },
        "id": "7G9Ge_KwlJY1"
      },
      "source": [
        "classifier.compile(optimizer='SGD',loss='binary_crossentropy',metrics=['accuracy'])"
      ],
      "execution_count": null,
      "outputs": []
    },
    {
      "cell_type": "code",
      "metadata": {
        "ExecuteTime": {
          "end_time": "2021-05-23T08:49:21.258648Z",
          "start_time": "2021-05-23T08:48:19.312Z"
        },
        "id": "6WlWHukDlJY1"
      },
      "source": [
        "history=classifier.fit(X_train,y_train,epochs=10)"
      ],
      "execution_count": null,
      "outputs": []
    },
    {
      "cell_type": "code",
      "metadata": {
        "ExecuteTime": {
          "end_time": "2021-05-23T08:49:21.259653Z",
          "start_time": "2021-05-23T08:48:19.318Z"
        },
        "id": "It7e3gD1lJY1"
      },
      "source": [
        "#ffitting the model and training\n",
        "history=classifier.fit(X_train,y_train,validation_split=0.3,batch_size=10,epochs=100)"
      ],
      "execution_count": null,
      "outputs": []
    },
    {
      "cell_type": "code",
      "metadata": {
        "ExecuteTime": {
          "end_time": "2021-05-23T08:49:21.262897Z",
          "start_time": "2021-05-23T08:48:19.322Z"
        },
        "id": "dgpuZboGlJY1"
      },
      "source": [
        "plt.plot(history.history['accuracy'])\n",
        "plt.plot(history.history['val_accuracy'])\n",
        "plt.title('model accuracy')\n",
        "plt.ylabel('accuracy')\n",
        "plt.xlabel('epoch')\n",
        "plt.legend(['train', 'test'], loc='upper left')\n",
        "plt.show()"
      ],
      "execution_count": null,
      "outputs": []
    },
    {
      "cell_type": "code",
      "metadata": {
        "ExecuteTime": {
          "end_time": "2021-05-23T08:49:21.267144Z",
          "start_time": "2021-05-23T08:48:19.324Z"
        },
        "id": "sfuWgxl3lJY1"
      },
      "source": [
        "y_pred=classifier.predict(X_test)"
      ],
      "execution_count": null,
      "outputs": []
    },
    {
      "cell_type": "code",
      "metadata": {
        "ExecuteTime": {
          "end_time": "2021-05-23T08:49:21.270326Z",
          "start_time": "2021-05-23T08:48:19.327Z"
        },
        "id": "cfn4lBHPlJY1"
      },
      "source": [
        "y_pred=(y_pred>0.5)"
      ],
      "execution_count": null,
      "outputs": []
    },
    {
      "cell_type": "code",
      "metadata": {
        "ExecuteTime": {
          "end_time": "2021-05-23T08:49:21.273664Z",
          "start_time": "2021-05-23T08:48:19.331Z"
        },
        "id": "nrfPKBZElJY2"
      },
      "source": [
        "metrics.accuracy_score(y_test, y_pred)"
      ],
      "execution_count": null,
      "outputs": []
    },
    {
      "cell_type": "code",
      "metadata": {
        "id": "FiuK9MdGlJY2"
      },
      "source": [
        ""
      ],
      "execution_count": null,
      "outputs": []
    }
  ]
}