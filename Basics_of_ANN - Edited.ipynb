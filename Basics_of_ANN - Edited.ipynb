{
  "nbformat": 4,
  "nbformat_minor": 0,
  "metadata": {
    "kernelspec": {
      "display_name": "Python 3",
      "language": "python",
      "name": "python3"
    },
    "language_info": {
      "codemirror_mode": {
        "name": "ipython",
        "version": 3
      },
      "file_extension": ".py",
      "mimetype": "text/x-python",
      "name": "python",
      "nbconvert_exporter": "python",
      "pygments_lexer": "ipython3",
      "version": "3.8.5"
    },
    "toc": {
      "base_numbering": 1,
      "nav_menu": {},
      "number_sections": true,
      "sideBar": true,
      "skip_h1_title": false,
      "title_cell": "Table of Contents",
      "title_sidebar": "Contents",
      "toc_cell": false,
      "toc_position": {
        "height": "calc(100% - 180px)",
        "left": "10px",
        "top": "150px",
        "width": "165px"
      },
      "toc_section_display": true,
      "toc_window_display": false
    },
    "colab": {
      "name": "Basics of ANN.ipynb",
      "provenance": [],
      "include_colab_link": true
    }
  },
  "cells": [
    {
      "cell_type": "markdown",
      "metadata": {
        "id": "view-in-github",
        "colab_type": "text"
      },
      "source": [
        "<a href=\"https://colab.research.google.com/github/sandeshwar/Deep_Learning_Tutorial/blob/master/Basics_of_ANN%20-%20Edited.ipynb\" target=\"_parent\"><img src=\"https://colab.research.google.com/assets/colab-badge.svg\" alt=\"Open In Colab\"/></a>"
      ]
    },
    {
      "cell_type": "code",
      "metadata": {
        "ExecuteTime": {
          "end_time": "2021-08-07T11:01:53.567030Z",
          "start_time": "2021-08-07T11:01:52.569998Z"
        },
        "id": "VQ58Iy0-lJYc"
      },
      "source": [
        "import pandas as pd\n",
        "import numpy as np"
      ],
      "execution_count": 134,
      "outputs": []
    },
    {
      "cell_type": "code",
      "metadata": {
        "ExecuteTime": {
          "end_time": "2021-08-07T11:01:53.613354Z",
          "start_time": "2021-08-07T11:01:53.569262Z"
        },
        "id": "AKY2SXoYlJYd"
      },
      "source": [
        "churn=pd.read_csv(\"./Churn.csv\")"
      ],
      "execution_count": 135,
      "outputs": []
    },
    {
      "cell_type": "code",
      "metadata": {
        "ExecuteTime": {
          "end_time": "2021-05-23T08:48:40.959126Z",
          "start_time": "2021-05-23T08:48:40.946550Z"
        },
        "id": "VV12811plJYe"
      },
      "source": [
        "# What is the shape of the dataset?\n",
        "# WHat are different catgeorical and numerical columns(features) in the data?\n",
        "# What is the distribution of numerical data and the qualitative data.\n",
        "\n",
        "# Problem Statement"
      ],
      "execution_count": 136,
      "outputs": []
    },
    {
      "cell_type": "code",
      "metadata": {
        "ExecuteTime": {
          "end_time": "2021-08-07T11:18:20.657349Z",
          "start_time": "2021-08-07T11:18:20.614614Z"
        },
        "id": "Oe2_7RqOlJYf",
        "outputId": "4f1ffebc-fbda-443f-91af-f2906ad4e049",
        "colab": {
          "base_uri": "https://localhost:8080/"
        }
      },
      "source": [
        "churn['Exited'].value_counts(normalize=True)"
      ],
      "execution_count": 137,
      "outputs": [
        {
          "output_type": "execute_result",
          "data": {
            "text/plain": [
              "0    0.7963\n",
              "1    0.2037\n",
              "Name: Exited, dtype: float64"
            ]
          },
          "metadata": {
            "tags": []
          },
          "execution_count": 137
        }
      ]
    },
    {
      "cell_type": "code",
      "metadata": {
        "ExecuteTime": {
          "end_time": "2021-08-07T11:23:02.756613Z",
          "start_time": "2021-08-07T11:23:02.673603Z"
        },
        "id": "mmbTFvqLlJYg",
        "outputId": "10fa0b74-3c8b-4a2f-f4f0-c30d5446373a",
        "colab": {
          "base_uri": "https://localhost:8080/",
          "height": 142
        }
      },
      "source": [
        "churn.groupby(by='Exited').mean()"
      ],
      "execution_count": 138,
      "outputs": [
        {
          "output_type": "execute_result",
          "data": {
            "text/html": [
              "<div>\n",
              "<style scoped>\n",
              "    .dataframe tbody tr th:only-of-type {\n",
              "        vertical-align: middle;\n",
              "    }\n",
              "\n",
              "    .dataframe tbody tr th {\n",
              "        vertical-align: top;\n",
              "    }\n",
              "\n",
              "    .dataframe thead th {\n",
              "        text-align: right;\n",
              "    }\n",
              "</style>\n",
              "<table border=\"1\" class=\"dataframe\">\n",
              "  <thead>\n",
              "    <tr style=\"text-align: right;\">\n",
              "      <th></th>\n",
              "      <th>RowNumber</th>\n",
              "      <th>CustomerId</th>\n",
              "      <th>CreditScore</th>\n",
              "      <th>Age</th>\n",
              "      <th>Tenure</th>\n",
              "      <th>Balance</th>\n",
              "      <th>NumOfProducts</th>\n",
              "      <th>HasCrCard</th>\n",
              "      <th>IsActiveMember</th>\n",
              "      <th>EstimatedSalary</th>\n",
              "    </tr>\n",
              "    <tr>\n",
              "      <th>Exited</th>\n",
              "      <th></th>\n",
              "      <th></th>\n",
              "      <th></th>\n",
              "      <th></th>\n",
              "      <th></th>\n",
              "      <th></th>\n",
              "      <th></th>\n",
              "      <th></th>\n",
              "      <th></th>\n",
              "      <th></th>\n",
              "    </tr>\n",
              "  </thead>\n",
              "  <tbody>\n",
              "    <tr>\n",
              "      <th>0</th>\n",
              "      <td>5024.694964</td>\n",
              "      <td>1.569117e+07</td>\n",
              "      <td>651.853196</td>\n",
              "      <td>37.408389</td>\n",
              "      <td>5.033279</td>\n",
              "      <td>72745.296779</td>\n",
              "      <td>1.544267</td>\n",
              "      <td>0.707146</td>\n",
              "      <td>0.554565</td>\n",
              "      <td>99738.391772</td>\n",
              "    </tr>\n",
              "    <tr>\n",
              "      <th>1</th>\n",
              "      <td>4905.917526</td>\n",
              "      <td>1.569005e+07</td>\n",
              "      <td>645.351497</td>\n",
              "      <td>44.837997</td>\n",
              "      <td>4.932744</td>\n",
              "      <td>91108.539337</td>\n",
              "      <td>1.475209</td>\n",
              "      <td>0.699067</td>\n",
              "      <td>0.360825</td>\n",
              "      <td>101465.677531</td>\n",
              "    </tr>\n",
              "  </tbody>\n",
              "</table>\n",
              "</div>"
            ],
            "text/plain": [
              "          RowNumber    CustomerId  ...  IsActiveMember  EstimatedSalary\n",
              "Exited                             ...                                 \n",
              "0       5024.694964  1.569117e+07  ...        0.554565     99738.391772\n",
              "1       4905.917526  1.569005e+07  ...        0.360825    101465.677531\n",
              "\n",
              "[2 rows x 10 columns]"
            ]
          },
          "metadata": {
            "tags": []
          },
          "execution_count": 138
        }
      ]
    },
    {
      "cell_type": "code",
      "metadata": {
        "ExecuteTime": {
          "end_time": "2021-08-07T11:25:17.662523Z",
          "start_time": "2021-08-07T11:25:17.636719Z"
        },
        "id": "Xj6es94NlJYg",
        "outputId": "6bc6b7a6-c01e-4f1f-c6b5-f7eb9d42066f",
        "colab": {
          "base_uri": "https://localhost:8080/",
          "height": 142
        }
      },
      "source": [
        "churn.groupby(by='Exited').median()"
      ],
      "execution_count": 139,
      "outputs": [
        {
          "output_type": "execute_result",
          "data": {
            "text/html": [
              "<div>\n",
              "<style scoped>\n",
              "    .dataframe tbody tr th:only-of-type {\n",
              "        vertical-align: middle;\n",
              "    }\n",
              "\n",
              "    .dataframe tbody tr th {\n",
              "        vertical-align: top;\n",
              "    }\n",
              "\n",
              "    .dataframe thead th {\n",
              "        text-align: right;\n",
              "    }\n",
              "</style>\n",
              "<table border=\"1\" class=\"dataframe\">\n",
              "  <thead>\n",
              "    <tr style=\"text-align: right;\">\n",
              "      <th></th>\n",
              "      <th>RowNumber</th>\n",
              "      <th>CustomerId</th>\n",
              "      <th>CreditScore</th>\n",
              "      <th>Age</th>\n",
              "      <th>Tenure</th>\n",
              "      <th>Balance</th>\n",
              "      <th>NumOfProducts</th>\n",
              "      <th>HasCrCard</th>\n",
              "      <th>IsActiveMember</th>\n",
              "      <th>EstimatedSalary</th>\n",
              "    </tr>\n",
              "    <tr>\n",
              "      <th>Exited</th>\n",
              "      <th></th>\n",
              "      <th></th>\n",
              "      <th></th>\n",
              "      <th></th>\n",
              "      <th></th>\n",
              "      <th></th>\n",
              "      <th></th>\n",
              "      <th></th>\n",
              "      <th></th>\n",
              "      <th></th>\n",
              "    </tr>\n",
              "  </thead>\n",
              "  <tbody>\n",
              "    <tr>\n",
              "      <th>0</th>\n",
              "      <td>5042</td>\n",
              "      <td>15691543</td>\n",
              "      <td>653</td>\n",
              "      <td>36</td>\n",
              "      <td>5</td>\n",
              "      <td>92072.68</td>\n",
              "      <td>2</td>\n",
              "      <td>1</td>\n",
              "      <td>1</td>\n",
              "      <td>99645.04</td>\n",
              "    </tr>\n",
              "    <tr>\n",
              "      <th>1</th>\n",
              "      <td>4871</td>\n",
              "      <td>15688963</td>\n",
              "      <td>646</td>\n",
              "      <td>45</td>\n",
              "      <td>5</td>\n",
              "      <td>109349.29</td>\n",
              "      <td>1</td>\n",
              "      <td>1</td>\n",
              "      <td>0</td>\n",
              "      <td>102460.84</td>\n",
              "    </tr>\n",
              "  </tbody>\n",
              "</table>\n",
              "</div>"
            ],
            "text/plain": [
              "        RowNumber  CustomerId  ...  IsActiveMember  EstimatedSalary\n",
              "Exited                         ...                                 \n",
              "0            5042    15691543  ...               1         99645.04\n",
              "1            4871    15688963  ...               0        102460.84\n",
              "\n",
              "[2 rows x 10 columns]"
            ]
          },
          "metadata": {
            "tags": []
          },
          "execution_count": 139
        }
      ]
    },
    {
      "cell_type": "code",
      "metadata": {
        "ExecuteTime": {
          "end_time": "2021-08-07T11:27:32.152515Z",
          "start_time": "2021-08-07T11:27:32.108806Z"
        },
        "id": "_wiECGMplJYh",
        "outputId": "e19df20e-157a-4240-eb11-dcd4fdaa645b",
        "colab": {
          "base_uri": "https://localhost:8080/",
          "height": 315
        }
      },
      "source": [
        "churn[churn['Exited']==0].describe()"
      ],
      "execution_count": 140,
      "outputs": [
        {
          "output_type": "execute_result",
          "data": {
            "text/html": [
              "<div>\n",
              "<style scoped>\n",
              "    .dataframe tbody tr th:only-of-type {\n",
              "        vertical-align: middle;\n",
              "    }\n",
              "\n",
              "    .dataframe tbody tr th {\n",
              "        vertical-align: top;\n",
              "    }\n",
              "\n",
              "    .dataframe thead th {\n",
              "        text-align: right;\n",
              "    }\n",
              "</style>\n",
              "<table border=\"1\" class=\"dataframe\">\n",
              "  <thead>\n",
              "    <tr style=\"text-align: right;\">\n",
              "      <th></th>\n",
              "      <th>RowNumber</th>\n",
              "      <th>CustomerId</th>\n",
              "      <th>CreditScore</th>\n",
              "      <th>Age</th>\n",
              "      <th>Tenure</th>\n",
              "      <th>Balance</th>\n",
              "      <th>NumOfProducts</th>\n",
              "      <th>HasCrCard</th>\n",
              "      <th>IsActiveMember</th>\n",
              "      <th>EstimatedSalary</th>\n",
              "      <th>Exited</th>\n",
              "    </tr>\n",
              "  </thead>\n",
              "  <tbody>\n",
              "    <tr>\n",
              "      <th>count</th>\n",
              "      <td>7963.000000</td>\n",
              "      <td>7.963000e+03</td>\n",
              "      <td>7963.000000</td>\n",
              "      <td>7963.000000</td>\n",
              "      <td>7963.000000</td>\n",
              "      <td>7963.000000</td>\n",
              "      <td>7963.000000</td>\n",
              "      <td>7963.000000</td>\n",
              "      <td>7963.000000</td>\n",
              "      <td>7963.000000</td>\n",
              "      <td>7963.0</td>\n",
              "    </tr>\n",
              "    <tr>\n",
              "      <th>mean</th>\n",
              "      <td>5024.694964</td>\n",
              "      <td>1.569117e+07</td>\n",
              "      <td>651.853196</td>\n",
              "      <td>37.408389</td>\n",
              "      <td>5.033279</td>\n",
              "      <td>72745.296779</td>\n",
              "      <td>1.544267</td>\n",
              "      <td>0.707146</td>\n",
              "      <td>0.554565</td>\n",
              "      <td>99738.391772</td>\n",
              "      <td>0.0</td>\n",
              "    </tr>\n",
              "    <tr>\n",
              "      <th>std</th>\n",
              "      <td>2891.682053</td>\n",
              "      <td>7.174423e+04</td>\n",
              "      <td>95.653837</td>\n",
              "      <td>10.125363</td>\n",
              "      <td>2.880658</td>\n",
              "      <td>62848.040701</td>\n",
              "      <td>0.509536</td>\n",
              "      <td>0.455101</td>\n",
              "      <td>0.497045</td>\n",
              "      <td>57405.586966</td>\n",
              "      <td>0.0</td>\n",
              "    </tr>\n",
              "    <tr>\n",
              "      <th>min</th>\n",
              "      <td>2.000000</td>\n",
              "      <td>1.556570e+07</td>\n",
              "      <td>405.000000</td>\n",
              "      <td>18.000000</td>\n",
              "      <td>0.000000</td>\n",
              "      <td>0.000000</td>\n",
              "      <td>1.000000</td>\n",
              "      <td>0.000000</td>\n",
              "      <td>0.000000</td>\n",
              "      <td>90.070000</td>\n",
              "      <td>0.0</td>\n",
              "    </tr>\n",
              "    <tr>\n",
              "      <th>25%</th>\n",
              "      <td>2526.500000</td>\n",
              "      <td>1.562882e+07</td>\n",
              "      <td>585.000000</td>\n",
              "      <td>31.000000</td>\n",
              "      <td>3.000000</td>\n",
              "      <td>0.000000</td>\n",
              "      <td>1.000000</td>\n",
              "      <td>0.000000</td>\n",
              "      <td>0.000000</td>\n",
              "      <td>50783.490000</td>\n",
              "      <td>0.0</td>\n",
              "    </tr>\n",
              "    <tr>\n",
              "      <th>50%</th>\n",
              "      <td>5042.000000</td>\n",
              "      <td>1.569154e+07</td>\n",
              "      <td>653.000000</td>\n",
              "      <td>36.000000</td>\n",
              "      <td>5.000000</td>\n",
              "      <td>92072.680000</td>\n",
              "      <td>2.000000</td>\n",
              "      <td>1.000000</td>\n",
              "      <td>1.000000</td>\n",
              "      <td>99645.040000</td>\n",
              "      <td>0.0</td>\n",
              "    </tr>\n",
              "    <tr>\n",
              "      <th>75%</th>\n",
              "      <td>7525.500000</td>\n",
              "      <td>1.575335e+07</td>\n",
              "      <td>718.000000</td>\n",
              "      <td>41.000000</td>\n",
              "      <td>7.000000</td>\n",
              "      <td>126410.280000</td>\n",
              "      <td>2.000000</td>\n",
              "      <td>1.000000</td>\n",
              "      <td>1.000000</td>\n",
              "      <td>148609.955000</td>\n",
              "      <td>0.0</td>\n",
              "    </tr>\n",
              "    <tr>\n",
              "      <th>max</th>\n",
              "      <td>10000.000000</td>\n",
              "      <td>1.581569e+07</td>\n",
              "      <td>850.000000</td>\n",
              "      <td>92.000000</td>\n",
              "      <td>10.000000</td>\n",
              "      <td>221532.800000</td>\n",
              "      <td>3.000000</td>\n",
              "      <td>1.000000</td>\n",
              "      <td>1.000000</td>\n",
              "      <td>199992.480000</td>\n",
              "      <td>0.0</td>\n",
              "    </tr>\n",
              "  </tbody>\n",
              "</table>\n",
              "</div>"
            ],
            "text/plain": [
              "          RowNumber    CustomerId  ...  EstimatedSalary  Exited\n",
              "count   7963.000000  7.963000e+03  ...      7963.000000  7963.0\n",
              "mean    5024.694964  1.569117e+07  ...     99738.391772     0.0\n",
              "std     2891.682053  7.174423e+04  ...     57405.586966     0.0\n",
              "min        2.000000  1.556570e+07  ...        90.070000     0.0\n",
              "25%     2526.500000  1.562882e+07  ...     50783.490000     0.0\n",
              "50%     5042.000000  1.569154e+07  ...     99645.040000     0.0\n",
              "75%     7525.500000  1.575335e+07  ...    148609.955000     0.0\n",
              "max    10000.000000  1.581569e+07  ...    199992.480000     0.0\n",
              "\n",
              "[8 rows x 11 columns]"
            ]
          },
          "metadata": {
            "tags": []
          },
          "execution_count": 140
        }
      ]
    },
    {
      "cell_type": "code",
      "metadata": {
        "ExecuteTime": {
          "end_time": "2021-08-07T11:27:43.277268Z",
          "start_time": "2021-08-07T11:27:43.246634Z"
        },
        "id": "m9su-ep2lJYh",
        "outputId": "c8529486-ca7d-4f2e-d7e9-8eb4ded3ee83",
        "colab": {
          "base_uri": "https://localhost:8080/",
          "height": 315
        }
      },
      "source": [
        "churn[churn['Exited']!=0].describe()"
      ],
      "execution_count": 141,
      "outputs": [
        {
          "output_type": "execute_result",
          "data": {
            "text/html": [
              "<div>\n",
              "<style scoped>\n",
              "    .dataframe tbody tr th:only-of-type {\n",
              "        vertical-align: middle;\n",
              "    }\n",
              "\n",
              "    .dataframe tbody tr th {\n",
              "        vertical-align: top;\n",
              "    }\n",
              "\n",
              "    .dataframe thead th {\n",
              "        text-align: right;\n",
              "    }\n",
              "</style>\n",
              "<table border=\"1\" class=\"dataframe\">\n",
              "  <thead>\n",
              "    <tr style=\"text-align: right;\">\n",
              "      <th></th>\n",
              "      <th>RowNumber</th>\n",
              "      <th>CustomerId</th>\n",
              "      <th>CreditScore</th>\n",
              "      <th>Age</th>\n",
              "      <th>Tenure</th>\n",
              "      <th>Balance</th>\n",
              "      <th>NumOfProducts</th>\n",
              "      <th>HasCrCard</th>\n",
              "      <th>IsActiveMember</th>\n",
              "      <th>EstimatedSalary</th>\n",
              "      <th>Exited</th>\n",
              "    </tr>\n",
              "  </thead>\n",
              "  <tbody>\n",
              "    <tr>\n",
              "      <th>count</th>\n",
              "      <td>2037.000000</td>\n",
              "      <td>2.037000e+03</td>\n",
              "      <td>2037.000000</td>\n",
              "      <td>2037.000000</td>\n",
              "      <td>2037.000000</td>\n",
              "      <td>2037.000000</td>\n",
              "      <td>2037.000000</td>\n",
              "      <td>2037.000000</td>\n",
              "      <td>2037.000000</td>\n",
              "      <td>2037.000000</td>\n",
              "      <td>2037.0</td>\n",
              "    </tr>\n",
              "    <tr>\n",
              "      <th>mean</th>\n",
              "      <td>4905.917526</td>\n",
              "      <td>1.569005e+07</td>\n",
              "      <td>645.351497</td>\n",
              "      <td>44.837997</td>\n",
              "      <td>4.932744</td>\n",
              "      <td>91108.539337</td>\n",
              "      <td>1.475209</td>\n",
              "      <td>0.699067</td>\n",
              "      <td>0.360825</td>\n",
              "      <td>101465.677531</td>\n",
              "      <td>1.0</td>\n",
              "    </tr>\n",
              "    <tr>\n",
              "      <th>std</th>\n",
              "      <td>2866.855245</td>\n",
              "      <td>7.269262e+04</td>\n",
              "      <td>100.321503</td>\n",
              "      <td>9.761562</td>\n",
              "      <td>2.936106</td>\n",
              "      <td>58360.794816</td>\n",
              "      <td>0.801521</td>\n",
              "      <td>0.458776</td>\n",
              "      <td>0.480358</td>\n",
              "      <td>57912.418071</td>\n",
              "      <td>0.0</td>\n",
              "    </tr>\n",
              "    <tr>\n",
              "      <th>min</th>\n",
              "      <td>1.000000</td>\n",
              "      <td>1.556571e+07</td>\n",
              "      <td>350.000000</td>\n",
              "      <td>18.000000</td>\n",
              "      <td>0.000000</td>\n",
              "      <td>0.000000</td>\n",
              "      <td>1.000000</td>\n",
              "      <td>0.000000</td>\n",
              "      <td>0.000000</td>\n",
              "      <td>11.580000</td>\n",
              "      <td>1.0</td>\n",
              "    </tr>\n",
              "    <tr>\n",
              "      <th>25%</th>\n",
              "      <td>2419.000000</td>\n",
              "      <td>1.562736e+07</td>\n",
              "      <td>578.000000</td>\n",
              "      <td>38.000000</td>\n",
              "      <td>2.000000</td>\n",
              "      <td>38340.020000</td>\n",
              "      <td>1.000000</td>\n",
              "      <td>0.000000</td>\n",
              "      <td>0.000000</td>\n",
              "      <td>51907.720000</td>\n",
              "      <td>1.0</td>\n",
              "    </tr>\n",
              "    <tr>\n",
              "      <th>50%</th>\n",
              "      <td>4871.000000</td>\n",
              "      <td>1.568896e+07</td>\n",
              "      <td>646.000000</td>\n",
              "      <td>45.000000</td>\n",
              "      <td>5.000000</td>\n",
              "      <td>109349.290000</td>\n",
              "      <td>1.000000</td>\n",
              "      <td>1.000000</td>\n",
              "      <td>0.000000</td>\n",
              "      <td>102460.840000</td>\n",
              "      <td>1.0</td>\n",
              "    </tr>\n",
              "    <tr>\n",
              "      <th>75%</th>\n",
              "      <td>7404.000000</td>\n",
              "      <td>1.575309e+07</td>\n",
              "      <td>716.000000</td>\n",
              "      <td>51.000000</td>\n",
              "      <td>8.000000</td>\n",
              "      <td>131433.330000</td>\n",
              "      <td>2.000000</td>\n",
              "      <td>1.000000</td>\n",
              "      <td>1.000000</td>\n",
              "      <td>152422.910000</td>\n",
              "      <td>1.0</td>\n",
              "    </tr>\n",
              "    <tr>\n",
              "      <th>max</th>\n",
              "      <td>9999.000000</td>\n",
              "      <td>1.581566e+07</td>\n",
              "      <td>850.000000</td>\n",
              "      <td>84.000000</td>\n",
              "      <td>10.000000</td>\n",
              "      <td>250898.090000</td>\n",
              "      <td>4.000000</td>\n",
              "      <td>1.000000</td>\n",
              "      <td>1.000000</td>\n",
              "      <td>199808.100000</td>\n",
              "      <td>1.0</td>\n",
              "    </tr>\n",
              "  </tbody>\n",
              "</table>\n",
              "</div>"
            ],
            "text/plain": [
              "         RowNumber    CustomerId  ...  EstimatedSalary  Exited\n",
              "count  2037.000000  2.037000e+03  ...      2037.000000  2037.0\n",
              "mean   4905.917526  1.569005e+07  ...    101465.677531     1.0\n",
              "std    2866.855245  7.269262e+04  ...     57912.418071     0.0\n",
              "min       1.000000  1.556571e+07  ...        11.580000     1.0\n",
              "25%    2419.000000  1.562736e+07  ...     51907.720000     1.0\n",
              "50%    4871.000000  1.568896e+07  ...    102460.840000     1.0\n",
              "75%    7404.000000  1.575309e+07  ...    152422.910000     1.0\n",
              "max    9999.000000  1.581566e+07  ...    199808.100000     1.0\n",
              "\n",
              "[8 rows x 11 columns]"
            ]
          },
          "metadata": {
            "tags": []
          },
          "execution_count": 141
        }
      ]
    },
    {
      "cell_type": "code",
      "metadata": {
        "id": "JC75VF1flJYi",
        "outputId": "fc8c5d7e-cdbd-4aa8-e4b6-04c70c347258",
        "colab": {
          "base_uri": "https://localhost:8080/",
          "height": 142
        }
      },
      "source": [
        "churn.groupby(by='Exited').median()"
      ],
      "execution_count": 142,
      "outputs": [
        {
          "output_type": "execute_result",
          "data": {
            "text/html": [
              "<div>\n",
              "<style scoped>\n",
              "    .dataframe tbody tr th:only-of-type {\n",
              "        vertical-align: middle;\n",
              "    }\n",
              "\n",
              "    .dataframe tbody tr th {\n",
              "        vertical-align: top;\n",
              "    }\n",
              "\n",
              "    .dataframe thead th {\n",
              "        text-align: right;\n",
              "    }\n",
              "</style>\n",
              "<table border=\"1\" class=\"dataframe\">\n",
              "  <thead>\n",
              "    <tr style=\"text-align: right;\">\n",
              "      <th></th>\n",
              "      <th>RowNumber</th>\n",
              "      <th>CustomerId</th>\n",
              "      <th>CreditScore</th>\n",
              "      <th>Age</th>\n",
              "      <th>Tenure</th>\n",
              "      <th>Balance</th>\n",
              "      <th>NumOfProducts</th>\n",
              "      <th>HasCrCard</th>\n",
              "      <th>IsActiveMember</th>\n",
              "      <th>EstimatedSalary</th>\n",
              "    </tr>\n",
              "    <tr>\n",
              "      <th>Exited</th>\n",
              "      <th></th>\n",
              "      <th></th>\n",
              "      <th></th>\n",
              "      <th></th>\n",
              "      <th></th>\n",
              "      <th></th>\n",
              "      <th></th>\n",
              "      <th></th>\n",
              "      <th></th>\n",
              "      <th></th>\n",
              "    </tr>\n",
              "  </thead>\n",
              "  <tbody>\n",
              "    <tr>\n",
              "      <th>0</th>\n",
              "      <td>5042</td>\n",
              "      <td>15691543</td>\n",
              "      <td>653</td>\n",
              "      <td>36</td>\n",
              "      <td>5</td>\n",
              "      <td>92072.68</td>\n",
              "      <td>2</td>\n",
              "      <td>1</td>\n",
              "      <td>1</td>\n",
              "      <td>99645.04</td>\n",
              "    </tr>\n",
              "    <tr>\n",
              "      <th>1</th>\n",
              "      <td>4871</td>\n",
              "      <td>15688963</td>\n",
              "      <td>646</td>\n",
              "      <td>45</td>\n",
              "      <td>5</td>\n",
              "      <td>109349.29</td>\n",
              "      <td>1</td>\n",
              "      <td>1</td>\n",
              "      <td>0</td>\n",
              "      <td>102460.84</td>\n",
              "    </tr>\n",
              "  </tbody>\n",
              "</table>\n",
              "</div>"
            ],
            "text/plain": [
              "        RowNumber  CustomerId  ...  IsActiveMember  EstimatedSalary\n",
              "Exited                         ...                                 \n",
              "0            5042    15691543  ...               1         99645.04\n",
              "1            4871    15688963  ...               0        102460.84\n",
              "\n",
              "[2 rows x 10 columns]"
            ]
          },
          "metadata": {
            "tags": []
          },
          "execution_count": 142
        }
      ]
    },
    {
      "cell_type": "markdown",
      "metadata": {
        "id": "UFxDg3-IlJYi"
      },
      "source": [
        "# BAseline Model -1"
      ]
    },
    {
      "cell_type": "code",
      "metadata": {
        "ExecuteTime": {
          "end_time": "2021-08-07T11:40:14.315678Z",
          "start_time": "2021-08-07T11:40:14.301920Z"
        },
        "id": "AsLccl9RlJYi"
      },
      "source": [
        "def baseline_model(row):\n",
        "    '''A baseline model using just the age'''\n",
        "    if row['Age'] >45:\n",
        "        return 1\n",
        "    else:\n",
        "        return 0"
      ],
      "execution_count": 143,
      "outputs": []
    },
    {
      "cell_type": "code",
      "metadata": {
        "ExecuteTime": {
          "end_time": "2021-08-07T11:40:14.566261Z",
          "start_time": "2021-08-07T11:40:14.489859Z"
        },
        "id": "C32Pqpd8lJYj"
      },
      "source": [
        "churn['predictions_baseline']=churn.apply(baseline_model,axis=1)"
      ],
      "execution_count": 144,
      "outputs": []
    },
    {
      "cell_type": "code",
      "metadata": {
        "ExecuteTime": {
          "end_time": "2021-08-07T11:40:14.672764Z",
          "start_time": "2021-08-07T11:40:14.651808Z"
        },
        "id": "Jgj3siH1lJYj",
        "outputId": "379f135a-8a24-48fd-a7d5-c477d667cb6b",
        "colab": {
          "base_uri": "https://localhost:8080/"
        }
      },
      "source": [
        "churn['predictions_baseline'].value_counts(normalize=True)"
      ],
      "execution_count": 145,
      "outputs": [
        {
          "output_type": "execute_result",
          "data": {
            "text/plain": [
              "0    0.7889\n",
              "1    0.2111\n",
              "Name: predictions_baseline, dtype: float64"
            ]
          },
          "metadata": {
            "tags": []
          },
          "execution_count": 145
        }
      ]
    },
    {
      "cell_type": "code",
      "metadata": {
        "ExecuteTime": {
          "end_time": "2021-08-07T11:40:14.904627Z",
          "start_time": "2021-08-07T11:40:14.890187Z"
        },
        "id": "jXVorKWylJYj"
      },
      "source": [
        "from sklearn.metrics import classification_report"
      ],
      "execution_count": 146,
      "outputs": []
    },
    {
      "cell_type": "code",
      "metadata": {
        "ExecuteTime": {
          "end_time": "2021-08-07T11:40:15.413867Z",
          "start_time": "2021-08-07T11:40:15.388875Z"
        },
        "id": "ZMfT92G_lJYk",
        "outputId": "834466da-1445-4e8e-ba60-51a3cea77a60",
        "colab": {
          "base_uri": "https://localhost:8080/"
        }
      },
      "source": [
        "print(classification_report(churn['Exited'],churn['predictions_baseline']))"
      ],
      "execution_count": 147,
      "outputs": [
        {
          "output_type": "stream",
          "text": [
            "              precision    recall  f1-score   support\n",
            "\n",
            "           0       0.86      0.86      0.86      7963\n",
            "           1       0.45      0.47      0.46      2037\n",
            "\n",
            "    accuracy                           0.78     10000\n",
            "   macro avg       0.66      0.66      0.66     10000\n",
            "weighted avg       0.78      0.78      0.78     10000\n",
            "\n"
          ],
          "name": "stdout"
        }
      ]
    },
    {
      "cell_type": "markdown",
      "metadata": {
        "id": "VYJd4lv7lJYk"
      },
      "source": [
        "# EDA"
      ]
    },
    {
      "cell_type": "code",
      "metadata": {
        "ExecuteTime": {
          "end_time": "2021-08-07T11:48:03.276079Z",
          "start_time": "2021-08-07T11:48:03.246696Z"
        },
        "id": "P_09pFyqlJYk"
      },
      "source": [
        "## 1\n",
        "df=churn.describe().T"
      ],
      "execution_count": 148,
      "outputs": []
    },
    {
      "cell_type": "code",
      "metadata": {
        "ExecuteTime": {
          "end_time": "2021-08-07T11:48:03.602064Z",
          "start_time": "2021-08-07T11:48:03.583906Z"
        },
        "id": "9RGCW9zulJYl"
      },
      "source": [
        "df['range']=df['max']-df['min']\n",
        "df['iqr']=df['75%']-df['25%']"
      ],
      "execution_count": 149,
      "outputs": []
    },
    {
      "cell_type": "code",
      "metadata": {
        "ExecuteTime": {
          "end_time": "2021-08-07T11:50:24.376513Z",
          "start_time": "2021-08-07T11:50:24.357511Z"
        },
        "id": "UUxWMVyNlJYl",
        "outputId": "ff6465e7-fd29-4957-c019-e0a60a482c75",
        "colab": {
          "base_uri": "https://localhost:8080/",
          "height": 0
        }
      },
      "source": [
        "df.sort_values(by='range')[['range','iqr','min','max']]"
      ],
      "execution_count": 150,
      "outputs": [
        {
          "output_type": "execute_result",
          "data": {
            "text/html": [
              "<div>\n",
              "<style scoped>\n",
              "    .dataframe tbody tr th:only-of-type {\n",
              "        vertical-align: middle;\n",
              "    }\n",
              "\n",
              "    .dataframe tbody tr th {\n",
              "        vertical-align: top;\n",
              "    }\n",
              "\n",
              "    .dataframe thead th {\n",
              "        text-align: right;\n",
              "    }\n",
              "</style>\n",
              "<table border=\"1\" class=\"dataframe\">\n",
              "  <thead>\n",
              "    <tr style=\"text-align: right;\">\n",
              "      <th></th>\n",
              "      <th>range</th>\n",
              "      <th>iqr</th>\n",
              "      <th>min</th>\n",
              "      <th>max</th>\n",
              "    </tr>\n",
              "  </thead>\n",
              "  <tbody>\n",
              "    <tr>\n",
              "      <th>HasCrCard</th>\n",
              "      <td>1.00</td>\n",
              "      <td>1.0000</td>\n",
              "      <td>0.00</td>\n",
              "      <td>1.00</td>\n",
              "    </tr>\n",
              "    <tr>\n",
              "      <th>IsActiveMember</th>\n",
              "      <td>1.00</td>\n",
              "      <td>1.0000</td>\n",
              "      <td>0.00</td>\n",
              "      <td>1.00</td>\n",
              "    </tr>\n",
              "    <tr>\n",
              "      <th>Exited</th>\n",
              "      <td>1.00</td>\n",
              "      <td>0.0000</td>\n",
              "      <td>0.00</td>\n",
              "      <td>1.00</td>\n",
              "    </tr>\n",
              "    <tr>\n",
              "      <th>predictions_baseline</th>\n",
              "      <td>1.00</td>\n",
              "      <td>0.0000</td>\n",
              "      <td>0.00</td>\n",
              "      <td>1.00</td>\n",
              "    </tr>\n",
              "    <tr>\n",
              "      <th>NumOfProducts</th>\n",
              "      <td>3.00</td>\n",
              "      <td>1.0000</td>\n",
              "      <td>1.00</td>\n",
              "      <td>4.00</td>\n",
              "    </tr>\n",
              "    <tr>\n",
              "      <th>Tenure</th>\n",
              "      <td>10.00</td>\n",
              "      <td>4.0000</td>\n",
              "      <td>0.00</td>\n",
              "      <td>10.00</td>\n",
              "    </tr>\n",
              "    <tr>\n",
              "      <th>Age</th>\n",
              "      <td>74.00</td>\n",
              "      <td>12.0000</td>\n",
              "      <td>18.00</td>\n",
              "      <td>92.00</td>\n",
              "    </tr>\n",
              "    <tr>\n",
              "      <th>CreditScore</th>\n",
              "      <td>500.00</td>\n",
              "      <td>134.0000</td>\n",
              "      <td>350.00</td>\n",
              "      <td>850.00</td>\n",
              "    </tr>\n",
              "    <tr>\n",
              "      <th>RowNumber</th>\n",
              "      <td>9999.00</td>\n",
              "      <td>4999.5000</td>\n",
              "      <td>1.00</td>\n",
              "      <td>10000.00</td>\n",
              "    </tr>\n",
              "    <tr>\n",
              "      <th>EstimatedSalary</th>\n",
              "      <td>199980.90</td>\n",
              "      <td>98386.1375</td>\n",
              "      <td>11.58</td>\n",
              "      <td>199992.48</td>\n",
              "    </tr>\n",
              "    <tr>\n",
              "      <th>CustomerId</th>\n",
              "      <td>249989.00</td>\n",
              "      <td>124705.5000</td>\n",
              "      <td>15565701.00</td>\n",
              "      <td>15815690.00</td>\n",
              "    </tr>\n",
              "    <tr>\n",
              "      <th>Balance</th>\n",
              "      <td>250898.09</td>\n",
              "      <td>127644.2400</td>\n",
              "      <td>0.00</td>\n",
              "      <td>250898.09</td>\n",
              "    </tr>\n",
              "  </tbody>\n",
              "</table>\n",
              "</div>"
            ],
            "text/plain": [
              "                          range          iqr          min          max\n",
              "HasCrCard                  1.00       1.0000         0.00         1.00\n",
              "IsActiveMember             1.00       1.0000         0.00         1.00\n",
              "Exited                     1.00       0.0000         0.00         1.00\n",
              "predictions_baseline       1.00       0.0000         0.00         1.00\n",
              "NumOfProducts              3.00       1.0000         1.00         4.00\n",
              "Tenure                    10.00       4.0000         0.00        10.00\n",
              "Age                       74.00      12.0000        18.00        92.00\n",
              "CreditScore              500.00     134.0000       350.00       850.00\n",
              "RowNumber               9999.00    4999.5000         1.00     10000.00\n",
              "EstimatedSalary       199980.90   98386.1375        11.58    199992.48\n",
              "CustomerId            249989.00  124705.5000  15565701.00  15815690.00\n",
              "Balance               250898.09  127644.2400         0.00    250898.09"
            ]
          },
          "metadata": {
            "tags": []
          },
          "execution_count": 150
        }
      ]
    },
    {
      "cell_type": "code",
      "metadata": {
        "ExecuteTime": {
          "end_time": "2021-05-23T08:48:41.470767Z",
          "start_time": "2021-05-23T08:48:41.444798Z"
        },
        "id": "gF4BQrXHlJYl",
        "outputId": "8f9a3d96-5d52-42d1-c358-754de536471f",
        "colab": {
          "base_uri": "https://localhost:8080/"
        }
      },
      "source": [
        "churn['Exited'].value_counts(normalize=True)"
      ],
      "execution_count": 151,
      "outputs": [
        {
          "output_type": "execute_result",
          "data": {
            "text/plain": [
              "0    0.7963\n",
              "1    0.2037\n",
              "Name: Exited, dtype: float64"
            ]
          },
          "metadata": {
            "tags": []
          },
          "execution_count": 151
        }
      ]
    },
    {
      "cell_type": "code",
      "metadata": {
        "ExecuteTime": {
          "end_time": "2021-05-23T08:48:41.486179Z",
          "start_time": "2021-05-23T08:48:41.475616Z"
        },
        "id": "bC4B6Xk8lJYm",
        "outputId": "5c603f5c-bea0-4449-df59-eb9ec1c4611f",
        "colab": {
          "base_uri": "https://localhost:8080/"
        }
      },
      "source": [
        "churn['NumOfProducts'].value_counts(normalize=True)"
      ],
      "execution_count": 152,
      "outputs": [
        {
          "output_type": "execute_result",
          "data": {
            "text/plain": [
              "1    0.5084\n",
              "2    0.4590\n",
              "3    0.0266\n",
              "4    0.0060\n",
              "Name: NumOfProducts, dtype: float64"
            ]
          },
          "metadata": {
            "tags": []
          },
          "execution_count": 152
        }
      ]
    },
    {
      "cell_type": "code",
      "metadata": {
        "ExecuteTime": {
          "end_time": "2021-05-23T08:48:41.502210Z",
          "start_time": "2021-05-23T08:48:41.488166Z"
        },
        "id": "VQy9SQqSlJYm",
        "outputId": "6d6164de-daf1-4664-f85f-1bb36c8683f9",
        "colab": {
          "base_uri": "https://localhost:8080/"
        }
      },
      "source": [
        "churn['NumOfProducts'].value_counts()"
      ],
      "execution_count": 153,
      "outputs": [
        {
          "output_type": "execute_result",
          "data": {
            "text/plain": [
              "1    5084\n",
              "2    4590\n",
              "3     266\n",
              "4      60\n",
              "Name: NumOfProducts, dtype: int64"
            ]
          },
          "metadata": {
            "tags": []
          },
          "execution_count": 153
        }
      ]
    },
    {
      "cell_type": "code",
      "metadata": {
        "ExecuteTime": {
          "end_time": "2021-05-23T08:48:41.533837Z",
          "start_time": "2021-05-23T08:48:41.505859Z"
        },
        "id": "SFgCB5srlJYm",
        "outputId": "debaefc9-fa21-4cff-a89c-0d97d09034e6",
        "colab": {
          "base_uri": "https://localhost:8080/"
        }
      },
      "source": [
        "churn.info()"
      ],
      "execution_count": 154,
      "outputs": [
        {
          "output_type": "stream",
          "text": [
            "<class 'pandas.core.frame.DataFrame'>\n",
            "RangeIndex: 10000 entries, 0 to 9999\n",
            "Data columns (total 15 columns):\n",
            " #   Column                Non-Null Count  Dtype  \n",
            "---  ------                --------------  -----  \n",
            " 0   RowNumber             10000 non-null  int64  \n",
            " 1   CustomerId            10000 non-null  int64  \n",
            " 2   Surname               10000 non-null  object \n",
            " 3   CreditScore           10000 non-null  int64  \n",
            " 4   Geography             10000 non-null  object \n",
            " 5   Gender                10000 non-null  object \n",
            " 6   Age                   10000 non-null  int64  \n",
            " 7   Tenure                10000 non-null  int64  \n",
            " 8   Balance               10000 non-null  float64\n",
            " 9   NumOfProducts         10000 non-null  int64  \n",
            " 10  HasCrCard             10000 non-null  int64  \n",
            " 11  IsActiveMember        10000 non-null  int64  \n",
            " 12  EstimatedSalary       10000 non-null  float64\n",
            " 13  Exited                10000 non-null  int64  \n",
            " 14  predictions_baseline  10000 non-null  int64  \n",
            "dtypes: float64(2), int64(10), object(3)\n",
            "memory usage: 1.1+ MB\n"
          ],
          "name": "stdout"
        }
      ]
    },
    {
      "cell_type": "code",
      "metadata": {
        "ExecuteTime": {
          "end_time": "2021-05-23T08:48:41.548892Z",
          "start_time": "2021-05-23T08:48:41.536333Z"
        },
        "id": "Yg4c8G7nlJYn",
        "outputId": "bf90a198-7b80-4bb1-f659-b6f45742d188",
        "colab": {
          "base_uri": "https://localhost:8080/"
        }
      },
      "source": [
        "churn['Geography'].unique()"
      ],
      "execution_count": 155,
      "outputs": [
        {
          "output_type": "execute_result",
          "data": {
            "text/plain": [
              "array(['France', 'Spain', 'Germany'], dtype=object)"
            ]
          },
          "metadata": {
            "tags": []
          },
          "execution_count": 155
        }
      ]
    },
    {
      "cell_type": "code",
      "metadata": {
        "ExecuteTime": {
          "end_time": "2021-05-23T08:48:41.579752Z",
          "start_time": "2021-05-23T08:48:41.552196Z"
        },
        "id": "nARTICSHlJYn",
        "outputId": "396eef7e-7e14-4fde-a65d-57e1ceda9ddd",
        "colab": {
          "base_uri": "https://localhost:8080/",
          "height": 0
        }
      },
      "source": [
        "churn.head()"
      ],
      "execution_count": 156,
      "outputs": [
        {
          "output_type": "execute_result",
          "data": {
            "text/html": [
              "<div>\n",
              "<style scoped>\n",
              "    .dataframe tbody tr th:only-of-type {\n",
              "        vertical-align: middle;\n",
              "    }\n",
              "\n",
              "    .dataframe tbody tr th {\n",
              "        vertical-align: top;\n",
              "    }\n",
              "\n",
              "    .dataframe thead th {\n",
              "        text-align: right;\n",
              "    }\n",
              "</style>\n",
              "<table border=\"1\" class=\"dataframe\">\n",
              "  <thead>\n",
              "    <tr style=\"text-align: right;\">\n",
              "      <th></th>\n",
              "      <th>RowNumber</th>\n",
              "      <th>CustomerId</th>\n",
              "      <th>Surname</th>\n",
              "      <th>CreditScore</th>\n",
              "      <th>Geography</th>\n",
              "      <th>Gender</th>\n",
              "      <th>Age</th>\n",
              "      <th>Tenure</th>\n",
              "      <th>Balance</th>\n",
              "      <th>NumOfProducts</th>\n",
              "      <th>HasCrCard</th>\n",
              "      <th>IsActiveMember</th>\n",
              "      <th>EstimatedSalary</th>\n",
              "      <th>Exited</th>\n",
              "      <th>predictions_baseline</th>\n",
              "    </tr>\n",
              "  </thead>\n",
              "  <tbody>\n",
              "    <tr>\n",
              "      <th>0</th>\n",
              "      <td>1</td>\n",
              "      <td>15634602</td>\n",
              "      <td>Hargrave</td>\n",
              "      <td>619</td>\n",
              "      <td>France</td>\n",
              "      <td>Female</td>\n",
              "      <td>42</td>\n",
              "      <td>2</td>\n",
              "      <td>0.00</td>\n",
              "      <td>1</td>\n",
              "      <td>1</td>\n",
              "      <td>1</td>\n",
              "      <td>101348.88</td>\n",
              "      <td>1</td>\n",
              "      <td>0</td>\n",
              "    </tr>\n",
              "    <tr>\n",
              "      <th>1</th>\n",
              "      <td>2</td>\n",
              "      <td>15647311</td>\n",
              "      <td>Hill</td>\n",
              "      <td>608</td>\n",
              "      <td>Spain</td>\n",
              "      <td>Female</td>\n",
              "      <td>41</td>\n",
              "      <td>1</td>\n",
              "      <td>83807.86</td>\n",
              "      <td>1</td>\n",
              "      <td>0</td>\n",
              "      <td>1</td>\n",
              "      <td>112542.58</td>\n",
              "      <td>0</td>\n",
              "      <td>0</td>\n",
              "    </tr>\n",
              "    <tr>\n",
              "      <th>2</th>\n",
              "      <td>3</td>\n",
              "      <td>15619304</td>\n",
              "      <td>Onio</td>\n",
              "      <td>502</td>\n",
              "      <td>France</td>\n",
              "      <td>Female</td>\n",
              "      <td>42</td>\n",
              "      <td>8</td>\n",
              "      <td>159660.80</td>\n",
              "      <td>3</td>\n",
              "      <td>1</td>\n",
              "      <td>0</td>\n",
              "      <td>113931.57</td>\n",
              "      <td>1</td>\n",
              "      <td>0</td>\n",
              "    </tr>\n",
              "    <tr>\n",
              "      <th>3</th>\n",
              "      <td>4</td>\n",
              "      <td>15701354</td>\n",
              "      <td>Boni</td>\n",
              "      <td>699</td>\n",
              "      <td>France</td>\n",
              "      <td>Female</td>\n",
              "      <td>39</td>\n",
              "      <td>1</td>\n",
              "      <td>0.00</td>\n",
              "      <td>2</td>\n",
              "      <td>0</td>\n",
              "      <td>0</td>\n",
              "      <td>93826.63</td>\n",
              "      <td>0</td>\n",
              "      <td>0</td>\n",
              "    </tr>\n",
              "    <tr>\n",
              "      <th>4</th>\n",
              "      <td>5</td>\n",
              "      <td>15737888</td>\n",
              "      <td>Mitchell</td>\n",
              "      <td>850</td>\n",
              "      <td>Spain</td>\n",
              "      <td>Female</td>\n",
              "      <td>43</td>\n",
              "      <td>2</td>\n",
              "      <td>125510.82</td>\n",
              "      <td>1</td>\n",
              "      <td>1</td>\n",
              "      <td>1</td>\n",
              "      <td>79084.10</td>\n",
              "      <td>0</td>\n",
              "      <td>0</td>\n",
              "    </tr>\n",
              "  </tbody>\n",
              "</table>\n",
              "</div>"
            ],
            "text/plain": [
              "   RowNumber  CustomerId  ... Exited  predictions_baseline\n",
              "0          1    15634602  ...      1                     0\n",
              "1          2    15647311  ...      0                     0\n",
              "2          3    15619304  ...      1                     0\n",
              "3          4    15701354  ...      0                     0\n",
              "4          5    15737888  ...      0                     0\n",
              "\n",
              "[5 rows x 15 columns]"
            ]
          },
          "metadata": {
            "tags": []
          },
          "execution_count": 156
        }
      ]
    },
    {
      "cell_type": "code",
      "metadata": {
        "ExecuteTime": {
          "end_time": "2021-05-23T08:48:41.610595Z",
          "start_time": "2021-05-23T08:48:41.581374Z"
        },
        "id": "uB9y5DWtlJYo",
        "outputId": "be4ef5f6-60b1-4572-d342-2ded7c814181",
        "colab": {
          "base_uri": "https://localhost:8080/",
          "height": 0
        }
      },
      "source": [
        "churn.tail()"
      ],
      "execution_count": 157,
      "outputs": [
        {
          "output_type": "execute_result",
          "data": {
            "text/html": [
              "<div>\n",
              "<style scoped>\n",
              "    .dataframe tbody tr th:only-of-type {\n",
              "        vertical-align: middle;\n",
              "    }\n",
              "\n",
              "    .dataframe tbody tr th {\n",
              "        vertical-align: top;\n",
              "    }\n",
              "\n",
              "    .dataframe thead th {\n",
              "        text-align: right;\n",
              "    }\n",
              "</style>\n",
              "<table border=\"1\" class=\"dataframe\">\n",
              "  <thead>\n",
              "    <tr style=\"text-align: right;\">\n",
              "      <th></th>\n",
              "      <th>RowNumber</th>\n",
              "      <th>CustomerId</th>\n",
              "      <th>Surname</th>\n",
              "      <th>CreditScore</th>\n",
              "      <th>Geography</th>\n",
              "      <th>Gender</th>\n",
              "      <th>Age</th>\n",
              "      <th>Tenure</th>\n",
              "      <th>Balance</th>\n",
              "      <th>NumOfProducts</th>\n",
              "      <th>HasCrCard</th>\n",
              "      <th>IsActiveMember</th>\n",
              "      <th>EstimatedSalary</th>\n",
              "      <th>Exited</th>\n",
              "      <th>predictions_baseline</th>\n",
              "    </tr>\n",
              "  </thead>\n",
              "  <tbody>\n",
              "    <tr>\n",
              "      <th>9995</th>\n",
              "      <td>9996</td>\n",
              "      <td>15606229</td>\n",
              "      <td>Obijiaku</td>\n",
              "      <td>771</td>\n",
              "      <td>France</td>\n",
              "      <td>Male</td>\n",
              "      <td>39</td>\n",
              "      <td>5</td>\n",
              "      <td>0.00</td>\n",
              "      <td>2</td>\n",
              "      <td>1</td>\n",
              "      <td>0</td>\n",
              "      <td>96270.64</td>\n",
              "      <td>0</td>\n",
              "      <td>0</td>\n",
              "    </tr>\n",
              "    <tr>\n",
              "      <th>9996</th>\n",
              "      <td>9997</td>\n",
              "      <td>15569892</td>\n",
              "      <td>Johnstone</td>\n",
              "      <td>516</td>\n",
              "      <td>France</td>\n",
              "      <td>Male</td>\n",
              "      <td>35</td>\n",
              "      <td>10</td>\n",
              "      <td>57369.61</td>\n",
              "      <td>1</td>\n",
              "      <td>1</td>\n",
              "      <td>1</td>\n",
              "      <td>101699.77</td>\n",
              "      <td>0</td>\n",
              "      <td>0</td>\n",
              "    </tr>\n",
              "    <tr>\n",
              "      <th>9997</th>\n",
              "      <td>9998</td>\n",
              "      <td>15584532</td>\n",
              "      <td>Liu</td>\n",
              "      <td>709</td>\n",
              "      <td>France</td>\n",
              "      <td>Female</td>\n",
              "      <td>36</td>\n",
              "      <td>7</td>\n",
              "      <td>0.00</td>\n",
              "      <td>1</td>\n",
              "      <td>0</td>\n",
              "      <td>1</td>\n",
              "      <td>42085.58</td>\n",
              "      <td>1</td>\n",
              "      <td>0</td>\n",
              "    </tr>\n",
              "    <tr>\n",
              "      <th>9998</th>\n",
              "      <td>9999</td>\n",
              "      <td>15682355</td>\n",
              "      <td>Sabbatini</td>\n",
              "      <td>772</td>\n",
              "      <td>Germany</td>\n",
              "      <td>Male</td>\n",
              "      <td>42</td>\n",
              "      <td>3</td>\n",
              "      <td>75075.31</td>\n",
              "      <td>2</td>\n",
              "      <td>1</td>\n",
              "      <td>0</td>\n",
              "      <td>92888.52</td>\n",
              "      <td>1</td>\n",
              "      <td>0</td>\n",
              "    </tr>\n",
              "    <tr>\n",
              "      <th>9999</th>\n",
              "      <td>10000</td>\n",
              "      <td>15628319</td>\n",
              "      <td>Walker</td>\n",
              "      <td>792</td>\n",
              "      <td>France</td>\n",
              "      <td>Female</td>\n",
              "      <td>28</td>\n",
              "      <td>4</td>\n",
              "      <td>130142.79</td>\n",
              "      <td>1</td>\n",
              "      <td>1</td>\n",
              "      <td>0</td>\n",
              "      <td>38190.78</td>\n",
              "      <td>0</td>\n",
              "      <td>0</td>\n",
              "    </tr>\n",
              "  </tbody>\n",
              "</table>\n",
              "</div>"
            ],
            "text/plain": [
              "      RowNumber  CustomerId  ... Exited  predictions_baseline\n",
              "9995       9996    15606229  ...      0                     0\n",
              "9996       9997    15569892  ...      0                     0\n",
              "9997       9998    15584532  ...      1                     0\n",
              "9998       9999    15682355  ...      1                     0\n",
              "9999      10000    15628319  ...      0                     0\n",
              "\n",
              "[5 rows x 15 columns]"
            ]
          },
          "metadata": {
            "tags": []
          },
          "execution_count": 157
        }
      ]
    },
    {
      "cell_type": "code",
      "metadata": {
        "ExecuteTime": {
          "end_time": "2021-08-07T11:55:20.799282Z",
          "start_time": "2021-08-07T11:55:20.779850Z"
        },
        "id": "v5GpSMqClJYo"
      },
      "source": [
        "def check_Categorical(df,column_list,thresh=4):\n",
        "    '''\n",
        "    Accepts a dataframe and a list of columns and returns\n",
        "    all the columns that are categorical based on threshold\n",
        "    '''\n",
        "    \n",
        "    categorical=[]\n",
        "    for i in column_list:\n",
        "        print(i,df[i].nunique())\n",
        "        if df[i].nunique() <=thresh:\n",
        "            print(i,\" is categorical\")\n",
        "            categorical.append(i)\n",
        "    return categorical\n",
        "    "
      ],
      "execution_count": 158,
      "outputs": []
    },
    {
      "cell_type": "code",
      "metadata": {
        "ExecuteTime": {
          "end_time": "2021-05-23T08:48:41.657365Z",
          "start_time": "2021-05-23T08:48:41.628635Z"
        },
        "id": "YWZehRfElJYp",
        "outputId": "d2ff4959-48c8-4721-effc-0447ccf0a596",
        "colab": {
          "base_uri": "https://localhost:8080/"
        }
      },
      "source": [
        "check_Categorical(churn, churn.columns.tolist(),thresh=2)"
      ],
      "execution_count": 159,
      "outputs": [
        {
          "output_type": "stream",
          "text": [
            "RowNumber 10000\n",
            "CustomerId 10000\n",
            "Surname 2932\n",
            "CreditScore 460\n",
            "Geography 3\n",
            "Gender 2\n",
            "Gender  is categorical\n",
            "Age 70\n",
            "Tenure 11\n",
            "Balance 6382\n",
            "NumOfProducts 4\n",
            "HasCrCard 2\n",
            "HasCrCard  is categorical\n",
            "IsActiveMember 2\n",
            "IsActiveMember  is categorical\n",
            "EstimatedSalary 9999\n",
            "Exited 2\n",
            "Exited  is categorical\n",
            "predictions_baseline 2\n",
            "predictions_baseline  is categorical\n"
          ],
          "name": "stdout"
        },
        {
          "output_type": "execute_result",
          "data": {
            "text/plain": [
              "['Gender', 'HasCrCard', 'IsActiveMember', 'Exited', 'predictions_baseline']"
            ]
          },
          "metadata": {
            "tags": []
          },
          "execution_count": 159
        }
      ]
    },
    {
      "cell_type": "code",
      "metadata": {
        "ExecuteTime": {
          "end_time": "2021-08-07T11:58:00.971204Z",
          "start_time": "2021-08-07T11:58:00.939066Z"
        },
        "id": "wD7tX4ewlJYp",
        "outputId": "aca12374-dbda-4668-8ad5-c6c2e1404a63",
        "colab": {
          "base_uri": "https://localhost:8080/"
        }
      },
      "source": [
        "categorical_variables=check_Categorical(churn, churn.columns.tolist(),thresh=10)"
      ],
      "execution_count": 160,
      "outputs": [
        {
          "output_type": "stream",
          "text": [
            "RowNumber 10000\n",
            "CustomerId 10000\n",
            "Surname 2932\n",
            "CreditScore 460\n",
            "Geography 3\n",
            "Geography  is categorical\n",
            "Gender 2\n",
            "Gender  is categorical\n",
            "Age 70\n",
            "Tenure 11\n",
            "Balance 6382\n",
            "NumOfProducts 4\n",
            "NumOfProducts  is categorical\n",
            "HasCrCard 2\n",
            "HasCrCard  is categorical\n",
            "IsActiveMember 2\n",
            "IsActiveMember  is categorical\n",
            "EstimatedSalary 9999\n",
            "Exited 2\n",
            "Exited  is categorical\n",
            "predictions_baseline 2\n",
            "predictions_baseline  is categorical\n"
          ],
          "name": "stdout"
        }
      ]
    },
    {
      "cell_type": "code",
      "metadata": {
        "ExecuteTime": {
          "end_time": "2021-08-07T11:58:06.097387Z",
          "start_time": "2021-08-07T11:58:06.091071Z"
        },
        "id": "djHvryeSlJYp",
        "outputId": "56e23e9b-8350-4b50-b569-63b43d7e5f18",
        "colab": {
          "base_uri": "https://localhost:8080/"
        }
      },
      "source": [
        "categorical_variables"
      ],
      "execution_count": 161,
      "outputs": [
        {
          "output_type": "execute_result",
          "data": {
            "text/plain": [
              "['Geography',\n",
              " 'Gender',\n",
              " 'NumOfProducts',\n",
              " 'HasCrCard',\n",
              " 'IsActiveMember',\n",
              " 'Exited',\n",
              " 'predictions_baseline']"
            ]
          },
          "metadata": {
            "tags": []
          },
          "execution_count": 161
        }
      ]
    },
    {
      "cell_type": "code",
      "metadata": {
        "ExecuteTime": {
          "end_time": "2021-08-07T11:58:16.713387Z",
          "start_time": "2021-08-07T11:58:16.703918Z"
        },
        "id": "vbkhKZholJYp"
      },
      "source": [
        "numerical_variables=list(set(churn.columns.tolist())-set(categorical_variables))"
      ],
      "execution_count": 162,
      "outputs": []
    },
    {
      "cell_type": "code",
      "metadata": {
        "ExecuteTime": {
          "end_time": "2021-08-07T11:58:23.123945Z",
          "start_time": "2021-08-07T11:58:23.116093Z"
        },
        "id": "mKbVJPHklJYp",
        "outputId": "a7fa3423-c1a2-4ab2-d553-ecf18c5de918",
        "colab": {
          "base_uri": "https://localhost:8080/"
        }
      },
      "source": [
        "for i in numerical_variables:\n",
        "    if churn[i].dtype==object:\n",
        "        print(i)\n",
        "        numerical_variables.remove(i)\n",
        "    "
      ],
      "execution_count": 163,
      "outputs": [
        {
          "output_type": "stream",
          "text": [
            "Surname\n"
          ],
          "name": "stdout"
        }
      ]
    },
    {
      "cell_type": "markdown",
      "metadata": {
        "id": "bvjnWT9elJYq"
      },
      "source": [
        "# Visualization"
      ]
    },
    {
      "cell_type": "code",
      "metadata": {
        "ExecuteTime": {
          "end_time": "2021-08-07T12:00:02.624598Z",
          "start_time": "2021-08-07T12:00:02.225844Z"
        },
        "id": "IELrpEySlJYq"
      },
      "source": [
        "from matplotlib import pyplot as plt\n",
        "%matplotlib inline"
      ],
      "execution_count": 164,
      "outputs": []
    },
    {
      "cell_type": "code",
      "metadata": {
        "ExecuteTime": {
          "end_time": "2021-08-07T12:00:04.646309Z",
          "start_time": "2021-08-07T12:00:04.402837Z"
        },
        "id": "mcr8vOHglJYq",
        "outputId": "2f24425f-41b1-4bd4-e2db-af686b0be4b4",
        "colab": {
          "base_uri": "https://localhost:8080/",
          "height": 0
        }
      },
      "source": [
        "churn['Tenure'].value_counts().plot.bar()"
      ],
      "execution_count": 165,
      "outputs": [
        {
          "output_type": "execute_result",
          "data": {
            "text/plain": [
              "<matplotlib.axes._subplots.AxesSubplot at 0x7f39c8c6d450>"
            ]
          },
          "metadata": {
            "tags": []
          },
          "execution_count": 165
        },
        {
          "output_type": "display_data",
          "data": {
            "image/png": "[encoded data removed]",
            "text/plain": [
              "<Figure size 432x288 with 1 Axes>"
            ]
          },
          "metadata": {
            "tags": [],
            "needs_background": "light"
          }
        }
      ]
    },
    {
      "cell_type": "code",
      "metadata": {
        "ExecuteTime": {
          "end_time": "2021-08-07T12:00:06.734786Z",
          "start_time": "2021-08-07T12:00:05.089036Z"
        },
        "id": "lqwpEFcKlJYq",
        "outputId": "117efa77-a1e4-4869-df81-7ce82727bf80",
        "colab": {
          "base_uri": "https://localhost:8080/",
          "height": 0
        }
      },
      "source": [
        "for i in numerical_variables:\n",
        "    print(\"This is the variable: \",i)\n",
        "    print(churn[i].describe())\n",
        "    plt.hist(churn[i])\n",
        "    plt.show()\n",
        "    plt.boxplot(churn[i])\n",
        "    plt.show()\n",
        "    print(\"*\"*100)\n",
        "    "
      ],
      "execution_count": 166,
      "outputs": [
        {
          "output_type": "stream",
          "text": [
            "This is the variable:  EstimatedSalary\n",
            "count     10000.000000\n",
            "mean     100090.239881\n",
            "std       57510.492818\n",
            "min          11.580000\n",
            "25%       51002.110000\n",
            "50%      100193.915000\n",
            "75%      149388.247500\n",
            "max      199992.480000\n",
            "Name: EstimatedSalary, dtype: float64\n"
          ],
          "name": "stdout"
        },
        {
          "output_type": "display_data",
          "data": {
            "image/png": "[encoded data removed]",
            "text/plain": [
              "<Figure size 432x288 with 1 Axes>"
            ]
          },
          "metadata": {
            "tags": [],
            "needs_background": "light"
          }
        },
        {
          "output_type": "display_data",
          "data": {
            "image/png": "[encoded data removed]",
            "text/plain": [
              "<Figure size 432x288 with 1 Axes>"
            ]
          },
          "metadata": {
            "tags": [],
            "needs_background": "light"
          }
        },
        {
          "output_type": "stream",
          "text": [
            "****************************************************************************************************\n",
            "This is the variable:  Balance\n",
            "count     10000.000000\n",
            "mean      76485.889288\n",
            "std       62397.405202\n",
            "min           0.000000\n",
            "25%           0.000000\n",
            "50%       97198.540000\n",
            "75%      127644.240000\n",
            "max      250898.090000\n",
            "Name: Balance, dtype: float64\n"
          ],
          "name": "stdout"
        },
        {
          "output_type": "display_data",
          "data": {
            "image/png": "[encoded data removed]",
            "text/plain": [
              "<Figure size 432x288 with 1 Axes>"
            ]
          },
          "metadata": {
            "tags": [],
            "needs_background": "light"
          }
        },
        {
          "output_type": "display_data",
          "data": {
            "image/png": "[encoded data removed]",
            "text/plain": [
              "<Figure size 432x288 with 1 Axes>"
            ]
          },
          "metadata": {
            "tags": [],
            "needs_background": "light"
          }
        },
        {
          "output_type": "stream",
          "text": [
            "****************************************************************************************************\n",
            "This is the variable:  CreditScore\n",
            "count    10000.000000\n",
            "mean       650.528800\n",
            "std         96.653299\n",
            "min        350.000000\n",
            "25%        584.000000\n",
            "50%        652.000000\n",
            "75%        718.000000\n",
            "max        850.000000\n",
            "Name: CreditScore, dtype: float64\n"
          ],
          "name": "stdout"
        },
        {
          "output_type": "display_data",
          "data": {
            "image/png": "[encoded data removed]",
            "text/plain": [
              "<Figure size 432x288 with 1 Axes>"
            ]
          },
          "metadata": {
            "tags": [],
            "needs_background": "light"
          }
        },
        {
          "output_type": "display_data",
          "data": {
            "image/png": "[encoded data removed]",
            "text/plain": [
              "<Figure size 432x288 with 1 Axes>"
            ]
          },
          "metadata": {
            "tags": [],
            "needs_background": "light"
          }
        },
        {
          "output_type": "stream",
          "text": [
            "****************************************************************************************************\n",
            "This is the variable:  RowNumber\n",
            "count    10000.00000\n",
            "mean      5000.50000\n",
            "std       2886.89568\n",
            "min          1.00000\n",
            "25%       2500.75000\n",
            "50%       5000.50000\n",
            "75%       7500.25000\n",
            "max      10000.00000\n",
            "Name: RowNumber, dtype: float64\n"
          ],
          "name": "stdout"
        },
        {
          "output_type": "display_data",
          "data": {
            "image/png": "[encoded data removed]",
            "text/plain": [
              "<Figure size 432x288 with 1 Axes>"
            ]
          },
          "metadata": {
            "tags": [],
            "needs_background": "light"
          }
        },
        {
          "output_type": "display_data",
          "data": {
            "image/png": "[encoded data removed]",
            "text/plain": [
              "<Figure size 432x288 with 1 Axes>"
            ]
          },
          "metadata": {
            "tags": [],
            "needs_background": "light"
          }
        },
        {
          "output_type": "stream",
          "text": [
            "****************************************************************************************************\n",
            "This is the variable:  Age\n",
            "count    10000.000000\n",
            "mean        38.921800\n",
            "std         10.487806\n",
            "min         18.000000\n",
            "25%         32.000000\n",
            "50%         37.000000\n",
            "75%         44.000000\n",
            "max         92.000000\n",
            "Name: Age, dtype: float64\n"
          ],
          "name": "stdout"
        },
        {
          "output_type": "display_data",
          "data": {
            "image/png": "[encoded data removed]",
            "text/plain": [
              "<Figure size 432x288 with 1 Axes>"
            ]
          },
          "metadata": {
            "tags": [],
            "needs_background": "light"
          }
        },
        {
          "output_type": "display_data",
          "data": {
            "image/png": "[encoded data removed]",
            "text/plain": [
              "<Figure size 432x288 with 1 Axes>"
            ]
          },
          "metadata": {
            "tags": [],
            "needs_background": "light"
          }
        },
        {
          "output_type": "stream",
          "text": [
            "****************************************************************************************************\n",
            "This is the variable:  Tenure\n",
            "count    10000.000000\n",
            "mean         5.012800\n",
            "std          2.892174\n",
            "min          0.000000\n",
            "25%          3.000000\n",
            "50%          5.000000\n",
            "75%          7.000000\n",
            "max         10.000000\n",
            "Name: Tenure, dtype: float64\n"
          ],
          "name": "stdout"
        },
        {
          "output_type": "display_data",
          "data": {
            "image/png": "[encoded data removed]",
            "text/plain": [
              "<Figure size 432x288 with 1 Axes>"
            ]
          },
          "metadata": {
            "tags": [],
            "needs_background": "light"
          }
        },
        {
          "output_type": "display_data",
          "data": {
            "image/png": "[encoded data removed]",
            "text/plain": [
              "<Figure size 432x288 with 1 Axes>"
            ]
          },
          "metadata": {
            "tags": [],
            "needs_background": "light"
          }
        },
        {
          "output_type": "stream",
          "text": [
            "****************************************************************************************************\n",
            "This is the variable:  CustomerId\n",
            "count    1.000000e+04\n",
            "mean     1.569094e+07\n",
            "std      7.193619e+04\n",
            "min      1.556570e+07\n",
            "25%      1.562853e+07\n",
            "50%      1.569074e+07\n",
            "75%      1.575323e+07\n",
            "max      1.581569e+07\n",
            "Name: CustomerId, dtype: float64\n"
          ],
          "name": "stdout"
        },
        {
          "output_type": "display_data",
          "data": {
            "image/png": "[encoded data removed]",
            "text/plain": [
              "<Figure size 432x288 with 1 Axes>"
            ]
          },
          "metadata": {
            "tags": [],
            "needs_background": "light"
          }
        },
        {
          "output_type": "display_data",
          "data": {
            "image/png": "[encoded data removed]",
            "text/plain": [
              "<Figure size 432x288 with 1 Axes>"
            ]
          },
          "metadata": {
            "tags": [],
            "needs_background": "light"
          }
        },
        {
          "output_type": "stream",
          "text": [
            "****************************************************************************************************\n"
          ],
          "name": "stdout"
        }
      ]
    },
    {
      "cell_type": "code",
      "metadata": {
        "ExecuteTime": {
          "end_time": "2021-08-07T12:04:01.242857Z",
          "start_time": "2021-08-07T12:04:01.224051Z"
        },
        "id": "2z7pyKC9lJYs",
        "outputId": "0df041c2-967c-40c3-ffd7-d40fdbc5222f",
        "colab": {
          "base_uri": "https://localhost:8080/"
        }
      },
      "source": [
        "np.percentile(churn['Age'],q=99)"
      ],
      "execution_count": 167,
      "outputs": [
        {
          "output_type": "execute_result",
          "data": {
            "text/plain": [
              "72.0"
            ]
          },
          "metadata": {
            "tags": []
          },
          "execution_count": 167
        }
      ]
    },
    {
      "cell_type": "code",
      "metadata": {
        "ExecuteTime": {
          "end_time": "2021-08-07T12:08:37.542652Z",
          "start_time": "2021-08-07T12:08:37.520455Z"
        },
        "id": "a1n6PknclJYs",
        "outputId": "46ca985f-5b11-4bfa-c31c-93909574a113",
        "colab": {
          "base_uri": "https://localhost:8080/"
        }
      },
      "source": [
        "(churn['Age']>80).value_counts()"
      ],
      "execution_count": 168,
      "outputs": [
        {
          "output_type": "execute_result",
          "data": {
            "text/plain": [
              "False    9988\n",
              "True       12\n",
              "Name: Age, dtype: int64"
            ]
          },
          "metadata": {
            "tags": []
          },
          "execution_count": 168
        }
      ]
    },
    {
      "cell_type": "code",
      "metadata": {
        "ExecuteTime": {
          "end_time": "2021-08-07T12:08:52.589167Z",
          "start_time": "2021-08-07T12:08:52.020247Z"
        },
        "id": "F7iEMNOIlJYs",
        "outputId": "806e447c-570b-41cd-b385-4fda200b3807",
        "colab": {
          "base_uri": "https://localhost:8080/",
          "height": 0
        }
      },
      "source": [
        "for i in categorical_variables:\n",
        "    print(\"This is the variable: \",i)\n",
        "    print(churn[i].value_counts())\n",
        "    churn[i].value_counts().plot.bar()\n",
        "    plt.show()\n",
        "    print(\"*\"*100)\n",
        "    "
      ],
      "execution_count": 169,
      "outputs": [
        {
          "output_type": "stream",
          "text": [
            "This is the variable:  Geography\n",
            "France     5014\n",
            "Germany    2509\n",
            "Spain      2477\n",
            "Name: Geography, dtype: int64\n"
          ],
          "name": "stdout"
        },
        {
          "output_type": "display_data",
          "data": {
            "image/png": "[encoded data removed]",
            "text/plain": [
              "<Figure size 432x288 with 1 Axes>"
            ]
          },
          "metadata": {
            "tags": [],
            "needs_background": "light"
          }
        },
        {
          "output_type": "stream",
          "text": [
            "****************************************************************************************************\n",
            "This is the variable:  Gender\n",
            "Male      5457\n",
            "Female    4543\n",
            "Name: Gender, dtype: int64\n"
          ],
          "name": "stdout"
        },
        {
          "output_type": "display_data",
          "data": {
            "image/png": "[encoded data removed]",
            "text/plain": [
              "<Figure size 432x288 with 1 Axes>"
            ]
          },
          "metadata": {
            "tags": [],
            "needs_background": "light"
          }
        },
        {
          "output_type": "stream",
          "text": [
            "****************************************************************************************************\n",
            "This is the variable:  NumOfProducts\n",
            "1    5084\n",
            "2    4590\n",
            "3     266\n",
            "4      60\n",
            "Name: NumOfProducts, dtype: int64\n"
          ],
          "name": "stdout"
        },
        {
          "output_type": "display_data",
          "data": {
            "image/png": "[encoded data removed]",
            "text/plain": [
              "<Figure size 432x288 with 1 Axes>"
            ]
          },
          "metadata": {
            "tags": [],
            "needs_background": "light"
          }
        },
        {
          "output_type": "stream",
          "text": [
            "****************************************************************************************************\n",
            "This is the variable:  HasCrCard\n",
            "1    7055\n",
            "0    2945\n",
            "Name: HasCrCard, dtype: int64\n"
          ],
          "name": "stdout"
        },
        {
          "output_type": "display_data",
          "data": {
            "image/png": "[encoded data removed]",
            "text/plain": [
              "<Figure size 432x288 with 1 Axes>"
            ]
          },
          "metadata": {
            "tags": [],
            "needs_background": "light"
          }
        },
        {
          "output_type": "stream",
          "text": [
            "****************************************************************************************************\n",
            "This is the variable:  IsActiveMember\n",
            "1    5151\n",
            "0    4849\n",
            "Name: IsActiveMember, dtype: int64\n"
          ],
          "name": "stdout"
        },
        {
          "output_type": "display_data",
          "data": {
            "image/png": "[encoded data removed]",
            "text/plain": [
              "<Figure size 432x288 with 1 Axes>"
            ]
          },
          "metadata": {
            "tags": [],
            "needs_background": "light"
          }
        },
        {
          "output_type": "stream",
          "text": [
            "****************************************************************************************************\n",
            "This is the variable:  Exited\n",
            "0    7963\n",
            "1    2037\n",
            "Name: Exited, dtype: int64\n"
          ],
          "name": "stdout"
        },
        {
          "output_type": "display_data",
          "data": {
            "image/png": "[encoded data removed]",
            "text/plain": [
              "<Figure size 432x288 with 1 Axes>"
            ]
          },
          "metadata": {
            "tags": [],
            "needs_background": "light"
          }
        },
        {
          "output_type": "stream",
          "text": [
            "****************************************************************************************************\n",
            "This is the variable:  predictions_baseline\n",
            "0    7889\n",
            "1    2111\n",
            "Name: predictions_baseline, dtype: int64\n"
          ],
          "name": "stdout"
        },
        {
          "output_type": "display_data",
          "data": {
            "image/png": "[encoded data removed]",
            "text/plain": [
              "<Figure size 432x288 with 1 Axes>"
            ]
          },
          "metadata": {
            "tags": [],
            "needs_background": "light"
          }
        },
        {
          "output_type": "stream",
          "text": [
            "****************************************************************************************************\n"
          ],
          "name": "stdout"
        }
      ]
    },
    {
      "cell_type": "code",
      "metadata": {
        "ExecuteTime": {
          "end_time": "2021-08-07T12:10:47.867226Z",
          "start_time": "2021-08-07T12:10:47.856096Z"
        },
        "id": "s8qG7L9JlJYs",
        "outputId": "0c62a388-7a89-4185-9f75-490dba3f1b3e",
        "colab": {
          "base_uri": "https://localhost:8080/"
        }
      },
      "source": [
        "churn.groupby(by='Geography')['Balance'].mean()"
      ],
      "execution_count": 170,
      "outputs": [
        {
          "output_type": "execute_result",
          "data": {
            "text/plain": [
              "Geography\n",
              "France      62092.636516\n",
              "Germany    119730.116134\n",
              "Spain       61818.147763\n",
              "Name: Balance, dtype: float64"
            ]
          },
          "metadata": {
            "tags": []
          },
          "execution_count": 170
        }
      ]
    },
    {
      "cell_type": "code",
      "metadata": {
        "ExecuteTime": {
          "end_time": "2021-08-07T12:10:55.349136Z",
          "start_time": "2021-08-07T12:10:55.341819Z"
        },
        "id": "mhpFiEBIlJYt",
        "outputId": "9583eb68-0e96-499f-ae1b-fb50d2042a61",
        "colab": {
          "base_uri": "https://localhost:8080/"
        }
      },
      "source": [
        "churn.groupby(by='Geography')['Balance'].median()"
      ],
      "execution_count": 171,
      "outputs": [
        {
          "output_type": "execute_result",
          "data": {
            "text/plain": [
              "Geography\n",
              "France      62153.50\n",
              "Germany    119703.10\n",
              "Spain       61710.44\n",
              "Name: Balance, dtype: float64"
            ]
          },
          "metadata": {
            "tags": []
          },
          "execution_count": 171
        }
      ]
    },
    {
      "cell_type": "code",
      "metadata": {
        "ExecuteTime": {
          "end_time": "2021-08-07T12:11:19.512576Z",
          "start_time": "2021-08-07T12:11:19.481098Z"
        },
        "id": "dSom-LO0lJYt",
        "outputId": "962fc145-a8ab-4962-ef1a-69c5e7e917ae",
        "colab": {
          "base_uri": "https://localhost:8080/",
          "height": 0
        }
      },
      "source": [
        "churn.groupby(by='Geography')['Balance'].agg(['min',\"max\",\"mean\",\"median\"])"
      ],
      "execution_count": 172,
      "outputs": [
        {
          "output_type": "execute_result",
          "data": {
            "text/html": [
              "<div>\n",
              "<style scoped>\n",
              "    .dataframe tbody tr th:only-of-type {\n",
              "        vertical-align: middle;\n",
              "    }\n",
              "\n",
              "    .dataframe tbody tr th {\n",
              "        vertical-align: top;\n",
              "    }\n",
              "\n",
              "    .dataframe thead th {\n",
              "        text-align: right;\n",
              "    }\n",
              "</style>\n",
              "<table border=\"1\" class=\"dataframe\">\n",
              "  <thead>\n",
              "    <tr style=\"text-align: right;\">\n",
              "      <th></th>\n",
              "      <th>min</th>\n",
              "      <th>max</th>\n",
              "      <th>mean</th>\n",
              "      <th>median</th>\n",
              "    </tr>\n",
              "    <tr>\n",
              "      <th>Geography</th>\n",
              "      <th></th>\n",
              "      <th></th>\n",
              "      <th></th>\n",
              "      <th></th>\n",
              "    </tr>\n",
              "  </thead>\n",
              "  <tbody>\n",
              "    <tr>\n",
              "      <th>France</th>\n",
              "      <td>0.00</td>\n",
              "      <td>238387.56</td>\n",
              "      <td>62092.636516</td>\n",
              "      <td>62153.50</td>\n",
              "    </tr>\n",
              "    <tr>\n",
              "      <th>Germany</th>\n",
              "      <td>27288.43</td>\n",
              "      <td>214346.96</td>\n",
              "      <td>119730.116134</td>\n",
              "      <td>119703.10</td>\n",
              "    </tr>\n",
              "    <tr>\n",
              "      <th>Spain</th>\n",
              "      <td>0.00</td>\n",
              "      <td>250898.09</td>\n",
              "      <td>61818.147763</td>\n",
              "      <td>61710.44</td>\n",
              "    </tr>\n",
              "  </tbody>\n",
              "</table>\n",
              "</div>"
            ],
            "text/plain": [
              "                min        max           mean     median\n",
              "Geography                                               \n",
              "France         0.00  238387.56   62092.636516   62153.50\n",
              "Germany    27288.43  214346.96  119730.116134  119703.10\n",
              "Spain          0.00  250898.09   61818.147763   61710.44"
            ]
          },
          "metadata": {
            "tags": []
          },
          "execution_count": 172
        }
      ]
    },
    {
      "cell_type": "code",
      "metadata": {
        "ExecuteTime": {
          "end_time": "2021-08-07T12:12:41.626963Z",
          "start_time": "2021-08-07T12:12:41.615610Z"
        },
        "id": "MMLVBDvFlJYt"
      },
      "source": [
        "numerical_variables.remove('RowNumber')\n",
        "numerical_variables.remove('CustomerId')"
      ],
      "execution_count": 173,
      "outputs": []
    },
    {
      "cell_type": "code",
      "metadata": {
        "ExecuteTime": {
          "end_time": "2021-08-07T12:12:53.830202Z",
          "start_time": "2021-08-07T12:12:53.815695Z"
        },
        "id": "0CzO-YpllJYt"
      },
      "source": [
        "categorical_variables.remove('predictions_baseline')"
      ],
      "execution_count": 174,
      "outputs": []
    },
    {
      "cell_type": "code",
      "metadata": {
        "ExecuteTime": {
          "end_time": "2021-08-07T12:13:41.708233Z",
          "start_time": "2021-08-07T12:13:41.577128Z"
        },
        "id": "p4ez-GOplJYt",
        "outputId": "ed68395a-5044-4108-e092-bd0f29302392",
        "colab": {
          "base_uri": "https://localhost:8080/"
        }
      },
      "source": [
        "for i in numerical_variables:\n",
        "    print(\"---\"*30)\n",
        "    print(\"NUMERICAL is \",i)\n",
        "    print(\"---\"*30)\n",
        "    for j in categorical_variables:\n",
        "        \n",
        "        print(\"CATEGORICAL is \",j)\n",
        "        print(churn.groupby(by=j)[i].agg(['min',\"max\",\"mean\",\"median\"]))\n",
        "        print(\"*\"*50)"
      ],
      "execution_count": 175,
      "outputs": [
        {
          "output_type": "stream",
          "text": [
            "------------------------------------------------------------------------------------------\n",
            "NUMERICAL is  EstimatedSalary\n",
            "------------------------------------------------------------------------------------------\n",
            "CATEGORICAL is  Geography\n",
            "              min        max           mean     median\n",
            "Geography                                             \n",
            "France      90.07  199929.17   99899.180814   99132.31\n",
            "Germany     11.58  199970.74  101113.435102  102397.22\n",
            "Spain      417.41  199992.48   99440.572281   99984.86\n",
            "**************************************************\n",
            "CATEGORICAL is  Gender\n",
            "          min        max           mean     median\n",
            "Gender                                            \n",
            "Female  91.75  199992.48  100601.541382  101905.34\n",
            "Male    11.58  199953.33   99664.576931   98060.51\n",
            "**************************************************\n",
            "CATEGORICAL is  NumOfProducts\n",
            "                   min        max           mean      median\n",
            "NumOfProducts                                               \n",
            "1                11.58  199970.74   99487.256851   99226.830\n",
            "2                90.07  199992.48  100452.012821  100738.855\n",
            "3              3440.47  199357.24  104318.130564  101046.885\n",
            "4              5669.31  198874.52  104763.723333  112163.105\n",
            "**************************************************\n",
            "CATEGORICAL is  HasCrCard\n",
            "             min        max           mean     median\n",
            "HasCrCard                                            \n",
            "0          90.07  199992.48  100974.397711  101617.43\n",
            "1          11.58  199970.74   99721.161949   99398.36\n",
            "**************************************************\n",
            "CATEGORICAL is  IsActiveMember\n",
            "                  min        max           mean     median\n",
            "IsActiveMember                                            \n",
            "0               91.75  199992.48  100767.203854  100686.11\n",
            "1               11.58  199953.33   99452.965894   99505.75\n",
            "**************************************************\n",
            "CATEGORICAL is  Exited\n",
            "          min        max           mean     median\n",
            "Exited                                            \n",
            "0       90.07  199992.48   99738.391772   99645.04\n",
            "1       11.58  199808.10  101465.677531  102460.84\n",
            "**************************************************\n",
            "------------------------------------------------------------------------------------------\n",
            "NUMERICAL is  Balance\n",
            "------------------------------------------------------------------------------------------\n",
            "CATEGORICAL is  Geography\n",
            "                min        max           mean     median\n",
            "Geography                                               \n",
            "France         0.00  238387.56   62092.636516   62153.50\n",
            "Germany    27288.43  214346.96  119730.116134  119703.10\n",
            "Spain          0.00  250898.09   61818.147763   61710.44\n",
            "**************************************************\n",
            "CATEGORICAL is  Gender\n",
            "        min        max          mean    median\n",
            "Gender                                        \n",
            "Female  0.0  238387.56  75659.369139  96147.55\n",
            "Male    0.0  250898.09  77173.974506  98064.97\n",
            "**************************************************\n",
            "CATEGORICAL is  NumOfProducts\n",
            "               min        max          mean      median\n",
            "NumOfProducts                                          \n",
            "1              0.0  238387.56  98551.870614  111886.035\n",
            "2              0.0  214346.96  51879.145813       0.000\n",
            "3              0.0  250898.09  75458.328195   95973.935\n",
            "4              0.0  195238.29  93733.135000  116808.195\n",
            "**************************************************\n",
            "CATEGORICAL is  HasCrCard\n",
            "           min        max          mean    median\n",
            "HasCrCard                                        \n",
            "0          0.0  250898.09  77920.787552  97990.49\n",
            "1          0.0  221532.80  75886.913330  96877.21\n",
            "**************************************************\n",
            "CATEGORICAL is  IsActiveMember\n",
            "                min        max          mean    median\n",
            "IsActiveMember                                        \n",
            "0               0.0  222267.63  77134.376863  98263.46\n",
            "1               0.0  250898.09  75875.422145  96166.88\n",
            "**************************************************\n",
            "CATEGORICAL is  Exited\n",
            "        min        max          mean     median\n",
            "Exited                                         \n",
            "0       0.0  221532.80  72745.296779   92072.68\n",
            "1       0.0  250898.09  91108.539337  109349.29\n",
            "**************************************************\n",
            "------------------------------------------------------------------------------------------\n",
            "NUMERICAL is  CreditScore\n",
            "------------------------------------------------------------------------------------------\n",
            "CATEGORICAL is  Geography\n",
            "           min  max        mean  median\n",
            "Geography                              \n",
            "France     350  850  649.668329     653\n",
            "Germany    350  850  651.453567     651\n",
            "Spain      350  850  651.333872     651\n",
            "**************************************************\n",
            "CATEGORICAL is  Gender\n",
            "        min  max        mean  median\n",
            "Gender                              \n",
            "Female  350  850  650.831389     652\n",
            "Male    350  850  650.276892     651\n",
            "**************************************************\n",
            "CATEGORICAL is  NumOfProducts\n",
            "               min  max        mean  median\n",
            "NumOfProducts                              \n",
            "1              350  850  649.120968     651\n",
            "2              350  850  652.188671     653\n",
            "3              358  850  648.105263     650\n",
            "4              376  850  653.583333     643\n",
            "**************************************************\n",
            "CATEGORICAL is  HasCrCard\n",
            "           min  max        mean  median\n",
            "HasCrCard                              \n",
            "0          350  850  651.345331     654\n",
            "1          350  850  650.187952     651\n",
            "**************************************************\n",
            "CATEGORICAL is  IsActiveMember\n",
            "                min  max        mean  median\n",
            "IsActiveMember                              \n",
            "0               350  850  647.973603     650\n",
            "1               350  850  652.934188     655\n",
            "**************************************************\n",
            "CATEGORICAL is  Exited\n",
            "        min  max        mean  median\n",
            "Exited                              \n",
            "0       405  850  651.853196     653\n",
            "1       350  850  645.351497     646\n",
            "**************************************************\n",
            "------------------------------------------------------------------------------------------\n",
            "NUMERICAL is  Age\n",
            "------------------------------------------------------------------------------------------\n",
            "CATEGORICAL is  Geography\n",
            "           min  max       mean  median\n",
            "Geography                             \n",
            "France      18   92  38.511767      37\n",
            "Germany     18   84  39.771622      38\n",
            "Spain       18   88  38.890997      37\n",
            "**************************************************\n",
            "CATEGORICAL is  Gender\n",
            "        min  max       mean  median\n",
            "Gender                             \n",
            "Female   18   85  39.238389      38\n",
            "Male     18   92  38.658237      37\n",
            "**************************************************\n",
            "CATEGORICAL is  NumOfProducts\n",
            "               min  max       mean  median\n",
            "NumOfProducts                             \n",
            "1               18   92  39.673092      38\n",
            "2               18   92  37.753595      36\n",
            "3               21   77  43.195489      42\n",
            "4               29   68  45.683333      45\n",
            "**************************************************\n",
            "CATEGORICAL is  HasCrCard\n",
            "           min  max       mean  median\n",
            "HasCrCard                             \n",
            "0           18   92  39.112054      38\n",
            "1           18   92  38.842381      37\n",
            "**************************************************\n",
            "CATEGORICAL is  IsActiveMember\n",
            "                min  max       mean  median\n",
            "IsActiveMember                             \n",
            "0                18   84  37.997938      37\n",
            "1                18   92  39.791497      37\n",
            "**************************************************\n",
            "CATEGORICAL is  Exited\n",
            "        min  max       mean  median\n",
            "Exited                             \n",
            "0        18   92  37.408389      36\n",
            "1        18   84  44.837997      45\n",
            "**************************************************\n",
            "------------------------------------------------------------------------------------------\n",
            "NUMERICAL is  Tenure\n",
            "------------------------------------------------------------------------------------------\n",
            "CATEGORICAL is  Geography\n",
            "           min  max      mean  median\n",
            "Geography                            \n",
            "France       0   10  5.004587       5\n",
            "Germany      0   10  5.009964       5\n",
            "Spain        0   10  5.032297       5\n",
            "**************************************************\n",
            "CATEGORICAL is  Gender\n",
            "        min  max      mean  median\n",
            "Gender                            \n",
            "Female    0   10  4.966102       5\n",
            "Male      0   10  5.051677       5\n",
            "**************************************************\n",
            "CATEGORICAL is  NumOfProducts\n",
            "               min  max      mean  median\n",
            "NumOfProducts                            \n",
            "1                0   10  4.974626       5\n",
            "2                0   10  5.051852       5\n",
            "3                0   10  5.003759       5\n",
            "4                1   10  5.300000       5\n",
            "**************************************************\n",
            "CATEGORICAL is  HasCrCard\n",
            "           min  max      mean  median\n",
            "HasCrCard                            \n",
            "0            0   10  4.911715       5\n",
            "1            0   10  5.054996       5\n",
            "**************************************************\n",
            "CATEGORICAL is  IsActiveMember\n",
            "                min  max      mean  median\n",
            "IsActiveMember                            \n",
            "0                 0   10  5.097340       5\n",
            "1                 0   10  4.933217       5\n",
            "**************************************************\n",
            "CATEGORICAL is  Exited\n",
            "        min  max      mean  median\n",
            "Exited                            \n",
            "0         0   10  5.033279       5\n",
            "1         0   10  4.932744       5\n",
            "**************************************************\n"
          ],
          "name": "stdout"
        }
      ]
    },
    {
      "cell_type": "code",
      "metadata": {
        "ExecuteTime": {
          "end_time": "2021-08-07T12:21:52.812758Z",
          "start_time": "2021-08-07T12:21:52.805631Z"
        },
        "id": "FyMlWT36lJYu",
        "outputId": "900a7f6b-c717-4eba-e975-44ea74513974",
        "colab": {
          "base_uri": "https://localhost:8080/"
        }
      },
      "source": [
        "churn['CustomerId'].nunique()"
      ],
      "execution_count": 176,
      "outputs": [
        {
          "output_type": "execute_result",
          "data": {
            "text/plain": [
              "10000"
            ]
          },
          "metadata": {
            "tags": []
          },
          "execution_count": 176
        }
      ]
    },
    {
      "cell_type": "code",
      "metadata": {
        "ExecuteTime": {
          "end_time": "2021-08-07T12:23:26.653564Z",
          "start_time": "2021-08-07T12:23:26.642263Z"
        },
        "id": "0kN2V7yalJYu"
      },
      "source": [
        "num2_churn=churn[churn['NumOfProducts']==2]"
      ],
      "execution_count": 177,
      "outputs": []
    },
    {
      "cell_type": "code",
      "metadata": {
        "ExecuteTime": {
          "end_time": "2021-08-07T12:23:46.437807Z",
          "start_time": "2021-08-07T12:23:46.430166Z"
        },
        "id": "hYZzrBJWlJYu",
        "outputId": "d26633d7-5674-475d-b8c0-0926b598b3b9",
        "colab": {
          "base_uri": "https://localhost:8080/"
        }
      },
      "source": [
        "num2_churn['Exited'].value_counts(normalize=True)"
      ],
      "execution_count": 178,
      "outputs": [
        {
          "output_type": "execute_result",
          "data": {
            "text/plain": [
              "0    0.924183\n",
              "1    0.075817\n",
              "Name: Exited, dtype: float64"
            ]
          },
          "metadata": {
            "tags": []
          },
          "execution_count": 178
        }
      ]
    },
    {
      "cell_type": "code",
      "metadata": {
        "ExecuteTime": {
          "end_time": "2021-08-07T12:17:06.961713Z",
          "start_time": "2021-08-07T12:17:06.936323Z"
        },
        "id": "ShTrv-lPlJYu",
        "outputId": "5fb51598-a54c-448a-a2c3-c26a7e253f33",
        "colab": {
          "base_uri": "https://localhost:8080/",
          "height": 0
        }
      },
      "source": [
        "churn[churn['Geography']=='Germany'].sort_values(by='EstimatedSalary')"
      ],
      "execution_count": 179,
      "outputs": [
        {
          "output_type": "execute_result",
          "data": {
            "text/html": [
              "<div>\n",
              "<style scoped>\n",
              "    .dataframe tbody tr th:only-of-type {\n",
              "        vertical-align: middle;\n",
              "    }\n",
              "\n",
              "    .dataframe tbody tr th {\n",
              "        vertical-align: top;\n",
              "    }\n",
              "\n",
              "    .dataframe thead th {\n",
              "        text-align: right;\n",
              "    }\n",
              "</style>\n",
              "<table border=\"1\" class=\"dataframe\">\n",
              "  <thead>\n",
              "    <tr style=\"text-align: right;\">\n",
              "      <th></th>\n",
              "      <th>RowNumber</th>\n",
              "      <th>CustomerId</th>\n",
              "      <th>Surname</th>\n",
              "      <th>CreditScore</th>\n",
              "      <th>Geography</th>\n",
              "      <th>Gender</th>\n",
              "      <th>Age</th>\n",
              "      <th>Tenure</th>\n",
              "      <th>Balance</th>\n",
              "      <th>NumOfProducts</th>\n",
              "      <th>HasCrCard</th>\n",
              "      <th>IsActiveMember</th>\n",
              "      <th>EstimatedSalary</th>\n",
              "      <th>Exited</th>\n",
              "      <th>predictions_baseline</th>\n",
              "    </tr>\n",
              "  </thead>\n",
              "  <tbody>\n",
              "    <tr>\n",
              "      <th>2362</th>\n",
              "      <td>2363</td>\n",
              "      <td>15791053</td>\n",
              "      <td>Lucciano</td>\n",
              "      <td>709</td>\n",
              "      <td>Germany</td>\n",
              "      <td>Male</td>\n",
              "      <td>45</td>\n",
              "      <td>4</td>\n",
              "      <td>122917.71</td>\n",
              "      <td>1</td>\n",
              "      <td>1</td>\n",
              "      <td>1</td>\n",
              "      <td>11.58</td>\n",
              "      <td>1</td>\n",
              "      <td>0</td>\n",
              "    </tr>\n",
              "    <tr>\n",
              "      <th>9010</th>\n",
              "      <td>9011</td>\n",
              "      <td>15786463</td>\n",
              "      <td>Hsing</td>\n",
              "      <td>645</td>\n",
              "      <td>Germany</td>\n",
              "      <td>Female</td>\n",
              "      <td>59</td>\n",
              "      <td>8</td>\n",
              "      <td>121669.93</td>\n",
              "      <td>2</td>\n",
              "      <td>0</td>\n",
              "      <td>0</td>\n",
              "      <td>91.75</td>\n",
              "      <td>1</td>\n",
              "      <td>1</td>\n",
              "    </tr>\n",
              "    <tr>\n",
              "      <th>1462</th>\n",
              "      <td>1463</td>\n",
              "      <td>15566211</td>\n",
              "      <td>Hsu</td>\n",
              "      <td>616</td>\n",
              "      <td>Germany</td>\n",
              "      <td>Female</td>\n",
              "      <td>41</td>\n",
              "      <td>1</td>\n",
              "      <td>103560.57</td>\n",
              "      <td>1</td>\n",
              "      <td>1</td>\n",
              "      <td>0</td>\n",
              "      <td>236.45</td>\n",
              "      <td>1</td>\n",
              "      <td>0</td>\n",
              "    </tr>\n",
              "    <tr>\n",
              "      <th>2046</th>\n",
              "      <td>2047</td>\n",
              "      <td>15733429</td>\n",
              "      <td>Chou</td>\n",
              "      <td>520</td>\n",
              "      <td>Germany</td>\n",
              "      <td>Male</td>\n",
              "      <td>34</td>\n",
              "      <td>8</td>\n",
              "      <td>120018.86</td>\n",
              "      <td>2</td>\n",
              "      <td>1</td>\n",
              "      <td>1</td>\n",
              "      <td>343.38</td>\n",
              "      <td>0</td>\n",
              "      <td>0</td>\n",
              "    </tr>\n",
              "    <tr>\n",
              "      <th>925</th>\n",
              "      <td>926</td>\n",
              "      <td>15636731</td>\n",
              "      <td>Ts'ai</td>\n",
              "      <td>714</td>\n",
              "      <td>Germany</td>\n",
              "      <td>Female</td>\n",
              "      <td>36</td>\n",
              "      <td>1</td>\n",
              "      <td>101609.01</td>\n",
              "      <td>2</td>\n",
              "      <td>1</td>\n",
              "      <td>1</td>\n",
              "      <td>447.73</td>\n",
              "      <td>0</td>\n",
              "      <td>0</td>\n",
              "    </tr>\n",
              "    <tr>\n",
              "      <th>...</th>\n",
              "      <td>...</td>\n",
              "      <td>...</td>\n",
              "      <td>...</td>\n",
              "      <td>...</td>\n",
              "      <td>...</td>\n",
              "      <td>...</td>\n",
              "      <td>...</td>\n",
              "      <td>...</td>\n",
              "      <td>...</td>\n",
              "      <td>...</td>\n",
              "      <td>...</td>\n",
              "      <td>...</td>\n",
              "      <td>...</td>\n",
              "      <td>...</td>\n",
              "      <td>...</td>\n",
              "    </tr>\n",
              "    <tr>\n",
              "      <th>118</th>\n",
              "      <td>119</td>\n",
              "      <td>15661670</td>\n",
              "      <td>Chidozie</td>\n",
              "      <td>524</td>\n",
              "      <td>Germany</td>\n",
              "      <td>Female</td>\n",
              "      <td>31</td>\n",
              "      <td>8</td>\n",
              "      <td>107818.63</td>\n",
              "      <td>1</td>\n",
              "      <td>1</td>\n",
              "      <td>0</td>\n",
              "      <td>199725.39</td>\n",
              "      <td>1</td>\n",
              "      <td>0</td>\n",
              "    </tr>\n",
              "    <tr>\n",
              "      <th>1986</th>\n",
              "      <td>1987</td>\n",
              "      <td>15772601</td>\n",
              "      <td>Lu</td>\n",
              "      <td>845</td>\n",
              "      <td>Germany</td>\n",
              "      <td>Female</td>\n",
              "      <td>41</td>\n",
              "      <td>2</td>\n",
              "      <td>81733.74</td>\n",
              "      <td>2</td>\n",
              "      <td>0</td>\n",
              "      <td>0</td>\n",
              "      <td>199761.29</td>\n",
              "      <td>0</td>\n",
              "      <td>0</td>\n",
              "    </tr>\n",
              "    <tr>\n",
              "      <th>6125</th>\n",
              "      <td>6126</td>\n",
              "      <td>15687913</td>\n",
              "      <td>Mai</td>\n",
              "      <td>501</td>\n",
              "      <td>Germany</td>\n",
              "      <td>Female</td>\n",
              "      <td>34</td>\n",
              "      <td>7</td>\n",
              "      <td>93244.42</td>\n",
              "      <td>1</td>\n",
              "      <td>0</td>\n",
              "      <td>1</td>\n",
              "      <td>199805.63</td>\n",
              "      <td>0</td>\n",
              "      <td>0</td>\n",
              "    </tr>\n",
              "    <tr>\n",
              "      <th>8088</th>\n",
              "      <td>8089</td>\n",
              "      <td>15815656</td>\n",
              "      <td>Hopkins</td>\n",
              "      <td>541</td>\n",
              "      <td>Germany</td>\n",
              "      <td>Female</td>\n",
              "      <td>39</td>\n",
              "      <td>9</td>\n",
              "      <td>100116.67</td>\n",
              "      <td>1</td>\n",
              "      <td>1</td>\n",
              "      <td>1</td>\n",
              "      <td>199808.10</td>\n",
              "      <td>1</td>\n",
              "      <td>0</td>\n",
              "    </tr>\n",
              "    <tr>\n",
              "      <th>3580</th>\n",
              "      <td>3581</td>\n",
              "      <td>15634359</td>\n",
              "      <td>Dyer</td>\n",
              "      <td>639</td>\n",
              "      <td>Germany</td>\n",
              "      <td>Female</td>\n",
              "      <td>41</td>\n",
              "      <td>5</td>\n",
              "      <td>98635.77</td>\n",
              "      <td>1</td>\n",
              "      <td>1</td>\n",
              "      <td>0</td>\n",
              "      <td>199970.74</td>\n",
              "      <td>0</td>\n",
              "      <td>0</td>\n",
              "    </tr>\n",
              "  </tbody>\n",
              "</table>\n",
              "<p>2509 rows × 15 columns</p>\n",
              "</div>"
            ],
            "text/plain": [
              "      RowNumber  CustomerId  ... Exited  predictions_baseline\n",
              "2362       2363    15791053  ...      1                     0\n",
              "9010       9011    15786463  ...      1                     1\n",
              "1462       1463    15566211  ...      1                     0\n",
              "2046       2047    15733429  ...      0                     0\n",
              "925         926    15636731  ...      0                     0\n",
              "...         ...         ...  ...    ...                   ...\n",
              "118         119    15661670  ...      1                     0\n",
              "1986       1987    15772601  ...      0                     0\n",
              "6125       6126    15687913  ...      0                     0\n",
              "8088       8089    15815656  ...      1                     0\n",
              "3580       3581    15634359  ...      0                     0\n",
              "\n",
              "[2509 rows x 15 columns]"
            ]
          },
          "metadata": {
            "tags": []
          },
          "execution_count": 179
        }
      ]
    },
    {
      "cell_type": "code",
      "metadata": {
        "ExecuteTime": {
          "end_time": "2021-05-23T08:48:49.000308Z",
          "start_time": "2021-05-23T08:48:48.971503Z"
        },
        "id": "KcdxFn_glJYu",
        "outputId": "5e7d7754-8147-45bb-a87f-6fd1fa0a4d60",
        "colab": {
          "base_uri": "https://localhost:8080/",
          "height": 0
        }
      },
      "source": [
        "churn[churn['Age']>90]"
      ],
      "execution_count": 180,
      "outputs": [
        {
          "output_type": "execute_result",
          "data": {
            "text/html": [
              "<div>\n",
              "<style scoped>\n",
              "    .dataframe tbody tr th:only-of-type {\n",
              "        vertical-align: middle;\n",
              "    }\n",
              "\n",
              "    .dataframe tbody tr th {\n",
              "        vertical-align: top;\n",
              "    }\n",
              "\n",
              "    .dataframe thead th {\n",
              "        text-align: right;\n",
              "    }\n",
              "</style>\n",
              "<table border=\"1\" class=\"dataframe\">\n",
              "  <thead>\n",
              "    <tr style=\"text-align: right;\">\n",
              "      <th></th>\n",
              "      <th>RowNumber</th>\n",
              "      <th>CustomerId</th>\n",
              "      <th>Surname</th>\n",
              "      <th>CreditScore</th>\n",
              "      <th>Geography</th>\n",
              "      <th>Gender</th>\n",
              "      <th>Age</th>\n",
              "      <th>Tenure</th>\n",
              "      <th>Balance</th>\n",
              "      <th>NumOfProducts</th>\n",
              "      <th>HasCrCard</th>\n",
              "      <th>IsActiveMember</th>\n",
              "      <th>EstimatedSalary</th>\n",
              "      <th>Exited</th>\n",
              "      <th>predictions_baseline</th>\n",
              "    </tr>\n",
              "  </thead>\n",
              "  <tbody>\n",
              "    <tr>\n",
              "      <th>6443</th>\n",
              "      <td>6444</td>\n",
              "      <td>15764927</td>\n",
              "      <td>Rogova</td>\n",
              "      <td>753</td>\n",
              "      <td>France</td>\n",
              "      <td>Male</td>\n",
              "      <td>92</td>\n",
              "      <td>3</td>\n",
              "      <td>121513.31</td>\n",
              "      <td>1</td>\n",
              "      <td>0</td>\n",
              "      <td>1</td>\n",
              "      <td>195563.99</td>\n",
              "      <td>0</td>\n",
              "      <td>1</td>\n",
              "    </tr>\n",
              "    <tr>\n",
              "      <th>6759</th>\n",
              "      <td>6760</td>\n",
              "      <td>15660878</td>\n",
              "      <td>T'ien</td>\n",
              "      <td>705</td>\n",
              "      <td>France</td>\n",
              "      <td>Male</td>\n",
              "      <td>92</td>\n",
              "      <td>1</td>\n",
              "      <td>126076.24</td>\n",
              "      <td>2</td>\n",
              "      <td>1</td>\n",
              "      <td>1</td>\n",
              "      <td>34436.83</td>\n",
              "      <td>0</td>\n",
              "      <td>1</td>\n",
              "    </tr>\n",
              "  </tbody>\n",
              "</table>\n",
              "</div>"
            ],
            "text/plain": [
              "      RowNumber  CustomerId  ... Exited  predictions_baseline\n",
              "6443       6444    15764927  ...      0                     1\n",
              "6759       6760    15660878  ...      0                     1\n",
              "\n",
              "[2 rows x 15 columns]"
            ]
          },
          "metadata": {
            "tags": []
          },
          "execution_count": 180
        }
      ]
    },
    {
      "cell_type": "code",
      "metadata": {
        "ExecuteTime": {
          "end_time": "2021-05-23T08:48:49.031998Z",
          "start_time": "2021-05-23T08:48:49.001782Z"
        },
        "id": "rtKMz94wlJYv",
        "outputId": "e2089914-8ae9-4920-f024-f098de20a01c",
        "colab": {
          "base_uri": "https://localhost:8080/"
        }
      },
      "source": [
        "churn['EstimatedSalary'].describe()"
      ],
      "execution_count": 181,
      "outputs": [
        {
          "output_type": "execute_result",
          "data": {
            "text/plain": [
              "count     10000.000000\n",
              "mean     100090.239881\n",
              "std       57510.492818\n",
              "min          11.580000\n",
              "25%       51002.110000\n",
              "50%      100193.915000\n",
              "75%      149388.247500\n",
              "max      199992.480000\n",
              "Name: EstimatedSalary, dtype: float64"
            ]
          },
          "metadata": {
            "tags": []
          },
          "execution_count": 181
        }
      ]
    },
    {
      "cell_type": "code",
      "metadata": {
        "ExecuteTime": {
          "end_time": "2021-05-23T08:48:49.047404Z",
          "start_time": "2021-05-23T08:48:49.034890Z"
        },
        "id": "xlwwmh5zlJYv",
        "outputId": "e9b8133b-e2b8-4333-de16-f7b1b41e964b",
        "colab": {
          "base_uri": "https://localhost:8080/"
        }
      },
      "source": [
        "churn[churn['Age']>80]['Exited'].value_counts(normalize=True)"
      ],
      "execution_count": 182,
      "outputs": [
        {
          "output_type": "execute_result",
          "data": {
            "text/plain": [
              "0    0.916667\n",
              "1    0.083333\n",
              "Name: Exited, dtype: float64"
            ]
          },
          "metadata": {
            "tags": []
          },
          "execution_count": 182
        }
      ]
    },
    {
      "cell_type": "code",
      "metadata": {
        "ExecuteTime": {
          "end_time": "2021-05-23T08:48:49.063568Z",
          "start_time": "2021-05-23T08:48:49.049607Z"
        },
        "id": "RGMAK_oxlJYv",
        "outputId": "2261bcf5-ce76-4efc-c946-af4a706142c3",
        "colab": {
          "base_uri": "https://localhost:8080/"
        }
      },
      "source": [
        "churn['Exited'].value_counts(normalize=True)"
      ],
      "execution_count": 183,
      "outputs": [
        {
          "output_type": "execute_result",
          "data": {
            "text/plain": [
              "0    0.7963\n",
              "1    0.2037\n",
              "Name: Exited, dtype: float64"
            ]
          },
          "metadata": {
            "tags": []
          },
          "execution_count": 183
        }
      ]
    },
    {
      "cell_type": "code",
      "metadata": {
        "ExecuteTime": {
          "end_time": "2021-05-23T08:48:49.094715Z",
          "start_time": "2021-05-23T08:48:49.066770Z"
        },
        "id": "ivkl0WE-lJYv",
        "outputId": "024262ec-5e40-409b-810a-a27dacb89f5b",
        "colab": {
          "base_uri": "https://localhost:8080/"
        }
      },
      "source": [
        "churn[churn['Age']>70]['Exited'].value_counts(normalize=True)"
      ],
      "execution_count": 184,
      "outputs": [
        {
          "output_type": "execute_result",
          "data": {
            "text/plain": [
              "0    0.917293\n",
              "1    0.082707\n",
              "Name: Exited, dtype: float64"
            ]
          },
          "metadata": {
            "tags": []
          },
          "execution_count": 184
        }
      ]
    },
    {
      "cell_type": "code",
      "metadata": {
        "ExecuteTime": {
          "end_time": "2021-05-23T08:48:49.110689Z",
          "start_time": "2021-05-23T08:48:49.096219Z"
        },
        "id": "78FPRbTDlJYw",
        "outputId": "0151b6f7-4993-4f3e-84dc-eadedfa37df5",
        "colab": {
          "base_uri": "https://localhost:8080/"
        }
      },
      "source": [
        "churn[churn['Age']<=70]['Exited'].value_counts(normalize=True)"
      ],
      "execution_count": 185,
      "outputs": [
        {
          "output_type": "execute_result",
          "data": {
            "text/plain": [
              "0    0.794669\n",
              "1    0.205331\n",
              "Name: Exited, dtype: float64"
            ]
          },
          "metadata": {
            "tags": []
          },
          "execution_count": 185
        }
      ]
    },
    {
      "cell_type": "code",
      "metadata": {
        "ExecuteTime": {
          "end_time": "2021-05-23T08:48:49.142098Z",
          "start_time": "2021-05-23T08:48:49.112954Z"
        },
        "id": "zB8LmUImlJYw"
      },
      "source": [
        "churn['senior']=churn['Age'].apply(lambda x: 1 if x>70 else 0)"
      ],
      "execution_count": 186,
      "outputs": []
    },
    {
      "cell_type": "code",
      "metadata": {
        "ExecuteTime": {
          "end_time": "2021-05-23T08:48:49.157553Z",
          "start_time": "2021-05-23T08:48:49.144499Z"
        },
        "id": "ipQ1GGDolJYw",
        "outputId": "2f4377d4-66d6-42ef-9924-5ddb7c4d6acd",
        "colab": {
          "base_uri": "https://localhost:8080/"
        }
      },
      "source": [
        "churn['senior'].value_counts()"
      ],
      "execution_count": 187,
      "outputs": [
        {
          "output_type": "execute_result",
          "data": {
            "text/plain": [
              "0    9867\n",
              "1     133\n",
              "Name: senior, dtype: int64"
            ]
          },
          "metadata": {
            "tags": []
          },
          "execution_count": 187
        }
      ]
    },
    {
      "cell_type": "code",
      "metadata": {
        "ExecuteTime": {
          "end_time": "2021-05-23T08:48:49.219601Z",
          "start_time": "2021-05-23T08:48:49.158718Z"
        },
        "id": "ZGyvci1blJYw",
        "outputId": "8ecded56-230a-46bc-b0fd-971a1936ab7e",
        "colab": {
          "base_uri": "https://localhost:8080/",
          "height": 0
        }
      },
      "source": [
        "pd.pivot_table(churn,index='Geography',values=['Age','Balance'],aggfunc=['median','mean'],)"
      ],
      "execution_count": 188,
      "outputs": [
        {
          "output_type": "execute_result",
          "data": {
            "text/html": [
              "<div>\n",
              "<style scoped>\n",
              "    .dataframe tbody tr th:only-of-type {\n",
              "        vertical-align: middle;\n",
              "    }\n",
              "\n",
              "    .dataframe tbody tr th {\n",
              "        vertical-align: top;\n",
              "    }\n",
              "\n",
              "    .dataframe thead tr th {\n",
              "        text-align: left;\n",
              "    }\n",
              "\n",
              "    .dataframe thead tr:last-of-type th {\n",
              "        text-align: right;\n",
              "    }\n",
              "</style>\n",
              "<table border=\"1\" class=\"dataframe\">\n",
              "  <thead>\n",
              "    <tr>\n",
              "      <th></th>\n",
              "      <th colspan=\"2\" halign=\"left\">median</th>\n",
              "      <th colspan=\"2\" halign=\"left\">mean</th>\n",
              "    </tr>\n",
              "    <tr>\n",
              "      <th></th>\n",
              "      <th>Age</th>\n",
              "      <th>Balance</th>\n",
              "      <th>Age</th>\n",
              "      <th>Balance</th>\n",
              "    </tr>\n",
              "    <tr>\n",
              "      <th>Geography</th>\n",
              "      <th></th>\n",
              "      <th></th>\n",
              "      <th></th>\n",
              "      <th></th>\n",
              "    </tr>\n",
              "  </thead>\n",
              "  <tbody>\n",
              "    <tr>\n",
              "      <th>France</th>\n",
              "      <td>37</td>\n",
              "      <td>62153.50</td>\n",
              "      <td>38.511767</td>\n",
              "      <td>62092.636516</td>\n",
              "    </tr>\n",
              "    <tr>\n",
              "      <th>Germany</th>\n",
              "      <td>38</td>\n",
              "      <td>119703.10</td>\n",
              "      <td>39.771622</td>\n",
              "      <td>119730.116134</td>\n",
              "    </tr>\n",
              "    <tr>\n",
              "      <th>Spain</th>\n",
              "      <td>37</td>\n",
              "      <td>61710.44</td>\n",
              "      <td>38.890997</td>\n",
              "      <td>61818.147763</td>\n",
              "    </tr>\n",
              "  </tbody>\n",
              "</table>\n",
              "</div>"
            ],
            "text/plain": [
              "          median                  mean               \n",
              "             Age    Balance        Age        Balance\n",
              "Geography                                            \n",
              "France        37   62153.50  38.511767   62092.636516\n",
              "Germany       38  119703.10  39.771622  119730.116134\n",
              "Spain         37   61710.44  38.890997   61818.147763"
            ]
          },
          "metadata": {
            "tags": []
          },
          "execution_count": 188
        }
      ]
    },
    {
      "cell_type": "code",
      "metadata": {
        "ExecuteTime": {
          "end_time": "2021-05-23T08:48:49.250919Z",
          "start_time": "2021-05-23T08:48:49.222404Z"
        },
        "id": "a9wc84ZtlJYw",
        "outputId": "ad07997c-18f7-4df9-f867-a1a7626ad635",
        "colab": {
          "base_uri": "https://localhost:8080/",
          "height": 0
        }
      },
      "source": [
        "round(churn.loc[:,numerical_variables].corr()*10)"
      ],
      "execution_count": 189,
      "outputs": [
        {
          "output_type": "execute_result",
          "data": {
            "text/html": [
              "<div>\n",
              "<style scoped>\n",
              "    .dataframe tbody tr th:only-of-type {\n",
              "        vertical-align: middle;\n",
              "    }\n",
              "\n",
              "    .dataframe tbody tr th {\n",
              "        vertical-align: top;\n",
              "    }\n",
              "\n",
              "    .dataframe thead th {\n",
              "        text-align: right;\n",
              "    }\n",
              "</style>\n",
              "<table border=\"1\" class=\"dataframe\">\n",
              "  <thead>\n",
              "    <tr style=\"text-align: right;\">\n",
              "      <th></th>\n",
              "      <th>EstimatedSalary</th>\n",
              "      <th>Balance</th>\n",
              "      <th>CreditScore</th>\n",
              "      <th>Age</th>\n",
              "      <th>Tenure</th>\n",
              "    </tr>\n",
              "  </thead>\n",
              "  <tbody>\n",
              "    <tr>\n",
              "      <th>EstimatedSalary</th>\n",
              "      <td>10.0</td>\n",
              "      <td>0.0</td>\n",
              "      <td>-0.0</td>\n",
              "      <td>-0.0</td>\n",
              "      <td>0.0</td>\n",
              "    </tr>\n",
              "    <tr>\n",
              "      <th>Balance</th>\n",
              "      <td>0.0</td>\n",
              "      <td>10.0</td>\n",
              "      <td>0.0</td>\n",
              "      <td>0.0</td>\n",
              "      <td>-0.0</td>\n",
              "    </tr>\n",
              "    <tr>\n",
              "      <th>CreditScore</th>\n",
              "      <td>-0.0</td>\n",
              "      <td>0.0</td>\n",
              "      <td>10.0</td>\n",
              "      <td>-0.0</td>\n",
              "      <td>0.0</td>\n",
              "    </tr>\n",
              "    <tr>\n",
              "      <th>Age</th>\n",
              "      <td>-0.0</td>\n",
              "      <td>0.0</td>\n",
              "      <td>-0.0</td>\n",
              "      <td>10.0</td>\n",
              "      <td>-0.0</td>\n",
              "    </tr>\n",
              "    <tr>\n",
              "      <th>Tenure</th>\n",
              "      <td>0.0</td>\n",
              "      <td>-0.0</td>\n",
              "      <td>0.0</td>\n",
              "      <td>-0.0</td>\n",
              "      <td>10.0</td>\n",
              "    </tr>\n",
              "  </tbody>\n",
              "</table>\n",
              "</div>"
            ],
            "text/plain": [
              "                 EstimatedSalary  Balance  CreditScore   Age  Tenure\n",
              "EstimatedSalary             10.0      0.0         -0.0  -0.0     0.0\n",
              "Balance                      0.0     10.0          0.0   0.0    -0.0\n",
              "CreditScore                 -0.0      0.0         10.0  -0.0     0.0\n",
              "Age                         -0.0      0.0         -0.0  10.0    -0.0\n",
              "Tenure                       0.0     -0.0          0.0  -0.0    10.0"
            ]
          },
          "metadata": {
            "tags": []
          },
          "execution_count": 189
        }
      ]
    },
    {
      "cell_type": "code",
      "metadata": {
        "ExecuteTime": {
          "end_time": "2021-05-23T08:49:06.589481Z",
          "start_time": "2021-05-23T08:48:49.252939Z"
        },
        "id": "Js_PoFD8lJYx"
      },
      "source": [
        "import seaborn as sns"
      ],
      "execution_count": 190,
      "outputs": []
    },
    {
      "cell_type": "code",
      "metadata": {
        "ExecuteTime": {
          "end_time": "2021-05-23T08:49:07.647902Z",
          "start_time": "2021-05-23T08:49:06.597386Z"
        },
        "id": "kRd1iMKilJYx",
        "outputId": "1e7e9b82-606b-4d53-ba3b-1a74eb30436f",
        "colab": {
          "base_uri": "https://localhost:8080/",
          "height": 0
        }
      },
      "source": [
        "plt.figure(figsize=(10,7))\n",
        "sns.heatmap(round(churn.loc[:,numerical_variables].corr()*10),annot=True)"
      ],
      "execution_count": 191,
      "outputs": [
        {
          "output_type": "execute_result",
          "data": {
            "text/plain": [
              "<matplotlib.axes._subplots.AxesSubplot at 0x7f39bec25ad0>"
            ]
          },
          "metadata": {
            "tags": []
          },
          "execution_count": 191
        },
        {
          "output_type": "display_data",
          "data": {
            "image/png": "[encoded data removed]",
            "text/plain": [
              "<Figure size 720x504 with 2 Axes>"
            ]
          },
          "metadata": {
            "tags": [],
            "needs_background": "light"
          }
        }
      ]
    },
    {
      "cell_type": "code",
      "metadata": {
        "ExecuteTime": {
          "end_time": "2021-05-23T08:49:10.025477Z",
          "start_time": "2021-05-23T08:49:07.649786Z"
        },
        "id": "DGZSb7qWlJYx",
        "outputId": "b0e9111a-d7d5-42ad-d38f-fad9a4681d53",
        "colab": {
          "base_uri": "https://localhost:8080/",
          "height": 0
        }
      },
      "source": [
        "plt.figure(figsize=(10,7))\n",
        "sns.heatmap(churn.corr(),annot=True)"
      ],
      "execution_count": 192,
      "outputs": [
        {
          "output_type": "execute_result",
          "data": {
            "text/plain": [
              "<matplotlib.axes._subplots.AxesSubplot at 0x7f39beb6f8d0>"
            ]
          },
          "metadata": {
            "tags": []
          },
          "execution_count": 192
        },
        {
          "output_type": "display_data",
          "data": {
            "image/png": "[encoded data removed]",
            "text/plain": [
              "<Figure size 720x504 with 2 Axes>"
            ]
          },
          "metadata": {
            "tags": [],
            "needs_background": "light"
          }
        }
      ]
    },
    {
      "cell_type": "code",
      "metadata": {
        "ExecuteTime": {
          "end_time": "2021-05-23T08:49:10.041404Z",
          "start_time": "2021-05-23T08:49:10.030390Z"
        },
        "id": "luvktUN2lJYx"
      },
      "source": [
        "# split train test in 0.2 and 0.8 with random_state as 20"
      ],
      "execution_count": 193,
      "outputs": []
    },
    {
      "cell_type": "code",
      "metadata": {
        "ExecuteTime": {
          "end_time": "2021-05-23T08:49:10.056507Z",
          "start_time": "2021-05-23T08:49:10.046619Z"
        },
        "id": "EqmAz5QDlJYx"
      },
      "source": [
        "# RF /DT"
      ],
      "execution_count": 194,
      "outputs": []
    },
    {
      "cell_type": "code",
      "metadata": {
        "ExecuteTime": {
          "end_time": "2021-05-23T08:49:10.072151Z",
          "start_time": "2021-05-23T08:49:10.061335Z"
        },
        "id": "80tfKC6ZlJYx"
      },
      "source": [
        "# print its accuracy on test set"
      ],
      "execution_count": 195,
      "outputs": []
    },
    {
      "cell_type": "markdown",
      "metadata": {
        "id": "Jw-ng2dflJYy"
      },
      "source": [
        "# Prepare the data for training"
      ]
    },
    {
      "cell_type": "code",
      "metadata": {
        "ExecuteTime": {
          "end_time": "2021-05-23T08:49:10.087959Z",
          "start_time": "2021-05-23T08:49:10.078997Z"
        },
        "id": "A0niBNW9lJYy"
      },
      "source": [
        "churn_original=churn.copy()"
      ],
      "execution_count": 196,
      "outputs": []
    },
    {
      "cell_type": "code",
      "metadata": {
        "ExecuteTime": {
          "end_time": "2021-05-23T08:49:10.119088Z",
          "start_time": "2021-05-23T08:49:10.089887Z"
        },
        "id": "iok5QjUWlJYy"
      },
      "source": [
        "churn['Gender']=churn['Gender'].map({'Male':0,'Female':1}).astype(int)\n",
        "churn['Geography']=churn['Geography'].map({'France':0,'Spain':1,'Germany':2}).astype(int)"
      ],
      "execution_count": 197,
      "outputs": []
    },
    {
      "cell_type": "code",
      "metadata": {
        "ExecuteTime": {
          "end_time": "2021-05-23T08:49:10.133847Z",
          "start_time": "2021-05-23T08:49:10.121143Z"
        },
        "id": "ju-PM6lHlJYy"
      },
      "source": [
        "churn.drop(['Surname','RowNumber'],axis=1,inplace=True)"
      ],
      "execution_count": 198,
      "outputs": []
    },
    {
      "cell_type": "code",
      "metadata": {
        "ExecuteTime": {
          "end_time": "2021-05-23T08:49:14.419165Z",
          "start_time": "2021-05-23T08:49:10.136596Z"
        },
        "id": "JcVW6Dz3lJYy"
      },
      "source": [
        "X=churn.drop(['Exited','senior','predictions_baseline'],axis=1)\n",
        "y=churn['Exited']\n",
        "\n",
        "from sklearn.model_selection import train_test_split\n",
        "X_train,X_test,y_train,y_test=train_test_split(X,y,test_size=0.2,random_state=20)"
      ],
      "execution_count": 199,
      "outputs": []
    },
    {
      "cell_type": "code",
      "metadata": {
        "ExecuteTime": {
          "end_time": "2021-05-23T08:49:14.450258Z",
          "start_time": "2021-05-23T08:49:14.422154Z"
        },
        "id": "7Xe0L8UYlJYy"
      },
      "source": [
        "from sklearn.preprocessing import StandardScaler\n",
        "sc=StandardScaler()\n",
        "X_train=sc.fit_transform(X_train)\n",
        "X_test=sc.transform(X_test)"
      ],
      "execution_count": 200,
      "outputs": []
    },
    {
      "cell_type": "code",
      "metadata": {
        "ExecuteTime": {
          "end_time": "2021-05-23T08:49:20.090201Z",
          "start_time": "2021-05-23T08:49:14.451760Z"
        },
        "id": "Jd66WH6alJYy"
      },
      "source": [
        "from sklearn.ensemble import RandomForestClassifier\n",
        "clf=RandomForestClassifier(n_estimators=10)\n",
        "\n",
        "#Train the model using the training sets y_pred=clf.predict(X_test)\n",
        "clf.fit(X_train,y_train)\n",
        "\n",
        "y_pred=clf.predict(X_test)"
      ],
      "execution_count": 201,
      "outputs": []
    },
    {
      "cell_type": "code",
      "metadata": {
        "ExecuteTime": {
          "end_time": "2021-05-23T08:49:20.105641Z",
          "start_time": "2021-05-23T08:49:20.093305Z"
        },
        "id": "nVQLcmU6lJYz",
        "outputId": "70709ff3-06e7-4b02-af7c-bea40809b4f6",
        "colab": {
          "base_uri": "https://localhost:8080/"
        }
      },
      "source": [
        "#Import scikit-learn metrics module for accuracy calculation\n",
        "from sklearn import metrics\n",
        "# Model Accuracy, how often is the classifier correct?\n",
        "print(\"Accuracy:\",metrics.accuracy_score(y_test, y_pred))"
      ],
      "execution_count": 202,
      "outputs": [
        {
          "output_type": "stream",
          "text": [
            "Accuracy: 0.8565\n"
          ],
          "name": "stdout"
        }
      ]
    },
    {
      "cell_type": "code",
      "metadata": {
        "ExecuteTime": {
          "end_time": "2021-05-23T08:50:15.656031Z",
          "start_time": "2021-05-23T08:50:15.619113Z"
        },
        "id": "mZcTHEbtlJYz"
      },
      "source": [
        "# clf=RandomForestClassifier(n_estimators=200)\n",
        "\n",
        "# #Train the model using the training sets y_pred=clf.predict(X_test)\n",
        "# clf.fit(X_train_sc,y_train)\n",
        "\n",
        "# y_pred_sc=clf.predict(X_test_sc)\n",
        "\n",
        "# #Import scikit-learn metrics module for accuracy calculation\n",
        "# from sklearn import metrics\n",
        "# # Model Accuracy, how often is the classifier correct?\n",
        "# print(\"Accuracy:\",metrics.accuracy_score(y_test, y_pred_sc))"
      ],
      "execution_count": 203,
      "outputs": []
    },
    {
      "cell_type": "code",
      "metadata": {
        "ExecuteTime": {
          "end_time": "2021-05-23T08:50:17.053163Z",
          "start_time": "2021-05-23T08:50:16.926714Z"
        },
        "id": "wbK7pUJElJYz",
        "outputId": "1794687f-ff2d-4e60-fc06-24360f828576",
        "colab": {
          "base_uri": "https://localhost:8080/"
        }
      },
      "source": [
        "from sklearn import metrics\n",
        "# Model Accuracy, how often is the classifier correct?\n",
        "print(\"Accuracy:\\n\",metrics.classification_report(y_test, y_pred))"
      ],
      "execution_count": 204,
      "outputs": [
        {
          "output_type": "stream",
          "text": [
            "Accuracy:\n",
            "               precision    recall  f1-score   support\n",
            "\n",
            "           0       0.88      0.96      0.92      1623\n",
            "           1       0.70      0.41      0.52       377\n",
            "\n",
            "    accuracy                           0.86      2000\n",
            "   macro avg       0.79      0.69      0.72      2000\n",
            "weighted avg       0.84      0.86      0.84      2000\n",
            "\n"
          ],
          "name": "stdout"
        }
      ]
    },
    {
      "cell_type": "code",
      "metadata": {
        "ExecuteTime": {
          "end_time": "2021-05-23T08:49:21.245928Z",
          "start_time": "2021-05-23T08:48:19.287Z"
        },
        "id": "r117ZPCYlJY0",
        "outputId": "9be36ffa-4e36-4c04-9725-30075a6dcc83",
        "colab": {
          "base_uri": "https://localhost:8080/"
        }
      },
      "source": [
        "X_train.shape, X_test.shape"
      ],
      "execution_count": 205,
      "outputs": [
        {
          "output_type": "execute_result",
          "data": {
            "text/plain": [
              "((8000, 11), (2000, 11))"
            ]
          },
          "metadata": {
            "tags": []
          },
          "execution_count": 205
        }
      ]
    },
    {
      "cell_type": "code",
      "metadata": {
        "ExecuteTime": {
          "end_time": "2021-05-23T08:49:21.247523Z",
          "start_time": "2021-05-23T08:48:19.290Z"
        },
        "id": "BgavozGflJY0",
        "outputId": "d678385e-dd9a-4b07-fa03-747b75b87fe1",
        "colab": {
          "base_uri": "https://localhost:8080/"
        }
      },
      "source": [
        "y_train.shape,y_test.shape"
      ],
      "execution_count": 206,
      "outputs": [
        {
          "output_type": "execute_result",
          "data": {
            "text/plain": [
              "((8000,), (2000,))"
            ]
          },
          "metadata": {
            "tags": []
          },
          "execution_count": 206
        }
      ]
    },
    {
      "cell_type": "code",
      "metadata": {
        "ExecuteTime": {
          "end_time": "2021-05-23T08:49:21.248953Z",
          "start_time": "2021-05-23T08:48:19.292Z"
        },
        "id": "P0W0Dr5plJY0"
      },
      "source": [
        "import keras"
      ],
      "execution_count": 207,
      "outputs": []
    },
    {
      "cell_type": "code",
      "metadata": {
        "ExecuteTime": {
          "end_time": "2021-05-23T08:49:21.250599Z",
          "start_time": "2021-05-23T08:48:19.294Z"
        },
        "id": "WoaCYc_jlJY0"
      },
      "source": [
        "from keras.models import Sequential\n"
      ],
      "execution_count": 208,
      "outputs": []
    },
    {
      "cell_type": "code",
      "metadata": {
        "ExecuteTime": {
          "end_time": "2021-05-23T08:49:21.252127Z",
          "start_time": "2021-05-23T08:48:19.297Z"
        },
        "id": "nC4hNZQllJY0"
      },
      "source": [
        "classifier=Sequential()"
      ],
      "execution_count": 209,
      "outputs": []
    },
    {
      "cell_type": "code",
      "metadata": {
        "ExecuteTime": {
          "end_time": "2021-05-23T08:49:21.252768Z",
          "start_time": "2021-05-23T08:48:19.300Z"
        },
        "id": "0EZIjNRflJY0"
      },
      "source": [
        "from keras.layers import Dense"
      ],
      "execution_count": 210,
      "outputs": []
    },
    {
      "cell_type": "code",
      "metadata": {
        "ExecuteTime": {
          "end_time": "2021-05-23T08:49:21.253797Z",
          "start_time": "2021-05-23T08:48:19.303Z"
        },
        "id": "czzpGW4XlJY0"
      },
      "source": [
        "#Input LAyer\n",
        "classifier.add(Dense(11,activation='relu',input_dim=11))\n",
        "\n",
        "#Hidden LAyers\n",
        "classifier.add(Dense(6,activation='relu'))\n",
        "classifier.add(Dense(6,activation='relu'))\n",
        "classifier.add(Dense(6,activation='relu'))\n",
        "classifier.add(Dense(6,activation='relu'))\n",
        "\n",
        "#Output LAyer\n",
        "classifier.add(Dense(1,activation='sigmoid'))\n",
        "\n"
      ],
      "execution_count": 211,
      "outputs": []
    },
    {
      "cell_type": "code",
      "metadata": {
        "ExecuteTime": {
          "end_time": "2021-05-23T08:49:21.256521Z",
          "start_time": "2021-05-23T08:48:19.305Z"
        },
        "id": "XgEFOQT2lJY1",
        "outputId": "2f645612-bd22-40ca-e1cf-1b8aadee03c8",
        "colab": {
          "base_uri": "https://localhost:8080/"
        }
      },
      "source": [
        "classifier.summary()"
      ],
      "execution_count": 212,
      "outputs": [
        {
          "output_type": "stream",
          "text": [
            "Model: \"sequential_6\"\n",
            "_________________________________________________________________\n",
            "Layer (type)                 Output Shape              Param #   \n",
            "=================================================================\n",
            "dense_42 (Dense)             (None, 11)                132       \n",
            "_________________________________________________________________\n",
            "dense_43 (Dense)             (None, 6)                 72        \n",
            "_________________________________________________________________\n",
            "dense_44 (Dense)             (None, 6)                 42        \n",
            "_________________________________________________________________\n",
            "dense_45 (Dense)             (None, 6)                 42        \n",
            "_________________________________________________________________\n",
            "dense_46 (Dense)             (None, 6)                 42        \n",
            "_________________________________________________________________\n",
            "dense_47 (Dense)             (None, 1)                 7         \n",
            "=================================================================\n",
            "Total params: 337\n",
            "Trainable params: 337\n",
            "Non-trainable params: 0\n",
            "_________________________________________________________________\n"
          ],
          "name": "stdout"
        }
      ]
    },
    {
      "cell_type": "code",
      "metadata": {
        "ExecuteTime": {
          "end_time": "2021-05-23T08:49:21.258150Z",
          "start_time": "2021-05-23T08:48:19.310Z"
        },
        "id": "7G9Ge_KwlJY1"
      },
      "source": [
        "classifier.compile(optimizer='SGD',loss='binary_crossentropy',metrics=['accuracy'])"
      ],
      "execution_count": 213,
      "outputs": []
    },
    {
      "cell_type": "code",
      "metadata": {
        "ExecuteTime": {
          "end_time": "2021-05-23T08:49:21.258648Z",
          "start_time": "2021-05-23T08:48:19.312Z"
        },
        "id": "6WlWHukDlJY1",
        "outputId": "82c38cbf-3536-4cf2-92dd-8cea19f8607c",
        "colab": {
          "base_uri": "https://localhost:8080/"
        }
      },
      "source": [
        "history=classifier.fit(X_train,y_train,epochs=10)"
      ],
      "execution_count": 214,
      "outputs": [
        {
          "output_type": "stream",
          "text": [
            "Epoch 1/10\n",
            "250/250 [==============================] - 1s 1ms/step - loss: 0.6608 - accuracy: 0.6438\n",
            "Epoch 2/10\n",
            "250/250 [==============================] - 0s 2ms/step - loss: 0.5501 - accuracy: 0.7915\n",
            "Epoch 3/10\n",
            "250/250 [==============================] - 0s 1ms/step - loss: 0.5237 - accuracy: 0.7876\n",
            "Epoch 4/10\n",
            "250/250 [==============================] - 0s 1ms/step - loss: 0.5111 - accuracy: 0.7879\n",
            "Epoch 5/10\n",
            "250/250 [==============================] - 0s 1ms/step - loss: 0.4974 - accuracy: 0.7954\n",
            "Epoch 6/10\n",
            "250/250 [==============================] - 0s 1ms/step - loss: 0.4798 - accuracy: 0.8017\n",
            "Epoch 7/10\n",
            "250/250 [==============================] - 0s 1ms/step - loss: 0.4847 - accuracy: 0.7957\n",
            "Epoch 8/10\n",
            "250/250 [==============================] - 0s 1ms/step - loss: 0.4726 - accuracy: 0.7938\n",
            "Epoch 9/10\n",
            "250/250 [==============================] - 0s 1ms/step - loss: 0.4518 - accuracy: 0.8080\n",
            "Epoch 10/10\n",
            "250/250 [==============================] - 0s 1ms/step - loss: 0.4391 - accuracy: 0.8111\n"
          ],
          "name": "stdout"
        }
      ]
    },
    {
      "cell_type": "code",
      "metadata": {
        "ExecuteTime": {
          "end_time": "2021-05-23T08:49:21.259653Z",
          "start_time": "2021-05-23T08:48:19.318Z"
        },
        "id": "It7e3gD1lJY1"
      },
      "source": [
        "#ffitting the model and training\n",
        "# history=classifier.fit(X_train,y_train,validation_split=0.3,batch_size=10,epochs=100)"
      ],
      "execution_count": 215,
      "outputs": []
    },
    {
      "cell_type": "code",
      "metadata": {
        "ExecuteTime": {
          "end_time": "2021-05-23T08:49:21.262897Z",
          "start_time": "2021-05-23T08:48:19.322Z"
        },
        "id": "dgpuZboGlJY1",
        "outputId": "ce327ab3-c27b-4418-d1d5-45129d162ca2",
        "colab": {
          "base_uri": "https://localhost:8080/",
          "height": 295
        }
      },
      "source": [
        "plt.plot(history.history['accuracy'])\n",
        "# plt.plot(history.history['val_accuracy'])\n",
        "plt.title('model accuracy')\n",
        "plt.ylabel('accuracy')\n",
        "plt.xlabel('epoch')\n",
        "plt.legend(['train', 'test'], loc='upper left')\n",
        "plt.show()"
      ],
      "execution_count": 217,
      "outputs": [
        {
          "output_type": "display_data",
          "data": {
            "image/png": "[encoded data removed]",
            "text/plain": [
              "<Figure size 432x288 with 1 Axes>"
            ]
          },
          "metadata": {
            "tags": [],
            "needs_background": "light"
          }
        }
      ]
    },
    {
      "cell_type": "code",
      "metadata": {
        "ExecuteTime": {
          "end_time": "2021-05-23T08:49:21.267144Z",
          "start_time": "2021-05-23T08:48:19.324Z"
        },
        "id": "sfuWgxl3lJY1"
      },
      "source": [
        "y_pred=classifier.predict(X_test)"
      ],
      "execution_count": 218,
      "outputs": []
    },
    {
      "cell_type": "code",
      "metadata": {
        "ExecuteTime": {
          "end_time": "2021-05-23T08:49:21.270326Z",
          "start_time": "2021-05-23T08:48:19.327Z"
        },
        "id": "cfn4lBHPlJY1"
      },
      "source": [
        "y_pred=(y_pred>0.5)"
      ],
      "execution_count": 219,
      "outputs": []
    },
    {
      "cell_type": "code",
      "metadata": {
        "ExecuteTime": {
          "end_time": "2021-05-23T08:49:21.273664Z",
          "start_time": "2021-05-23T08:48:19.331Z"
        },
        "id": "nrfPKBZElJY2",
        "outputId": "80bbf633-ed21-44e3-aff6-1f72273c2de2",
        "colab": {
          "base_uri": "https://localhost:8080/"
        }
      },
      "source": [
        "metrics.accuracy_score(y_test, y_pred)"
      ],
      "execution_count": 220,
      "outputs": [
        {
          "output_type": "execute_result",
          "data": {
            "text/plain": [
              "0.829"
            ]
          },
          "metadata": {
            "tags": []
          },
          "execution_count": 220
        }
      ]
    },
    {
      "cell_type": "code",
      "metadata": {
        "id": "FiuK9MdGlJY2"
      },
      "source": [
        "classifier=Sequential()\n",
        "\n",
        "#Input LAyer\n",
        "classifier.add(Dense(11,activation='relu',input_dim=11))\n",
        "\n",
        "#Hidden LAyers\n",
        "classifier.add(Dense(6,activation='relu'))\n",
        "classifier.add(Dense(6,activation='relu'))\n",
        "classifier.add(Dense(6,activation='relu'))\n",
        "classifier.add(Dense(6,activation='relu'))\n",
        "\n",
        "#Output LAyer\n",
        "classifier.add(Dense(2,activation='sigmoid'))\n",
        "\n",
        "# classifier.summary()\n",
        "classifier.compile(optimizer='SGD',loss='binary_crossentropy',metrics=['accuracy'])\n"
      ],
      "execution_count": 221,
      "outputs": []
    },
    {
      "cell_type": "code",
      "metadata": {
        "id": "iG4YuKxylT8g"
      },
      "source": [
        "import tensorflow as tf\n",
        "\n",
        "y_train = tf.one_hot(y_train, depth=2).numpy()\n",
        "y_test = tf.one_hot(y_test, depth=2).numpy()"
      ],
      "execution_count": 222,
      "outputs": []
    },
    {
      "cell_type": "code",
      "metadata": {
        "id": "wiYL4Av4k0vI",
        "outputId": "4af94fb0-3ed8-48e1-b8d7-ae51c364628c",
        "colab": {
          "base_uri": "https://localhost:8080/"
        }
      },
      "source": [
        "history=classifier.fit(X_train,y_train,validation_split=0.3, epochs=100)"
      ],
      "execution_count": 223,
      "outputs": [
        {
          "output_type": "stream",
          "text": [
            "Epoch 1/100\n",
            "175/175 [==============================] - 2s 4ms/step - loss: 0.6630 - accuracy: 0.7508 - val_loss: 0.5924 - val_accuracy: 0.7992\n",
            "Epoch 2/100\n",
            "175/175 [==============================] - 0s 2ms/step - loss: 0.5771 - accuracy: 0.7955 - val_loss: 0.5331 - val_accuracy: 0.7992\n",
            "Epoch 3/100\n",
            "175/175 [==============================] - 0s 2ms/step - loss: 0.5335 - accuracy: 0.7843 - val_loss: 0.4934 - val_accuracy: 0.7992\n",
            "Epoch 4/100\n",
            "175/175 [==============================] - 0s 2ms/step - loss: 0.4977 - accuracy: 0.7890 - val_loss: 0.4747 - val_accuracy: 0.7992\n",
            "Epoch 5/100\n",
            "175/175 [==============================] - 0s 2ms/step - loss: 0.4876 - accuracy: 0.7862 - val_loss: 0.4663 - val_accuracy: 0.7992\n",
            "Epoch 6/100\n",
            "175/175 [==============================] - 0s 2ms/step - loss: 0.4913 - accuracy: 0.7803 - val_loss: 0.4616 - val_accuracy: 0.7992\n",
            "Epoch 7/100\n",
            "175/175 [==============================] - 0s 2ms/step - loss: 0.4795 - accuracy: 0.7843 - val_loss: 0.4580 - val_accuracy: 0.7992\n",
            "Epoch 8/100\n",
            "175/175 [==============================] - 0s 2ms/step - loss: 0.4682 - accuracy: 0.7923 - val_loss: 0.4547 - val_accuracy: 0.7992\n",
            "Epoch 9/100\n",
            "175/175 [==============================] - 0s 2ms/step - loss: 0.4690 - accuracy: 0.7875 - val_loss: 0.4518 - val_accuracy: 0.7992\n",
            "Epoch 10/100\n",
            "175/175 [==============================] - 0s 2ms/step - loss: 0.4667 - accuracy: 0.7908 - val_loss: 0.4491 - val_accuracy: 0.7992\n",
            "Epoch 11/100\n",
            "175/175 [==============================] - 0s 2ms/step - loss: 0.4605 - accuracy: 0.7931 - val_loss: 0.4468 - val_accuracy: 0.7992\n",
            "Epoch 12/100\n",
            "175/175 [==============================] - 0s 2ms/step - loss: 0.4601 - accuracy: 0.7916 - val_loss: 0.4443 - val_accuracy: 0.7992\n",
            "Epoch 13/100\n",
            "175/175 [==============================] - 0s 2ms/step - loss: 0.4509 - accuracy: 0.7937 - val_loss: 0.4421 - val_accuracy: 0.7992\n",
            "Epoch 14/100\n",
            "175/175 [==============================] - 0s 2ms/step - loss: 0.4559 - accuracy: 0.7884 - val_loss: 0.4400 - val_accuracy: 0.7992\n",
            "Epoch 15/100\n",
            "175/175 [==============================] - 0s 2ms/step - loss: 0.4570 - accuracy: 0.7837 - val_loss: 0.4380 - val_accuracy: 0.7992\n",
            "Epoch 16/100\n",
            "175/175 [==============================] - 0s 3ms/step - loss: 0.4398 - accuracy: 0.7976 - val_loss: 0.4363 - val_accuracy: 0.7992\n",
            "Epoch 17/100\n",
            "175/175 [==============================] - 0s 3ms/step - loss: 0.4519 - accuracy: 0.7882 - val_loss: 0.4344 - val_accuracy: 0.7992\n",
            "Epoch 18/100\n",
            "175/175 [==============================] - 0s 2ms/step - loss: 0.4475 - accuracy: 0.7897 - val_loss: 0.4326 - val_accuracy: 0.7992\n",
            "Epoch 19/100\n",
            "175/175 [==============================] - 0s 2ms/step - loss: 0.4579 - accuracy: 0.7826 - val_loss: 0.4312 - val_accuracy: 0.7992\n",
            "Epoch 20/100\n",
            "175/175 [==============================] - 0s 2ms/step - loss: 0.4408 - accuracy: 0.7954 - val_loss: 0.4301 - val_accuracy: 0.7992\n",
            "Epoch 21/100\n",
            "175/175 [==============================] - 0s 2ms/step - loss: 0.4545 - accuracy: 0.7797 - val_loss: 0.4287 - val_accuracy: 0.7992\n",
            "Epoch 22/100\n",
            "175/175 [==============================] - 0s 3ms/step - loss: 0.4360 - accuracy: 0.7943 - val_loss: 0.4276 - val_accuracy: 0.7992\n",
            "Epoch 23/100\n",
            "175/175 [==============================] - 0s 2ms/step - loss: 0.4348 - accuracy: 0.7927 - val_loss: 0.4266 - val_accuracy: 0.7992\n",
            "Epoch 24/100\n",
            "175/175 [==============================] - 0s 3ms/step - loss: 0.4425 - accuracy: 0.7893 - val_loss: 0.4255 - val_accuracy: 0.7992\n",
            "Epoch 25/100\n",
            "175/175 [==============================] - 0s 2ms/step - loss: 0.4344 - accuracy: 0.7942 - val_loss: 0.4245 - val_accuracy: 0.7992\n",
            "Epoch 26/100\n",
            "175/175 [==============================] - 0s 3ms/step - loss: 0.4436 - accuracy: 0.7864 - val_loss: 0.4234 - val_accuracy: 0.7992\n",
            "Epoch 27/100\n",
            "175/175 [==============================] - 0s 3ms/step - loss: 0.4377 - accuracy: 0.7899 - val_loss: 0.4222 - val_accuracy: 0.7992\n",
            "Epoch 28/100\n",
            "175/175 [==============================] - 0s 2ms/step - loss: 0.4432 - accuracy: 0.7864 - val_loss: 0.4210 - val_accuracy: 0.7992\n",
            "Epoch 29/100\n",
            "175/175 [==============================] - 0s 2ms/step - loss: 0.4443 - accuracy: 0.7812 - val_loss: 0.4201 - val_accuracy: 0.7992\n",
            "Epoch 30/100\n",
            "175/175 [==============================] - 0s 2ms/step - loss: 0.4294 - accuracy: 0.7864 - val_loss: 0.4191 - val_accuracy: 0.7992\n",
            "Epoch 31/100\n",
            "175/175 [==============================] - 0s 2ms/step - loss: 0.4368 - accuracy: 0.7877 - val_loss: 0.4180 - val_accuracy: 0.7992\n",
            "Epoch 32/100\n",
            "175/175 [==============================] - 0s 2ms/step - loss: 0.4302 - accuracy: 0.7931 - val_loss: 0.4169 - val_accuracy: 0.7992\n",
            "Epoch 33/100\n",
            "175/175 [==============================] - 0s 2ms/step - loss: 0.4282 - accuracy: 0.7937 - val_loss: 0.4160 - val_accuracy: 0.7992\n",
            "Epoch 34/100\n",
            "175/175 [==============================] - 0s 2ms/step - loss: 0.4401 - accuracy: 0.7806 - val_loss: 0.4147 - val_accuracy: 0.7992\n",
            "Epoch 35/100\n",
            "175/175 [==============================] - 0s 2ms/step - loss: 0.4228 - accuracy: 0.7971 - val_loss: 0.4136 - val_accuracy: 0.7992\n",
            "Epoch 36/100\n",
            "175/175 [==============================] - 0s 2ms/step - loss: 0.4240 - accuracy: 0.7990 - val_loss: 0.4123 - val_accuracy: 0.7992\n",
            "Epoch 37/100\n",
            "175/175 [==============================] - 0s 2ms/step - loss: 0.4246 - accuracy: 0.7916 - val_loss: 0.4113 - val_accuracy: 0.7992\n",
            "Epoch 38/100\n",
            "175/175 [==============================] - 0s 2ms/step - loss: 0.4338 - accuracy: 0.7896 - val_loss: 0.4097 - val_accuracy: 0.8000\n",
            "Epoch 39/100\n",
            "175/175 [==============================] - 0s 2ms/step - loss: 0.4160 - accuracy: 0.7960 - val_loss: 0.4090 - val_accuracy: 0.8012\n",
            "Epoch 40/100\n",
            "175/175 [==============================] - 0s 3ms/step - loss: 0.4128 - accuracy: 0.7934 - val_loss: 0.4073 - val_accuracy: 0.8025\n",
            "Epoch 41/100\n",
            "175/175 [==============================] - 0s 3ms/step - loss: 0.4186 - accuracy: 0.7969 - val_loss: 0.4057 - val_accuracy: 0.8146\n",
            "Epoch 42/100\n",
            "175/175 [==============================] - 0s 2ms/step - loss: 0.4185 - accuracy: 0.7951 - val_loss: 0.4040 - val_accuracy: 0.8150\n",
            "Epoch 43/100\n",
            "175/175 [==============================] - 0s 2ms/step - loss: 0.4238 - accuracy: 0.8010 - val_loss: 0.4023 - val_accuracy: 0.8133\n",
            "Epoch 44/100\n",
            "175/175 [==============================] - 0s 2ms/step - loss: 0.4223 - accuracy: 0.8024 - val_loss: 0.4007 - val_accuracy: 0.8133\n",
            "Epoch 45/100\n",
            "175/175 [==============================] - 0s 2ms/step - loss: 0.4131 - accuracy: 0.8097 - val_loss: 0.3985 - val_accuracy: 0.8179\n",
            "Epoch 46/100\n",
            "175/175 [==============================] - 0s 2ms/step - loss: 0.4229 - accuracy: 0.7999 - val_loss: 0.3965 - val_accuracy: 0.8183\n",
            "Epoch 47/100\n",
            "175/175 [==============================] - 0s 2ms/step - loss: 0.4099 - accuracy: 0.8179 - val_loss: 0.3945 - val_accuracy: 0.8204\n",
            "Epoch 48/100\n",
            "175/175 [==============================] - 0s 2ms/step - loss: 0.4117 - accuracy: 0.8146 - val_loss: 0.3925 - val_accuracy: 0.8213\n",
            "Epoch 49/100\n",
            "175/175 [==============================] - 0s 2ms/step - loss: 0.4219 - accuracy: 0.8119 - val_loss: 0.3899 - val_accuracy: 0.8225\n",
            "Epoch 50/100\n",
            "175/175 [==============================] - 0s 2ms/step - loss: 0.4158 - accuracy: 0.8030 - val_loss: 0.3880 - val_accuracy: 0.8221\n",
            "Epoch 51/100\n",
            "175/175 [==============================] - 0s 2ms/step - loss: 0.4043 - accuracy: 0.8156 - val_loss: 0.3854 - val_accuracy: 0.8246\n",
            "Epoch 52/100\n",
            "175/175 [==============================] - 0s 2ms/step - loss: 0.3891 - accuracy: 0.8237 - val_loss: 0.3835 - val_accuracy: 0.8238\n",
            "Epoch 53/100\n",
            "175/175 [==============================] - 0s 2ms/step - loss: 0.3926 - accuracy: 0.8273 - val_loss: 0.3814 - val_accuracy: 0.8242\n",
            "Epoch 54/100\n",
            "175/175 [==============================] - 0s 2ms/step - loss: 0.4132 - accuracy: 0.8207 - val_loss: 0.3793 - val_accuracy: 0.8267\n",
            "Epoch 55/100\n",
            "175/175 [==============================] - 0s 2ms/step - loss: 0.4007 - accuracy: 0.8197 - val_loss: 0.3773 - val_accuracy: 0.8313\n",
            "Epoch 56/100\n",
            "175/175 [==============================] - 0s 2ms/step - loss: 0.4047 - accuracy: 0.8253 - val_loss: 0.3750 - val_accuracy: 0.8313\n",
            "Epoch 57/100\n",
            "175/175 [==============================] - 0s 2ms/step - loss: 0.4031 - accuracy: 0.8224 - val_loss: 0.3736 - val_accuracy: 0.8325\n",
            "Epoch 58/100\n",
            "175/175 [==============================] - 0s 2ms/step - loss: 0.3856 - accuracy: 0.8278 - val_loss: 0.3714 - val_accuracy: 0.8350\n",
            "Epoch 59/100\n",
            "175/175 [==============================] - 0s 2ms/step - loss: 0.3761 - accuracy: 0.8292 - val_loss: 0.3700 - val_accuracy: 0.8354\n",
            "Epoch 60/100\n",
            "175/175 [==============================] - 0s 2ms/step - loss: 0.3721 - accuracy: 0.8378 - val_loss: 0.3685 - val_accuracy: 0.8354\n",
            "Epoch 61/100\n",
            "175/175 [==============================] - 0s 2ms/step - loss: 0.3772 - accuracy: 0.8327 - val_loss: 0.3674 - val_accuracy: 0.8375\n",
            "Epoch 62/100\n",
            "175/175 [==============================] - 0s 2ms/step - loss: 0.3786 - accuracy: 0.8319 - val_loss: 0.3654 - val_accuracy: 0.8375\n",
            "Epoch 63/100\n",
            "175/175 [==============================] - 0s 2ms/step - loss: 0.3821 - accuracy: 0.8271 - val_loss: 0.3639 - val_accuracy: 0.8404\n",
            "Epoch 64/100\n",
            "175/175 [==============================] - 0s 2ms/step - loss: 0.3828 - accuracy: 0.8294 - val_loss: 0.3620 - val_accuracy: 0.8413\n",
            "Epoch 65/100\n",
            "175/175 [==============================] - 0s 2ms/step - loss: 0.3826 - accuracy: 0.8305 - val_loss: 0.3608 - val_accuracy: 0.8475\n",
            "Epoch 66/100\n",
            "175/175 [==============================] - 0s 2ms/step - loss: 0.3910 - accuracy: 0.8229 - val_loss: 0.3604 - val_accuracy: 0.8487\n",
            "Epoch 67/100\n",
            "175/175 [==============================] - 0s 2ms/step - loss: 0.3783 - accuracy: 0.8366 - val_loss: 0.3588 - val_accuracy: 0.8467\n",
            "Epoch 68/100\n",
            "175/175 [==============================] - 0s 3ms/step - loss: 0.3742 - accuracy: 0.8349 - val_loss: 0.3584 - val_accuracy: 0.8508\n",
            "Epoch 69/100\n",
            "175/175 [==============================] - 0s 2ms/step - loss: 0.3783 - accuracy: 0.8332 - val_loss: 0.3572 - val_accuracy: 0.8521\n",
            "Epoch 70/100\n",
            "175/175 [==============================] - 0s 2ms/step - loss: 0.3792 - accuracy: 0.8329 - val_loss: 0.3566 - val_accuracy: 0.8504\n",
            "Epoch 71/100\n",
            "175/175 [==============================] - 0s 2ms/step - loss: 0.3786 - accuracy: 0.8345 - val_loss: 0.3552 - val_accuracy: 0.8508\n",
            "Epoch 72/100\n",
            "175/175 [==============================] - 0s 2ms/step - loss: 0.3933 - accuracy: 0.8235 - val_loss: 0.3539 - val_accuracy: 0.8521\n",
            "Epoch 73/100\n",
            "175/175 [==============================] - 0s 2ms/step - loss: 0.3729 - accuracy: 0.8303 - val_loss: 0.3540 - val_accuracy: 0.8529\n",
            "Epoch 74/100\n",
            "175/175 [==============================] - 0s 2ms/step - loss: 0.3783 - accuracy: 0.8385 - val_loss: 0.3531 - val_accuracy: 0.8537\n",
            "Epoch 75/100\n",
            "175/175 [==============================] - 0s 2ms/step - loss: 0.3666 - accuracy: 0.8401 - val_loss: 0.3524 - val_accuracy: 0.8537\n",
            "Epoch 76/100\n",
            "175/175 [==============================] - 0s 2ms/step - loss: 0.3669 - accuracy: 0.8423 - val_loss: 0.3511 - val_accuracy: 0.8550\n",
            "Epoch 77/100\n",
            "175/175 [==============================] - 0s 2ms/step - loss: 0.3604 - accuracy: 0.8460 - val_loss: 0.3513 - val_accuracy: 0.8554\n",
            "Epoch 78/100\n",
            "175/175 [==============================] - 0s 2ms/step - loss: 0.3675 - accuracy: 0.8404 - val_loss: 0.3495 - val_accuracy: 0.8579\n",
            "Epoch 79/100\n",
            "175/175 [==============================] - 0s 2ms/step - loss: 0.3662 - accuracy: 0.8435 - val_loss: 0.3489 - val_accuracy: 0.8562\n",
            "Epoch 80/100\n",
            "175/175 [==============================] - 0s 2ms/step - loss: 0.3631 - accuracy: 0.8405 - val_loss: 0.3476 - val_accuracy: 0.8571\n",
            "Epoch 81/100\n",
            "175/175 [==============================] - 0s 2ms/step - loss: 0.3563 - accuracy: 0.8508 - val_loss: 0.3479 - val_accuracy: 0.8575\n",
            "Epoch 82/100\n",
            "175/175 [==============================] - 0s 2ms/step - loss: 0.3608 - accuracy: 0.8497 - val_loss: 0.3464 - val_accuracy: 0.8596\n",
            "Epoch 83/100\n",
            "175/175 [==============================] - 0s 2ms/step - loss: 0.3620 - accuracy: 0.8483 - val_loss: 0.3454 - val_accuracy: 0.8571\n",
            "Epoch 84/100\n",
            "175/175 [==============================] - 0s 2ms/step - loss: 0.3794 - accuracy: 0.8368 - val_loss: 0.3439 - val_accuracy: 0.8617\n",
            "Epoch 85/100\n",
            "175/175 [==============================] - 0s 2ms/step - loss: 0.3438 - accuracy: 0.8593 - val_loss: 0.3480 - val_accuracy: 0.8608\n",
            "Epoch 86/100\n",
            "175/175 [==============================] - 0s 2ms/step - loss: 0.3673 - accuracy: 0.8503 - val_loss: 0.3428 - val_accuracy: 0.8612\n",
            "Epoch 87/100\n",
            "175/175 [==============================] - 0s 2ms/step - loss: 0.3610 - accuracy: 0.8482 - val_loss: 0.3447 - val_accuracy: 0.8600\n",
            "Epoch 88/100\n",
            "175/175 [==============================] - 0s 2ms/step - loss: 0.3570 - accuracy: 0.8487 - val_loss: 0.3430 - val_accuracy: 0.8621\n",
            "Epoch 89/100\n",
            "175/175 [==============================] - 0s 2ms/step - loss: 0.3685 - accuracy: 0.8448 - val_loss: 0.3422 - val_accuracy: 0.8642\n",
            "Epoch 90/100\n",
            "175/175 [==============================] - 0s 2ms/step - loss: 0.3538 - accuracy: 0.8572 - val_loss: 0.3413 - val_accuracy: 0.8629\n",
            "Epoch 91/100\n",
            "175/175 [==============================] - 0s 2ms/step - loss: 0.3499 - accuracy: 0.8545 - val_loss: 0.3423 - val_accuracy: 0.8625\n",
            "Epoch 92/100\n",
            "175/175 [==============================] - 0s 3ms/step - loss: 0.3473 - accuracy: 0.8565 - val_loss: 0.3407 - val_accuracy: 0.8633\n",
            "Epoch 93/100\n",
            "175/175 [==============================] - 0s 2ms/step - loss: 0.3534 - accuracy: 0.8549 - val_loss: 0.3420 - val_accuracy: 0.8629\n",
            "Epoch 94/100\n",
            "175/175 [==============================] - 0s 3ms/step - loss: 0.3514 - accuracy: 0.8508 - val_loss: 0.3401 - val_accuracy: 0.8629\n",
            "Epoch 95/100\n",
            "175/175 [==============================] - 0s 2ms/step - loss: 0.3578 - accuracy: 0.8482 - val_loss: 0.3403 - val_accuracy: 0.8629\n",
            "Epoch 96/100\n",
            "175/175 [==============================] - 0s 2ms/step - loss: 0.3425 - accuracy: 0.8561 - val_loss: 0.3419 - val_accuracy: 0.8633\n",
            "Epoch 97/100\n",
            "175/175 [==============================] - 0s 2ms/step - loss: 0.3636 - accuracy: 0.8411 - val_loss: 0.3392 - val_accuracy: 0.8621\n",
            "Epoch 98/100\n",
            "175/175 [==============================] - 0s 3ms/step - loss: 0.3597 - accuracy: 0.8489 - val_loss: 0.3387 - val_accuracy: 0.8633\n",
            "Epoch 99/100\n",
            "175/175 [==============================] - 0s 2ms/step - loss: 0.3541 - accuracy: 0.8488 - val_loss: 0.3386 - val_accuracy: 0.8642\n",
            "Epoch 100/100\n",
            "175/175 [==============================] - 0s 2ms/step - loss: 0.3548 - accuracy: 0.8578 - val_loss: 0.3374 - val_accuracy: 0.8646\n"
          ],
          "name": "stdout"
        }
      ]
    },
    {
      "cell_type": "code",
      "metadata": {
        "id": "TMkZDzcvlSpE",
        "outputId": "991d1a18-65b3-47f5-e7cc-e50d66f12c70",
        "colab": {
          "base_uri": "https://localhost:8080/"
        }
      },
      "source": [
        "y_test"
      ],
      "execution_count": 224,
      "outputs": [
        {
          "output_type": "execute_result",
          "data": {
            "text/plain": [
              "array([[1., 0.],\n",
              "       [1., 0.],\n",
              "       [1., 0.],\n",
              "       ...,\n",
              "       [1., 0.],\n",
              "       [1., 0.],\n",
              "       [1., 0.]], dtype=float32)"
            ]
          },
          "metadata": {
            "tags": []
          },
          "execution_count": 224
        }
      ]
    },
    {
      "cell_type": "code",
      "metadata": {
        "id": "UX3SA2PFj5sG",
        "outputId": "e06ade99-61c3-498f-aee0-2c5dac230047",
        "colab": {
          "base_uri": "https://localhost:8080/",
          "height": 295
        }
      },
      "source": [
        "plt.plot(history.history['accuracy'])\n",
        "plt.plot(history.history['val_accuracy'])\n",
        "plt.title('model accuracy')\n",
        "plt.ylabel('accuracy')\n",
        "plt.xlabel('epoch')\n",
        "plt.legend(['train', 'test'], loc='upper left')\n",
        "plt.show()"
      ],
      "execution_count": 225,
      "outputs": [
        {
          "output_type": "display_data",
          "data": {
            "image/png": "[encoded data removed]",
            "text/plain": [
              "<Figure size 432x288 with 1 Axes>"
            ]
          },
          "metadata": {
            "tags": [],
            "needs_background": "light"
          }
        }
      ]
    },
    {
      "cell_type": "code",
      "metadata": {
        "id": "32wfu4wjkeqC",
        "outputId": "40a81da4-7662-4cbf-a2ff-a5639f1506a9",
        "colab": {
          "base_uri": "https://localhost:8080/"
        }
      },
      "source": [
        "y_pred=classifier.predict(X_test)\n",
        "\n",
        "y_pred=(y_pred>0.5)\n",
        "\n",
        "metrics.accuracy_score(y_test, y_pred)"
      ],
      "execution_count": 226,
      "outputs": [
        {
          "output_type": "execute_result",
          "data": {
            "text/plain": [
              "0.86"
            ]
          },
          "metadata": {
            "tags": []
          },
          "execution_count": 226
        }
      ]
    }
  ]
}